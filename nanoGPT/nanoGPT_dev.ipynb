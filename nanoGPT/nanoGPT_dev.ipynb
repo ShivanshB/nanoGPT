{
 "cells": [
  {
   "cell_type": "markdown",
   "id": "68c070a2-de3a-4b3c-9c57-12031c0063ae",
   "metadata": {},
   "source": [
    "# Constructing a Mini ChatGPT"
   ]
  },
  {
   "cell_type": "code",
   "execution_count": 2,
   "id": "46cbac9c-0479-4f8e-9c4f-bbdffe625637",
   "metadata": {
    "scrolled": true
   },
   "outputs": [],
   "source": [
    "import torch\n",
    "\n",
    "from torch import nn\n",
    "from matplotlib import pyplot as plt\n",
    "from torch.nn import functional as F\n",
    "from urllib.request import urlretrieve"
   ]
  },
  {
   "cell_type": "code",
   "execution_count": 3,
   "id": "80fe3510-1ef1-4e16-a0a8-9931f7bd5536",
   "metadata": {},
   "outputs": [],
   "source": [
    "# loading the accumulation of shakespeare's texts in raw format\n",
    "local_filename, headers = urlretrieve(\"https://raw.githubusercontent.com/karpathy/char-rnn/master/data/tinyshakespeare/input.txt\")"
   ]
  },
  {
   "cell_type": "code",
   "execution_count": 4,
   "id": "2a3eb997-8224-4d35-9e62-64c9f1b218b0",
   "metadata": {},
   "outputs": [
    {
     "name": "stdout",
     "output_type": "stream",
     "text": [
      "length of input.txt in chars: 1115394\n",
      "First Citizen:\n",
      "Before we proceed any further, hear me speak.\n",
      "\n",
      "All:\n",
      "Speak, speak.\n",
      "\n",
      "First Citizen:\n",
      "You are all resolved rather to die than to famish?\n",
      "\n",
      "All:\n",
      "Resolved. resolved.\n",
      "\n",
      "First Citizen:\n",
      "First, you know Caius Marcius is chief enemy to the people.\n",
      "\n",
      "All:\n",
      "We know't, we know't.\n",
      "\n",
      "First Citizen:\n",
      "Let us kill him, and we'll have corn at our own price.\n",
      "Is't a verdict?\n",
      "\n",
      "All:\n",
      "No more talking on't; let it be done: away, away!\n",
      "\n",
      "Second Citizen:\n",
      "One word, good citizens.\n",
      "\n",
      "First Citizen:\n",
      "We are accounted poor citizens, the patricians good.\n",
      "What authority surfeits on would relieve us: if they\n",
      "would yield us but the superfluity, while it were\n",
      "wholesome, we might guess they relieved us humanely;\n",
      "but they think we are too dear: the leanness that\n",
      "afflicts us, the object of our misery, is as an\n",
      "inventory to particularise their abundance; our\n",
      "sufferance is a gain to them Let us revenge this with\n",
      "our pikes, ere we become rakes: for the gods know I\n",
      "speak this in hunger for bread, not in thirst for revenge.\n",
      "\n",
      "\n"
     ]
    }
   ],
   "source": [
    "# loading the text from the above input.txt\n",
    "with open(local_filename, 'r', encoding='utf-8') as f:\n",
    "    text = f.read()\n",
    "print(f\"length of input.txt in chars: {len(text)}\")\n",
    "print(text[:1000])"
   ]
  },
  {
   "cell_type": "code",
   "execution_count": 5,
   "id": "784ec3ac-adb5-477c-b279-499d588b02b7",
   "metadata": {},
   "outputs": [
    {
     "name": "stdout",
     "output_type": "stream",
     "text": [
      "there are 65 chars in our vocab\n",
      "z y x w v u t s r q p o n m l k j i h g f e d c b a Z Y X W V U T S R Q P O N M L K J I H G F E D C B A ? ; : 3 . - , ' & $ !   \n",
      "\n"
     ]
    }
   ],
   "source": [
    "# process the text and establish our vocabulary\n",
    "chars = sorted(list(set(text)))\n",
    "vocab_size = len(chars)\n",
    "print(f\"there are {vocab_size} chars in our vocab\")\n",
    "print(' '.join(chars)[::-1])"
   ]
  },
  {
   "cell_type": "code",
   "execution_count": 6,
   "id": "a13aeeb5-6d16-4a92-9814-7bd02e62c9ab",
   "metadata": {},
   "outputs": [
    {
     "name": "stdout",
     "output_type": "stream",
     "text": [
      "[58, 43, 57, 58, 47, 52, 45]\n",
      "testing\n"
     ]
    }
   ],
   "source": [
    "# creating a basic mapping f: chars -> [0, 64] as a rudimentary encoder; and vice-versa as a decoder\n",
    "stoi = {char : i for i, char in enumerate(chars)}\n",
    "itos = {i : char for i, char in enumerate(chars)}\n",
    "\n",
    "encode = lambda s: [stoi[c] for c in s]\n",
    "decode = lambda i: ''.join([itos[j] for j in i])\n",
    "\n",
    "# toy example for demonstration purposes\n",
    "encoding = encode(\"testing\")\n",
    "print(encoding)\n",
    "print(decode(encoding))"
   ]
  },
  {
   "cell_type": "code",
   "execution_count": 7,
   "id": "a09a7883-4c78-420f-9c06-1a9d4bee452a",
   "metadata": {},
   "outputs": [
    {
     "name": "stdout",
     "output_type": "stream",
     "text": [
      "torch.Size([1115394]) torch.int64\n",
      "tensor([18, 47, 56, 57, 58,  1, 15, 47, 58, 47, 64, 43, 52, 10,  0, 14, 43, 44,\n",
      "        53, 56, 43,  1, 61, 43,  1, 54, 56, 53, 41, 43, 43, 42,  1, 39, 52, 63,\n",
      "         1, 44, 59, 56, 58, 46, 43, 56,  6,  1, 46, 43, 39, 56,  1, 51, 43,  1,\n",
      "        57, 54, 43, 39, 49,  8,  0,  0, 13, 50, 50, 10,  0, 31, 54, 43, 39, 49,\n",
      "         6,  1, 57, 54, 43, 39, 49,  8,  0,  0, 18, 47, 56, 57, 58,  1, 15, 47,\n",
      "        58, 47, 64, 43, 52, 10,  0, 37, 53, 59,  1, 39, 56, 43,  1, 39, 50, 50,\n",
      "         1, 56, 43, 57, 53, 50, 60, 43, 42,  1, 56, 39, 58, 46, 43, 56,  1, 58,\n",
      "        53,  1, 42, 47, 43,  1, 58, 46, 39, 52,  1, 58, 53,  1, 44, 39, 51, 47,\n",
      "        57, 46, 12,  0,  0, 13, 50, 50, 10,  0, 30, 43, 57, 53, 50, 60, 43, 42,\n",
      "         8,  1, 56, 43, 57, 53, 50, 60, 43, 42,  8,  0,  0, 18, 47, 56, 57, 58,\n",
      "         1, 15, 47, 58, 47, 64, 43, 52, 10,  0, 18, 47, 56, 57, 58,  6,  1, 63,\n",
      "        53, 59,  1, 49, 52, 53, 61,  1, 15, 39, 47, 59, 57,  1, 25, 39, 56, 41,\n",
      "        47, 59, 57,  1, 47, 57,  1, 41, 46, 47, 43, 44,  1, 43, 52, 43, 51, 63,\n",
      "         1, 58, 53,  1, 58, 46, 43,  1, 54, 43, 53, 54, 50, 43,  8,  0,  0, 13,\n",
      "        50, 50, 10,  0, 35, 43,  1, 49, 52, 53, 61,  5, 58,  6,  1, 61, 43,  1,\n",
      "        49, 52, 53, 61,  5, 58,  8,  0,  0, 18, 47, 56, 57, 58,  1, 15, 47, 58,\n",
      "        47, 64, 43, 52, 10,  0, 24, 43, 58,  1, 59, 57,  1, 49, 47, 50, 50,  1,\n",
      "        46, 47, 51,  6,  1, 39, 52, 42,  1, 61, 43,  5, 50, 50,  1, 46, 39, 60,\n",
      "        43,  1, 41, 53, 56, 52,  1, 39, 58,  1, 53, 59, 56,  1, 53, 61, 52,  1,\n",
      "        54, 56, 47, 41, 43,  8,  0, 21, 57,  5, 58,  1, 39,  1, 60, 43, 56, 42,\n",
      "        47, 41, 58, 12,  0,  0, 13, 50, 50, 10,  0, 26, 53,  1, 51, 53, 56, 43,\n",
      "         1, 58, 39, 50, 49, 47, 52, 45,  1, 53, 52,  5, 58, 11,  1, 50, 43, 58,\n",
      "         1, 47, 58,  1, 40, 43,  1, 42, 53, 52, 43, 10,  1, 39, 61, 39, 63,  6,\n",
      "         1, 39, 61, 39, 63,  2,  0,  0, 31, 43, 41, 53, 52, 42,  1, 15, 47, 58,\n",
      "        47, 64, 43, 52, 10,  0, 27, 52, 43,  1, 61, 53, 56, 42,  6,  1, 45, 53,\n",
      "        53, 42,  1, 41, 47, 58, 47, 64, 43, 52, 57,  8,  0,  0, 18, 47, 56, 57,\n",
      "        58,  1, 15, 47, 58, 47, 64, 43, 52, 10,  0, 35, 43,  1, 39, 56, 43,  1,\n",
      "        39, 41, 41, 53, 59, 52, 58, 43, 42,  1, 54, 53, 53, 56,  1, 41, 47, 58,\n",
      "        47, 64, 43, 52, 57,  6,  1, 58, 46, 43,  1, 54, 39, 58, 56, 47, 41, 47,\n",
      "        39, 52, 57,  1, 45, 53, 53, 42,  8,  0, 35, 46, 39, 58,  1, 39, 59, 58,\n",
      "        46, 53, 56, 47, 58, 63,  1, 57, 59, 56, 44, 43, 47, 58, 57,  1, 53, 52,\n",
      "         1, 61, 53, 59, 50, 42,  1, 56, 43, 50, 47, 43, 60, 43,  1, 59, 57, 10,\n",
      "         1, 47, 44,  1, 58, 46, 43, 63,  0, 61, 53, 59, 50, 42,  1, 63, 47, 43,\n",
      "        50, 42,  1, 59, 57,  1, 40, 59, 58,  1, 58, 46, 43,  1, 57, 59, 54, 43,\n",
      "        56, 44, 50, 59, 47, 58, 63,  6,  1, 61, 46, 47, 50, 43,  1, 47, 58,  1,\n",
      "        61, 43, 56, 43,  0, 61, 46, 53, 50, 43, 57, 53, 51, 43,  6,  1, 61, 43,\n",
      "         1, 51, 47, 45, 46, 58,  1, 45, 59, 43, 57, 57,  1, 58, 46, 43, 63,  1,\n",
      "        56, 43, 50, 47, 43, 60, 43, 42,  1, 59, 57,  1, 46, 59, 51, 39, 52, 43,\n",
      "        50, 63, 11,  0, 40, 59, 58,  1, 58, 46, 43, 63,  1, 58, 46, 47, 52, 49,\n",
      "         1, 61, 43,  1, 39, 56, 43,  1, 58, 53, 53,  1, 42, 43, 39, 56, 10,  1,\n",
      "        58, 46, 43,  1, 50, 43, 39, 52, 52, 43, 57, 57,  1, 58, 46, 39, 58,  0,\n",
      "        39, 44, 44, 50, 47, 41, 58, 57,  1, 59, 57,  6,  1, 58, 46, 43,  1, 53,\n",
      "        40, 48, 43, 41, 58,  1, 53, 44,  1, 53, 59, 56,  1, 51, 47, 57, 43, 56,\n",
      "        63,  6,  1, 47, 57,  1, 39, 57,  1, 39, 52,  0, 47, 52, 60, 43, 52, 58,\n",
      "        53, 56, 63,  1, 58, 53,  1, 54, 39, 56, 58, 47, 41, 59, 50, 39, 56, 47,\n",
      "        57, 43,  1, 58, 46, 43, 47, 56,  1, 39, 40, 59, 52, 42, 39, 52, 41, 43,\n",
      "        11,  1, 53, 59, 56,  0, 57, 59, 44, 44, 43, 56, 39, 52, 41, 43,  1, 47,\n",
      "        57,  1, 39,  1, 45, 39, 47, 52,  1, 58, 53,  1, 58, 46, 43, 51,  1, 24,\n",
      "        43, 58,  1, 59, 57,  1, 56, 43, 60, 43, 52, 45, 43,  1, 58, 46, 47, 57,\n",
      "         1, 61, 47, 58, 46,  0, 53, 59, 56,  1, 54, 47, 49, 43, 57,  6,  1, 43,\n",
      "        56, 43,  1, 61, 43,  1, 40, 43, 41, 53, 51, 43,  1, 56, 39, 49, 43, 57,\n",
      "        10,  1, 44, 53, 56,  1, 58, 46, 43,  1, 45, 53, 42, 57,  1, 49, 52, 53,\n",
      "        61,  1, 21,  0, 57, 54, 43, 39, 49,  1, 58, 46, 47, 57,  1, 47, 52,  1,\n",
      "        46, 59, 52, 45, 43, 56,  1, 44, 53, 56,  1, 40, 56, 43, 39, 42,  6,  1,\n",
      "        52, 53, 58,  1, 47, 52,  1, 58, 46, 47, 56, 57, 58,  1, 44, 53, 56,  1,\n",
      "        56, 43, 60, 43, 52, 45, 43,  8,  0,  0])\n"
     ]
    }
   ],
   "source": [
    "data = torch.tensor(encode(text), dtype=torch.long)\n",
    "print(data.shape, data.dtype)\n",
    "print(data[:1000])   "
   ]
  },
  {
   "cell_type": "code",
   "execution_count": 8,
   "id": "9a1fb95e-80e9-445f-8074-651f3548277f",
   "metadata": {},
   "outputs": [],
   "source": [
    "# 90% 105 train test split\n",
    "n = int(0.9 * len(data))\n",
    "\n",
    "# train test split\n",
    "train_data = data[:n]\n",
    "test_data = data[n:]"
   ]
  },
  {
   "cell_type": "code",
   "execution_count": 9,
   "id": "bd3e7fd8-6cf5-4367-ba5a-3e8d5d1b4517",
   "metadata": {},
   "outputs": [
    {
     "name": "stdout",
     "output_type": "stream",
     "text": [
      "inputs:\n",
      "torch.Size([4, 8])\n",
      "tensor([[ 1, 58, 53,  1, 58, 46, 43,  1],\n",
      "        [58, 63, 11,  1, 52, 53, 58,  1],\n",
      "        [52, 42, 43, 56,  1, 45, 39, 45],\n",
      "        [51, 39, 63, 53, 56,  1, 53, 44]])\n",
      "targets:\n",
      "torch.Size([4, 8])\n",
      "tensor([[58, 53,  1, 58, 46, 43,  1, 15],\n",
      "        [63, 11,  1, 52, 53, 58,  1, 39],\n",
      "        [42, 43, 56,  1, 45, 39, 45, 43],\n",
      "        [39, 63, 53, 56,  1, 53, 44,  1]])\n",
      "------------------------------------------------------------------------\n",
      "when input is [1] the target: 58\n",
      "when input is [1, 58] the target: 53\n",
      "when input is [1, 58, 53] the target: 1\n",
      "when input is [1, 58, 53, 1] the target: 58\n",
      "when input is [1, 58, 53, 1, 58] the target: 46\n",
      "when input is [1, 58, 53, 1, 58, 46] the target: 43\n",
      "when input is [1, 58, 53, 1, 58, 46, 43] the target: 1\n",
      "when input is [1, 58, 53, 1, 58, 46, 43, 1] the target: 15\n",
      "------------------------------------------------------------------------\n",
      "when input is [58] the target: 63\n",
      "when input is [58, 63] the target: 11\n",
      "when input is [58, 63, 11] the target: 1\n",
      "when input is [58, 63, 11, 1] the target: 52\n",
      "when input is [58, 63, 11, 1, 52] the target: 53\n",
      "when input is [58, 63, 11, 1, 52, 53] the target: 58\n",
      "when input is [58, 63, 11, 1, 52, 53, 58] the target: 1\n",
      "when input is [58, 63, 11, 1, 52, 53, 58, 1] the target: 39\n",
      "------------------------------------------------------------------------\n",
      "when input is [52] the target: 42\n",
      "when input is [52, 42] the target: 43\n",
      "when input is [52, 42, 43] the target: 56\n",
      "when input is [52, 42, 43, 56] the target: 1\n",
      "when input is [52, 42, 43, 56, 1] the target: 45\n",
      "when input is [52, 42, 43, 56, 1, 45] the target: 39\n",
      "when input is [52, 42, 43, 56, 1, 45, 39] the target: 45\n",
      "when input is [52, 42, 43, 56, 1, 45, 39, 45] the target: 43\n",
      "------------------------------------------------------------------------\n",
      "when input is [51] the target: 39\n",
      "when input is [51, 39] the target: 63\n",
      "when input is [51, 39, 63] the target: 53\n",
      "when input is [51, 39, 63, 53] the target: 56\n",
      "when input is [51, 39, 63, 53, 56] the target: 1\n",
      "when input is [51, 39, 63, 53, 56, 1] the target: 53\n",
      "when input is [51, 39, 63, 53, 56, 1, 53] the target: 44\n",
      "when input is [51, 39, 63, 53, 56, 1, 53, 44] the target: 1\n"
     ]
    }
   ],
   "source": [
    "# parameterize batching and context\n",
    "batch_size = 4\n",
    "block_size = 8\n",
    "\n",
    "def get_batch(split):\n",
    "    \n",
    "    data = test_data if split == 'test' else train_data\n",
    "    ix = torch.randint(len(data) - block_size, (batch_size,))\n",
    "    x = torch.stack([data[i:i+block_size] for i in ix])\n",
    "    y = torch.stack([data[i+1:i+block_size+1] for i in ix])\n",
    "\n",
    "    return x, y\n",
    "\n",
    "xb, yb = get_batch('train')\n",
    "print('inputs:')\n",
    "print(xb.shape)\n",
    "print(xb)\n",
    "print('targets:')\n",
    "print(yb.shape)\n",
    "print(yb)\n",
    "\n",
    "for b in range(batch_size): # batch dimension\n",
    "\n",
    "    print('------------------------------------------------------------------------')\n",
    "    \n",
    "    for t in range(block_size): # time dimension\n",
    "        context = xb[b, :t+1]\n",
    "        target = yb[b,t]\n",
    "        print(f\"when input is {context.tolist()} the target: {target}\")"
   ]
  },
  {
   "cell_type": "code",
   "execution_count": 10,
   "id": "417eede9-924a-4dae-9da7-5d1cb445adea",
   "metadata": {},
   "outputs": [
    {
     "name": "stdout",
     "output_type": "stream",
     "text": [
      "torch.Size([32, 65]) 4.797887802124023\n",
      "\n",
      "NhipvV\n",
      "XXk3b-UydztX$efk,  yw.nLBv.3w'PzlfkrSkDy?WjsUeljbpyXDxlDyo;W-KwdWPf&rhnezhCPCjiYvKgOZ?zCWA yn\n"
     ]
    }
   ],
   "source": [
    "class BigramLanguageModel(nn.Module):\n",
    "\n",
    "    def __init__(self, vocab_size):\n",
    "        super().__init__()\n",
    "\n",
    "        # create embedding lookup table\n",
    "        self.token_embedding_table = nn.Embedding(vocab_size, vocab_size)\n",
    "\n",
    "\n",
    "    def forward(self, idx, targets=None): \n",
    "        logits = self.token_embedding_table(idx)\n",
    "        if targets == None:\n",
    "            loss = None\n",
    "        else:\n",
    "            B, T, C = logits.shape\n",
    "            logits = logits.view(B*T, C)\n",
    "            targets = targets.view(B*T)\n",
    "            loss = F.cross_entropy(logits, targets)\n",
    "        return logits, loss\n",
    "\n",
    "    def generate(self, idx, max_new_tokens):\n",
    "        for _ in range(max_new_tokens):\n",
    "            logits, loss = self(idx)\n",
    "            logits = logits[:, -1, :]\n",
    "            probs = F.softmax(logits, dim=-1)\n",
    "            idx_next = torch.multinomial(probs, num_samples=1)\n",
    "            idx = torch.cat((idx, idx_next), dim=1)\n",
    "        return idx\n",
    "\n",
    "m = BigramLanguageModel(vocab_size)\n",
    "logits, loss = m(xb, yb)\n",
    "print(logits.shape, loss.item())\n",
    "\n",
    "print(decode(m.generate(idx=torch.zeros((1,1), dtype=torch.long), max_new_tokens=100)[0].tolist()))"
   ]
  },
  {
   "cell_type": "code",
   "execution_count": 11,
   "id": "1c634d2f-4f6e-4b0c-b4ba-d7e775c96453",
   "metadata": {},
   "outputs": [],
   "source": [
    "# instantiating the optimizer\n",
    "optimizer = torch.optim.AdamW(m.parameters(), lr=1e-3)"
   ]
  },
  {
   "cell_type": "code",
   "execution_count": 12,
   "id": "3ecb6215-e54c-4436-8a04-8584abb36d04",
   "metadata": {},
   "outputs": [],
   "source": [
    "batch_size = 32\n",
    "losses = []\n",
    "\n",
    "for steps in range(10000):\n",
    "    \n",
    "    # sample a batch of data\n",
    "    xb, yb = get_batch('train')\n",
    "\n",
    "    # evaluate loss\n",
    "    logits, loss = m(xb, yb)\n",
    "    optimizer.zero_grad(set_to_none=True)\n",
    "    loss.backward()\n",
    "    optimizer.step()\n",
    "\n",
    "    losses.append(loss.item())"
   ]
  },
  {
   "cell_type": "code",
   "execution_count": 13,
   "id": "2788c722-8f8f-4c97-811c-52f23857e940",
   "metadata": {},
   "outputs": [
    {
     "data": {
      "text/plain": [
       "[<matplotlib.lines.Line2D at 0x167b3e1f0>]"
      ]
     },
     "execution_count": 13,
     "metadata": {},
     "output_type": "execute_result"
    },
    {
     "data": {
      "image/png": "[encoded data removed]",
      "text/plain": [
       "<Figure size 640x480 with 1 Axes>"
      ]
     },
     "metadata": {},
     "output_type": "display_data"
    }
   ],
   "source": [
    "plt.plot(losses)"
   ]
  },
  {
   "cell_type": "code",
   "execution_count": 14,
   "id": "a3b88e4f-6d72-49fb-a2d3-e54c68cceeac",
   "metadata": {},
   "outputs": [
    {
     "name": "stdout",
     "output_type": "stream",
     "text": [
      "\n",
      "OFe pe w'swin mpenstorore itofist--Mand, mo.\n",
      "Wootowis ELI the m poerr meab!\n",
      "fin y thondou me buienon thither bicqCIFrikef hirduralle mothe t'dorde ad bure,-ayof onbe, iso erinth N haspr IOr is, osstourwinorat me'tllith ad CA the, ad:!\n",
      "\n",
      "foweme ge t be; blinort vet fothay he sal anore ju we pke s me:\n",
      "uiss lofumechutheenorabthereses\n",
      "Worod od ace f ou. mpe canit w. 'doo leon the!\n",
      "W: apindes igickntis wnsie anf?DO, tw\n",
      "hant d NIOPlaner hise t facus ave cejume bapis s nsey?\n",
      "Kipllllithod\n",
      "Tor gemy:\n",
      "t dak\n"
     ]
    }
   ],
   "source": [
    "print(decode(m.generate(idx=torch.zeros((1,1), dtype=torch.long), max_new_tokens=500)[0].tolist()))"
   ]
  },
  {
   "cell_type": "markdown",
   "id": "4172df24-1f19-4441-bd2a-02dd365c9f74",
   "metadata": {},
   "source": [
    "# Building up to Self Attention"
   ]
  },
  {
   "cell_type": "markdown",
   "id": "3539d957-22b3-401a-8c7e-eaa149e4ef0c",
   "metadata": {},
   "source": [
    "Note that the bottleneck in the bigram model's perform is because of it's limited context. The distribution of the next character is conditioned **only** on the distribution of the previous character, a prior that is too weak and does not contain enough information. Knowing the complexity of language, we know that it is a much more complex distribution and that we would require many more degrees of freedom, in this case letters of context, to accurately model it.\n",
    "\n",
    "Now, consider the basic ways in which one might provide context for the previous characters as input to the model. The simplest and most naive form of context would be an average of the previous letters. This can be done naively using for loops or in a more efficient, vectorized format using matrices and broadcasting. We will demonstrate both of these methods and in the process, build up to self-attention."
   ]
  },
  {
   "cell_type": "markdown",
   "id": "d928b016-44ea-4589-8499-e49ed5c34725",
   "metadata": {},
   "source": [
    "## Setup"
   ]
  },
  {
   "cell_type": "code",
   "execution_count": 22,
   "id": "5eeec325-11bb-44ac-9ed9-7f346d9293ee",
   "metadata": {},
   "outputs": [
    {
     "data": {
      "text/plain": [
       "torch.Size([4, 8, 2])"
      ]
     },
     "execution_count": 22,
     "metadata": {},
     "output_type": "execute_result"
    }
   ],
   "source": [
    "B, T, C = 4, 8, 2 # batch, time, channel\n",
    "x = torch.randn(B, T, C)\n",
    "x.shape"
   ]
  },
  {
   "cell_type": "markdown",
   "id": "0de37b66-cd05-496d-b108-a11c9454686b",
   "metadata": {},
   "source": [
    "## Method 1: For Loops (Naive)"
   ]
  },
  {
   "cell_type": "code",
   "execution_count": 29,
   "id": "14b40c23-7112-4e71-8667-6dab15237ede",
   "metadata": {},
   "outputs": [],
   "source": [
    "xbow = torch.zeros((B, T, C)) # bow = bag of words\n",
    "for b in range(B):\n",
    "    for t in range(T):\n",
    "        xprev = x[b, :t+1]\n",
    "        xbow[b,t] = torch.mean(xprev, 0)"
   ]
  },
  {
   "cell_type": "markdown",
   "id": "72c97758-6901-4dea-a6cf-72ce5467b3fd",
   "metadata": {},
   "source": [
    "## Method 2: Matrix Multiple for Weighted Aggregation"
   ]
  },
  {
   "cell_type": "code",
   "execution_count": 28,
   "id": "62646679-0053-414c-9b47-d2adc241c700",
   "metadata": {},
   "outputs": [
    {
     "data": {
      "text/plain": [
       "True"
      ]
     },
     "execution_count": 28,
     "metadata": {},
     "output_type": "execute_result"
    }
   ],
   "source": [
    "wei = torch.tril(torch.ones(T,T))\n",
    "wei = wei / wei.sum(1, keepdim=True)\n",
    "xbow2 = wei @ x\n",
    "torch.allclose(xbow, xbow2)"
   ]
  },
  {
   "cell_type": "markdown",
   "id": "7e72d888-5b59-4c2c-8ec4-40350950100f",
   "metadata": {},
   "source": [
    "## Method 3: Using Softmax"
   ]
  },
  {
   "cell_type": "code",
   "execution_count": 18,
   "id": "4df4cf94-37bf-4ac4-95de-aba753c738b9",
   "metadata": {},
   "outputs": [
    {
     "data": {
      "text/plain": [
       "True"
      ]
     },
     "execution_count": 18,
     "metadata": {},
     "output_type": "execute_result"
    }
   ],
   "source": [
    "tril = torch.tril(torch.ones(T,T))\n",
    "wei = torch.zeros((T,T))\n",
    "wei = wei.masked_fill(tril == 0, float('-inf'))\n",
    "wei = F.softmax(wei, dim=-1)\n",
    "xbow3 = wei @ x\n",
    "torch.allclose(xbow, xbow3)"
   ]
  },
  {
   "cell_type": "markdown",
   "id": "9d41cdeb-5323-4ca0-82d8-7e387fbe7c8b",
   "metadata": {},
   "source": [
    "## Method 4: Self Attention (Single-Head)"
   ]
  },
  {
   "cell_type": "code",
   "execution_count": 60,
   "id": "30b26e38-63f2-41a3-b6cd-ea63719742a0",
   "metadata": {},
   "outputs": [
    {
     "data": {
      "text/plain": [
       "tensor([[[1.0000, 0.0000, 0.0000, 0.0000, 0.0000, 0.0000, 0.0000, 0.0000],\n",
       "         [0.5041, 0.4959, 0.0000, 0.0000, 0.0000, 0.0000, 0.0000, 0.0000],\n",
       "         [0.2786, 0.3312, 0.3901, 0.0000, 0.0000, 0.0000, 0.0000, 0.0000],\n",
       "         [0.2122, 0.3152, 0.1767, 0.2959, 0.0000, 0.0000, 0.0000, 0.0000],\n",
       "         [0.2212, 0.1544, 0.2248, 0.1813, 0.2183, 0.0000, 0.0000, 0.0000],\n",
       "         [0.1427, 0.1249, 0.1321, 0.1791, 0.1689, 0.2523, 0.0000, 0.0000],\n",
       "         [0.1660, 0.1760, 0.1220, 0.1390, 0.1466, 0.1382, 0.1121, 0.0000],\n",
       "         [0.1049, 0.1649, 0.1653, 0.0965, 0.0976, 0.0701, 0.1112, 0.1894]],\n",
       "\n",
       "        [[1.0000, 0.0000, 0.0000, 0.0000, 0.0000, 0.0000, 0.0000, 0.0000],\n",
       "         [0.5569, 0.4431, 0.0000, 0.0000, 0.0000, 0.0000, 0.0000, 0.0000],\n",
       "         [0.2703, 0.3612, 0.3685, 0.0000, 0.0000, 0.0000, 0.0000, 0.0000],\n",
       "         [0.1655, 0.3096, 0.2028, 0.3222, 0.0000, 0.0000, 0.0000, 0.0000],\n",
       "         [0.2457, 0.1198, 0.2599, 0.1721, 0.2025, 0.0000, 0.0000, 0.0000],\n",
       "         [0.2271, 0.1621, 0.0906, 0.1731, 0.1642, 0.1829, 0.0000, 0.0000],\n",
       "         [0.0649, 0.0896, 0.2257, 0.0744, 0.1742, 0.1577, 0.2136, 0.0000],\n",
       "         [0.1245, 0.1016, 0.1741, 0.1128, 0.1068, 0.1616, 0.0950, 0.1236]],\n",
       "\n",
       "        [[1.0000, 0.0000, 0.0000, 0.0000, 0.0000, 0.0000, 0.0000, 0.0000],\n",
       "         [0.4508, 0.5492, 0.0000, 0.0000, 0.0000, 0.0000, 0.0000, 0.0000],\n",
       "         [0.2653, 0.4629, 0.2717, 0.0000, 0.0000, 0.0000, 0.0000, 0.0000],\n",
       "         [0.3540, 0.2584, 0.1770, 0.2105, 0.0000, 0.0000, 0.0000, 0.0000],\n",
       "         [0.2164, 0.1769, 0.1822, 0.2372, 0.1874, 0.0000, 0.0000, 0.0000],\n",
       "         [0.1308, 0.1738, 0.1744, 0.1361, 0.2125, 0.1723, 0.0000, 0.0000],\n",
       "         [0.0855, 0.1035, 0.1697, 0.0762, 0.1946, 0.2093, 0.1611, 0.0000],\n",
       "         [0.1105, 0.1139, 0.1302, 0.1073, 0.1578, 0.1354, 0.0975, 0.1476]],\n",
       "\n",
       "        [[1.0000, 0.0000, 0.0000, 0.0000, 0.0000, 0.0000, 0.0000, 0.0000],\n",
       "         [0.4300, 0.5700, 0.0000, 0.0000, 0.0000, 0.0000, 0.0000, 0.0000],\n",
       "         [0.2682, 0.2918, 0.4399, 0.0000, 0.0000, 0.0000, 0.0000, 0.0000],\n",
       "         [0.3782, 0.2180, 0.2302, 0.1737, 0.0000, 0.0000, 0.0000, 0.0000],\n",
       "         [0.2653, 0.2261, 0.1766, 0.1651, 0.1669, 0.0000, 0.0000, 0.0000],\n",
       "         [0.2663, 0.2713, 0.1006, 0.1218, 0.1328, 0.1072, 0.0000, 0.0000],\n",
       "         [0.1243, 0.2530, 0.1696, 0.1343, 0.1133, 0.1192, 0.0863, 0.0000],\n",
       "         [0.1396, 0.1027, 0.1420, 0.1267, 0.1075, 0.1426, 0.1179, 0.1210]]],\n",
       "       grad_fn=<SoftmaxBackward0>)"
      ]
     },
     "execution_count": 60,
     "metadata": {},
     "output_type": "execute_result"
    }
   ],
   "source": [
    "B, T, C = 4, 8, 32 # batch, time, channels\n",
    "x = torch.randn(B, T, C)\n",
    "\n",
    "# single head of attention\n",
    "head_size = 16\n",
    "key = nn.Linear(C, head_size, bias=False)\n",
    "query = nn.Linear(C, head_size, bias=False)\n",
    "value = nn.Linear(C, head_size, bias=False)\n",
    "\n",
    "k = key(x) # (B x T x head_size)\n",
    "q = query(x) # (B x T x head_size)\n",
    "wei = q @ k.transpose(-2, -1) * (head_size ** -0.5) #  (B x T x 16) x (B x 16 x T) = (B x T x T)\n",
    "\n",
    "tril = torch.tril(torch.ones(T,T)) # lower trianglular matrix of ones -- masking for masked attention\n",
    "# wei = torch.zeros((T,T)) -- no longer need this because we are calculating wei from the data above\n",
    "wei = wei.masked_fill(tril == 0, float('-inf'))\n",
    "wei = F.softmax(wei, dim=-1)\n",
    "\n",
    "v = value(x)\n",
    "out = wei @ v\n",
    "\n",
    "out = wei @ x\n",
    "wei"
   ]
  },
  {
   "cell_type": "markdown",
   "id": "1a2bbec4-5de4-4b54-b133-54deebf8eb8b",
   "metadata": {},
   "source": [
    "## Implementing a Self-Attention Head"
   ]
  },
  {
   "cell_type": "code",
   "execution_count": 74,
   "id": "4a1b7311-92eb-4c97-bd99-79d2da56952c",
   "metadata": {},
   "outputs": [],
   "source": [
    "class Head(nn.Module):\n",
    "\n",
    "    def __init__(self, n_embed, head_size):\n",
    "        super().__init__()\n",
    "        self.key = nn.Linear(n_embed, head_size, bias=False)\n",
    "        self.query = nn.Linear(n_embed, head_size, bias=False)\n",
    "        self.value = nn.Linear(n_embed, head_size, bias=False)\n",
    "        self.register_buffer('tril', torch.tril(torch.ones(block_size, block_size)))\n",
    "        \n",
    "    def forward(self, x):\n",
    "        B, T, C = x.shape\n",
    "        k = self.key(x) # (B, T, head_size)\n",
    "        q = self.query(x) # (B, T, head_size)\n",
    "        # computing self-attention scores\n",
    "        wei = q @ k.transpose(-2, 1) * (C ** -0.5) # initialization scaling to even-out softmax activations\n",
    "        wei = wei.masked_fill(self.tril[:T, :T] == 0, float('-inf')) # (B, T, T)\n",
    "        wei = F.softmax(wei, dim=-1) # (B, T, T)\n",
    "        # weighted aggregation based on attention scores\n",
    "        v = self.value(x) # (B, T, C)\n",
    "        out = wei @ v # (B, T, T) @ (B, T, C) -> (B, T, C)\n",
    "\n",
    "        return out"
   ]
  },
  {
   "cell_type": "markdown",
   "id": "eb2c6f75-37b7-4354-ab71-17f5ca6f3f8d",
   "metadata": {},
   "source": [
    "## Implementing Multiheaded Self-Attention"
   ]
  },
  {
   "cell_type": "code",
   "execution_count": 81,
   "id": "f86bb71d-c9e3-4b85-a36f-6346c2d79b72",
   "metadata": {},
   "outputs": [],
   "source": [
    "class MultiHeadAttention(nn.Module):\n",
    "\n",
    "    def __init__(self, n_embed, num_heads, head_size):\n",
    "        super().__init__()\n",
    "        self.heads = nn.ModuleList([Head(n_embed, head_size) for _ in range(num_heads)])\n",
    "    \n",
    "    def forward(self, x):\n",
    "        print(x.shape, self.heads[0](x).shape)\n",
    "        return torch.cat([h(x) for h in self.heads], dim=-1)"
   ]
  },
  {
   "cell_type": "code",
   "execution_count": 82,
   "id": "31adc4e9-f70a-475c-82de-5a7eae415c6d",
   "metadata": {},
   "outputs": [
    {
     "name": "stdout",
     "output_type": "stream",
     "text": [
      "torch.Size([4, 8, 32]) torch.Size([4, 8, 8])\n"
     ]
    },
    {
     "data": {
      "text/plain": [
       "torch.Size([4, 8, 32])"
      ]
     },
     "execution_count": 82,
     "metadata": {},
     "output_type": "execute_result"
    }
   ],
   "source": [
    "mha = MultiHeadAttention(32, 4, 8)\n",
    "x = torch.randn(4, 8, 32)\n",
    "x = mha(x)\n",
    "x.shape"
   ]
  },
  {
   "cell_type": "code",
   "execution_count": null,
   "id": "b25e4494-536a-4629-9df9-07496f4b141d",
   "metadata": {},
   "outputs": [],
   "source": []
  }
 ],
 "metadata": {
  "kernelspec": {
   "display_name": "Python 3 (ipykernel)",
   "language": "python",
   "name": "python3"
  },
  "language_info": {
   "codemirror_mode": {
    "name": "ipython",
    "version": 3
   },
   "file_extension": ".py",
   "mimetype": "text/x-python",
   "name": "python",
   "nbconvert_exporter": "python",
   "pygments_lexer": "ipython3",
   "version": "3.9.6"
  }
 },
 "nbformat": 4,
 "nbformat_minor": 5
}
