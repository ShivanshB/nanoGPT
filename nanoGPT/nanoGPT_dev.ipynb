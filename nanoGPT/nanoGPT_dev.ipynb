{
 "cells": [
  {
   "cell_type": "markdown",
   "id": "68c070a2-de3a-4b3c-9c57-12031c0063ae",
   "metadata": {},
   "source": [
    "# Constructing a Mini ChatGPT"
   ]
  },
  {
   "cell_type": "code",
   "execution_count": 1,
   "id": "46cbac9c-0479-4f8e-9c4f-bbdffe625637",
   "metadata": {
    "scrolled": true
   },
   "outputs": [],
   "source": [
    "import torch\n",
    "\n",
    "from torch import nn\n",
    "from matplotlib import pyplot as plt\n",
    "from torch.nn import functional as F\n",
    "from urllib.request import urlretrieve"
   ]
  },
  {
   "cell_type": "code",
   "execution_count": 2,
   "id": "80fe3510-1ef1-4e16-a0a8-9931f7bd5536",
   "metadata": {},
   "outputs": [],
   "source": [
    "# loading the accumulation of shakespeare's texts in raw format\n",
    "local_filename, headers = urlretrieve(\"https://raw.githubusercontent.com/karpathy/char-rnn/master/data/tinyshakespeare/input.txt\")"
   ]
  },
  {
   "cell_type": "code",
   "execution_count": 3,
   "id": "2a3eb997-8224-4d35-9e62-64c9f1b218b0",
   "metadata": {},
   "outputs": [
    {
     "name": "stdout",
     "output_type": "stream",
     "text": [
      "length of input.txt in chars: 1115394\n",
      "First Citizen:\n",
      "Before we proceed any further, hear me speak.\n",
      "\n",
      "All:\n",
      "Speak, speak.\n",
      "\n",
      "First Citizen:\n",
      "You are all resolved rather to die than to famish?\n",
      "\n",
      "All:\n",
      "Resolved. resolved.\n",
      "\n",
      "First Citizen:\n",
      "First, you know Caius Marcius is chief enemy to the people.\n",
      "\n",
      "All:\n",
      "We know't, we know't.\n",
      "\n",
      "First Citizen:\n",
      "Let us kill him, and we'll have corn at our own price.\n",
      "Is't a verdict?\n",
      "\n",
      "All:\n",
      "No more talking on't; let it be done: away, away!\n",
      "\n",
      "Second Citizen:\n",
      "One word, good citizens.\n",
      "\n",
      "First Citizen:\n",
      "We are accounted poor citizens, the patricians good.\n",
      "What authority surfeits on would relieve us: if they\n",
      "would yield us but the superfluity, while it were\n",
      "wholesome, we might guess they relieved us humanely;\n",
      "but they think we are too dear: the leanness that\n",
      "afflicts us, the object of our misery, is as an\n",
      "inventory to particularise their abundance; our\n",
      "sufferance is a gain to them Let us revenge this with\n",
      "our pikes, ere we become rakes: for the gods know I\n",
      "speak this in hunger for bread, not in thirst for revenge.\n",
      "\n",
      "\n"
     ]
    }
   ],
   "source": [
    "# loading the text from the above input.txt\n",
    "with open(local_filename, 'r', encoding='utf-8') as f:\n",
    "    text = f.read()\n",
    "print(f\"length of input.txt in chars: {len(text)}\")\n",
    "print(text[:1000])"
   ]
  },
  {
   "cell_type": "code",
   "execution_count": 4,
   "id": "784ec3ac-adb5-477c-b279-499d588b02b7",
   "metadata": {},
   "outputs": [
    {
     "name": "stdout",
     "output_type": "stream",
     "text": [
      "there are 65 chars in our vocab\n",
      "z y x w v u t s r q p o n m l k j i h g f e d c b a Z Y X W V U T S R Q P O N M L K J I H G F E D C B A ? ; : 3 . - , ' & $ !   \n",
      "\n"
     ]
    }
   ],
   "source": [
    "# process the text and establish our vocabulary\n",
    "chars = sorted(list(set(text)))\n",
    "vocab_size = len(chars)\n",
    "print(f\"there are {vocab_size} chars in our vocab\")\n",
    "print(' '.join(chars)[::-1])"
   ]
  },
  {
   "cell_type": "code",
   "execution_count": 7,
   "id": "a13aeeb5-6d16-4a92-9814-7bd02e62c9ab",
   "metadata": {},
   "outputs": [
    {
     "name": "stdout",
     "output_type": "stream",
     "text": [
      "encoding: [58, 43, 57, 58, 47, 52, 45]\n",
      "decoded: testing\n"
     ]
    }
   ],
   "source": [
    "# creating a basic mapping f: chars -> [0, 64] as a rudimentary encoder; and vice-versa as a decoder\n",
    "stoi = {char : i for i, char in enumerate(chars)}\n",
    "itos = {i : char for i, char in enumerate(chars)}\n",
    "\n",
    "encode = lambda s: [stoi[c] for c in s]\n",
    "decode = lambda i: ''.join([itos[j] for j in i])\n",
    "\n",
    "# toy example for demonstration purposes\n",
    "encoding = encode(\"testing\")\n",
    "print(\"encoding:\", encoding)\n",
    "print(\"decoded:\", decode(encoding))"
   ]
  },
  {
   "cell_type": "code",
   "execution_count": 10,
   "id": "a09a7883-4c78-420f-9c06-1a9d4bee452a",
   "metadata": {},
   "outputs": [
    {
     "name": "stdout",
     "output_type": "stream",
     "text": [
      "torch.Size([1115394]) torch.int64\n",
      "tensor([18, 47, 56, 57, 58,  1, 15, 47, 58, 47, 64, 43, 52, 10,  0, 14, 43, 44,\n",
      "        53, 56, 43,  1, 61, 43,  1, 54, 56, 53, 41, 43, 43, 42,  1, 39, 52, 63,\n",
      "         1, 44, 59, 56, 58, 46, 43, 56,  6,  1, 46, 43, 39, 56,  1, 51, 43,  1,\n",
      "        57, 54, 43, 39, 49,  8,  0,  0, 13, 50, 50, 10,  0, 31, 54, 43, 39, 49,\n",
      "         6,  1, 57, 54, 43, 39, 49,  8,  0,  0, 18, 47, 56, 57, 58,  1, 15, 47,\n",
      "        58, 47, 64, 43, 52, 10,  0, 37, 53, 59])\n"
     ]
    }
   ],
   "source": [
    "data = torch.tensor(encode(text), dtype=torch.long)\n",
    "print(data.shape, data.dtype)\n",
    "print(data[:100])   "
   ]
  },
  {
   "cell_type": "code",
   "execution_count": 11,
   "id": "9a1fb95e-80e9-445f-8074-651f3548277f",
   "metadata": {},
   "outputs": [],
   "source": [
    "# 90% 10% train test split\n",
    "n = int(0.9 * len(data))\n",
    "\n",
    "# train test split\n",
    "train_data = data[:n]\n",
    "test_data = data[n:]"
   ]
  },
  {
   "cell_type": "code",
   "execution_count": 15,
   "id": "417eede9-924a-4dae-9da7-5d1cb445adea",
   "metadata": {},
   "outputs": [
    {
     "name": "stdout",
     "output_type": "stream",
     "text": [
      "torch.Size([32, 65]) 4.535765171051025\n",
      "\n",
      "GEcRljUClr:LbGVpbd\n",
      "sfvDm?O nH?HtfZhJvYnZ&QpA'q&tnhF?xXj3:v?N'mm'zLmnCbbtq,C3nXNMlg'IStN;UlsfYdmS3?Jw\n"
     ]
    }
   ],
   "source": [
    "class BigramLanguageModel(nn.Module):\n",
    "\n",
    "    def __init__(self, vocab_size):\n",
    "        super().__init__()\n",
    "\n",
    "        # create embedding lookup table\n",
    "        self.token_embedding_table = nn.Embedding(vocab_size, vocab_size)\n",
    "\n",
    "\n",
    "    def forward(self, idx, targets=None): \n",
    "        logits = self.token_embedding_table(idx)\n",
    "        if targets == None:\n",
    "            loss = None\n",
    "        else:\n",
    "            B, T, C = logits.shape\n",
    "            logits = logits.view(B*T, C)\n",
    "            targets = targets.view(B*T)\n",
    "            loss = F.cross_entropy(logits, targets)\n",
    "        return logits, loss\n",
    "\n",
    "    def generate(self, idx, max_new_tokens):\n",
    "        for _ in range(max_new_tokens):\n",
    "            logits, loss = self(idx)\n",
    "            logits = logits[:, -1, :]\n",
    "            probs = F.softmax(logits, dim=-1)\n",
    "            idx_next = torch.multinomial(probs, num_samples=1)\n",
    "            idx = torch.cat((idx, idx_next), dim=1)\n",
    "        return idx\n",
    "\n",
    "m = BigramLanguageModel(vocab_size)\n",
    "logits, loss = m(xb, yb)\n",
    "print(logits.shape, loss.item())\n",
    "\n",
    "print(decode(m.generate(idx=torch.zeros((1,1), dtype=torch.long), max_new_tokens=100)[0].tolist()))"
   ]
  },
  {
   "cell_type": "code",
   "execution_count": 17,
   "id": "1c634d2f-4f6e-4b0c-b4ba-d7e775c96453",
   "metadata": {},
   "outputs": [],
   "source": [
    "# instantiating the optimizer\n",
    "optimizer = torch.optim.AdamW(m.parameters(), lr=1e-3)"
   ]
  },
  {
   "cell_type": "code",
   "execution_count": 18,
   "id": "3ecb6215-e54c-4436-8a04-8584abb36d04",
   "metadata": {},
   "outputs": [],
   "source": [
    "batch_size = 32\n",
    "losses = []\n",
    "\n",
    "for steps in range(10000):\n",
    "    \n",
    "    # sample a batch of data\n",
    "    xb, yb = get_batch('train')\n",
    "\n",
    "    # evaluate loss\n",
    "    logits, loss = m(xb, yb)\n",
    "    optimizer.zero_grad(set_to_none=True)\n",
    "    loss.backward()\n",
    "    optimizer.step()\n",
    "\n",
    "    losses.append(loss.item())"
   ]
  },
  {
   "cell_type": "code",
   "execution_count": 19,
   "id": "2788c722-8f8f-4c97-811c-52f23857e940",
   "metadata": {},
   "outputs": [
    {
     "data": {
      "text/plain": [
       "[<matplotlib.lines.Line2D at 0x158db14f0>]"
      ]
     },
     "execution_count": 19,
     "metadata": {},
     "output_type": "execute_result"
    },
    {
     "data": {
      "image/png": "[encoded data removed]",
      "text/plain": [
       "<Figure size 640x480 with 1 Axes>"
      ]
     },
     "metadata": {},
     "output_type": "display_data"
    }
   ],
   "source": [
    "plt.plot(losses)"
   ]
  },
  {
   "cell_type": "code",
   "execution_count": 20,
   "id": "a3b88e4f-6d72-49fb-a2d3-e54c68cceeac",
   "metadata": {},
   "outputs": [
    {
     "name": "stdout",
     "output_type": "stream",
     "text": [
      "\n",
      "Tont\n",
      "Torde, in th CHouthe, s hesous wrofan hed atwathak!\n",
      "LENoby alventopoy:\n",
      "NGoth I d athin?' sathay,\n",
      "Whal&ow! ho:\n",
      "Youbl pitansle,\n",
      "oche ht nd h her R urte dveleller ir-\n",
      "Wevau t\n",
      "Y IETh w--rd y t woftr ned; apouto STho ms s thicowaier k ofHENIshinofuburpit hivecot'd s; twrthtr wnngme h IChinerewncrqus ash mofan?\n",
      "QCl bemesy kierdsh?\n",
      "\n",
      "R be\n",
      "TYe tr, IVIfatheathads oans IZ$XKit t! hy wa f werdir tchecre d w omar Clous th minthin.\n",
      "PY blowe olitout myofo mm.\n",
      "\n",
      "FOMilllarotr we s sthindith by he gneir los,\n",
      "\n"
     ]
    }
   ],
   "source": [
    "print(decode(m.generate(idx=torch.zeros((1,1), dtype=torch.long), max_new_tokens=500)[0].tolist()))"
   ]
  },
  {
   "cell_type": "markdown",
   "id": "4172df24-1f19-4441-bd2a-02dd365c9f74",
   "metadata": {},
   "source": [
    "# Building up to Self Attention"
   ]
  },
  {
   "cell_type": "markdown",
   "id": "3539d957-22b3-401a-8c7e-eaa149e4ef0c",
   "metadata": {},
   "source": [
    "Note that the bottleneck in the bigram model's perform is because of it's limited context. The distribution of the next character is conditioned **only** on the distribution of the previous character, a prior that is too weak and does not contain enough information. Knowing the complexity of language, we know that it is a much more complex distribution and that we would require many more degrees of freedom, in this case letters of context, to accurately model it.\n",
    "\n",
    "Now, consider the basic ways in which one might provide context for the previous characters as input to the model. The simplest and most naive form of context would be an average of the previous letters. This can be done naively using for loops or in a more efficient, vectorized format using matrices and broadcasting. We will demonstrate both of these methods and in the process, build up to self-attention."
   ]
  },
  {
   "cell_type": "markdown",
   "id": "d928b016-44ea-4589-8499-e49ed5c34725",
   "metadata": {},
   "source": [
    "## Setup"
   ]
  },
  {
   "cell_type": "code",
   "execution_count": 21,
   "id": "5eeec325-11bb-44ac-9ed9-7f346d9293ee",
   "metadata": {},
   "outputs": [
    {
     "data": {
      "text/plain": [
       "torch.Size([4, 8, 2])"
      ]
     },
     "execution_count": 21,
     "metadata": {},
     "output_type": "execute_result"
    }
   ],
   "source": [
    "B, T, C = 4, 8, 2 # batch, time, channel\n",
    "x = torch.randn(B, T, C)\n",
    "x.shape"
   ]
  },
  {
   "cell_type": "markdown",
   "id": "0de37b66-cd05-496d-b108-a11c9454686b",
   "metadata": {},
   "source": [
    "## Method 1: For Loops (Naive)"
   ]
  },
  {
   "cell_type": "code",
   "execution_count": 22,
   "id": "14b40c23-7112-4e71-8667-6dab15237ede",
   "metadata": {},
   "outputs": [],
   "source": [
    "xbow = torch.zeros((B, T, C)) # bow = bag of words\n",
    "for b in range(B):\n",
    "    for t in range(T):\n",
    "        xprev = x[b, :t+1]\n",
    "        xbow[b,t] = torch.mean(xprev, 0)"
   ]
  },
  {
   "cell_type": "markdown",
   "id": "72c97758-6901-4dea-a6cf-72ce5467b3fd",
   "metadata": {},
   "source": [
    "## Method 2: Matrix Multiple for Weighted Aggregation"
   ]
  },
  {
   "cell_type": "code",
   "execution_count": 23,
   "id": "62646679-0053-414c-9b47-d2adc241c700",
   "metadata": {},
   "outputs": [
    {
     "data": {
      "text/plain": [
       "True"
      ]
     },
     "execution_count": 23,
     "metadata": {},
     "output_type": "execute_result"
    }
   ],
   "source": [
    "wei = torch.tril(torch.ones(T,T))\n",
    "wei = wei / wei.sum(1, keepdim=True)\n",
    "xbow2 = wei @ x\n",
    "torch.allclose(xbow, xbow2)"
   ]
  },
  {
   "cell_type": "markdown",
   "id": "7e72d888-5b59-4c2c-8ec4-40350950100f",
   "metadata": {},
   "source": [
    "## Method 3: Using Softmax"
   ]
  },
  {
   "cell_type": "code",
   "execution_count": 25,
   "id": "4df4cf94-37bf-4ac4-95de-aba753c738b9",
   "metadata": {},
   "outputs": [
    {
     "data": {
      "text/plain": [
       "True"
      ]
     },
     "execution_count": 25,
     "metadata": {},
     "output_type": "execute_result"
    }
   ],
   "source": [
    "tril = torch.tril(torch.ones(T,T))\n",
    "wei = torch.zeros((T,T))\n",
    "wei = wei.masked_fill(tril == 0, float('-inf'))\n",
    "wei = F.softmax(wei, dim=-1)\n",
    "xbow3 = wei @ x\n",
    "torch.allclose(xbow, xbow3)"
   ]
  },
  {
   "cell_type": "code",
   "execution_count": 27,
   "id": "8aed163f-5442-4d8f-a709-357122aeb877",
   "metadata": {},
   "outputs": [
    {
     "data": {
      "text/plain": [
       "(torch.Size([8, 8]), torch.Size([4, 8, 2]), torch.Size([4, 8, 2]))"
      ]
     },
     "execution_count": 27,
     "metadata": {},
     "output_type": "execute_result"
    }
   ],
   "source": [
    "wei.shape, x.shape, xbow.shape"
   ]
  },
  {
   "cell_type": "markdown",
   "id": "9d41cdeb-5323-4ca0-82d8-7e387fbe7c8b",
   "metadata": {},
   "source": [
    "## Method 4: Self Attention (Single-Head)"
   ]
  },
  {
   "cell_type": "code",
   "execution_count": 19,
   "id": "30b26e38-63f2-41a3-b6cd-ea63719742a0",
   "metadata": {},
   "outputs": [
    {
     "data": {
      "text/plain": [
       "tensor([[[1.0000, 0.0000, 0.0000, 0.0000, 0.0000, 0.0000, 0.0000, 0.0000],\n",
       "         [0.4120, 0.5880, 0.0000, 0.0000, 0.0000, 0.0000, 0.0000, 0.0000],\n",
       "         [0.3080, 0.3003, 0.3917, 0.0000, 0.0000, 0.0000, 0.0000, 0.0000],\n",
       "         [0.2918, 0.2304, 0.3363, 0.1416, 0.0000, 0.0000, 0.0000, 0.0000],\n",
       "         [0.2168, 0.2077, 0.1730, 0.2118, 0.1908, 0.0000, 0.0000, 0.0000],\n",
       "         [0.2171, 0.1207, 0.0794, 0.1384, 0.2567, 0.1877, 0.0000, 0.0000],\n",
       "         [0.1530, 0.1166, 0.0973, 0.2597, 0.1688, 0.1213, 0.0833, 0.0000],\n",
       "         [0.0947, 0.1476, 0.1399, 0.0948, 0.1023, 0.1219, 0.1956, 0.1033]],\n",
       "\n",
       "        [[1.0000, 0.0000, 0.0000, 0.0000, 0.0000, 0.0000, 0.0000, 0.0000],\n",
       "         [0.5447, 0.4553, 0.0000, 0.0000, 0.0000, 0.0000, 0.0000, 0.0000],\n",
       "         [0.4143, 0.3327, 0.2529, 0.0000, 0.0000, 0.0000, 0.0000, 0.0000],\n",
       "         [0.3441, 0.2321, 0.2476, 0.1761, 0.0000, 0.0000, 0.0000, 0.0000],\n",
       "         [0.1480, 0.2569, 0.1808, 0.2297, 0.1846, 0.0000, 0.0000, 0.0000],\n",
       "         [0.0531, 0.2437, 0.1597, 0.1501, 0.1038, 0.2896, 0.0000, 0.0000],\n",
       "         [0.0810, 0.1754, 0.0910, 0.1739, 0.1135, 0.1825, 0.1827, 0.0000],\n",
       "         [0.2087, 0.0748, 0.1308, 0.1070, 0.1173, 0.0947, 0.1302, 0.1365]],\n",
       "\n",
       "        [[1.0000, 0.0000, 0.0000, 0.0000, 0.0000, 0.0000, 0.0000, 0.0000],\n",
       "         [0.6027, 0.3973, 0.0000, 0.0000, 0.0000, 0.0000, 0.0000, 0.0000],\n",
       "         [0.2636, 0.4727, 0.2636, 0.0000, 0.0000, 0.0000, 0.0000, 0.0000],\n",
       "         [0.2164, 0.1155, 0.3710, 0.2971, 0.0000, 0.0000, 0.0000, 0.0000],\n",
       "         [0.1645, 0.1661, 0.2500, 0.2242, 0.1952, 0.0000, 0.0000, 0.0000],\n",
       "         [0.1252, 0.1622, 0.1645, 0.2099, 0.1540, 0.1842, 0.0000, 0.0000],\n",
       "         [0.1307, 0.2364, 0.1866, 0.0671, 0.1201, 0.1711, 0.0881, 0.0000],\n",
       "         [0.1086, 0.0576, 0.1810, 0.1026, 0.1423, 0.1379, 0.1710, 0.0990]],\n",
       "\n",
       "        [[1.0000, 0.0000, 0.0000, 0.0000, 0.0000, 0.0000, 0.0000, 0.0000],\n",
       "         [0.6881, 0.3119, 0.0000, 0.0000, 0.0000, 0.0000, 0.0000, 0.0000],\n",
       "         [0.3007, 0.3958, 0.3035, 0.0000, 0.0000, 0.0000, 0.0000, 0.0000],\n",
       "         [0.3019, 0.2283, 0.1910, 0.2788, 0.0000, 0.0000, 0.0000, 0.0000],\n",
       "         [0.1671, 0.1346, 0.2497, 0.1436, 0.3051, 0.0000, 0.0000, 0.0000],\n",
       "         [0.1912, 0.1181, 0.1808, 0.1260, 0.2299, 0.1540, 0.0000, 0.0000],\n",
       "         [0.1484, 0.1046, 0.1519, 0.0981, 0.1436, 0.1954, 0.1580, 0.0000],\n",
       "         [0.1413, 0.1116, 0.1069, 0.1101, 0.1704, 0.1420, 0.1027, 0.1150]]],\n",
       "       grad_fn=<SoftmaxBackward0>)"
      ]
     },
     "execution_count": 19,
     "metadata": {},
     "output_type": "execute_result"
    }
   ],
   "source": [
    "B, T, C = 4, 8, 32 # batch, time, channels\n",
    "x = torch.randn(B, T, C)\n",
    "\n",
    "# single head of attention\n",
    "head_size = 16\n",
    "key = nn.Linear(C, head_size, bias=False)\n",
    "query = nn.Linear(C, head_size, bias=False)\n",
    "value = nn.Linear(C, head_size, bias=False)\n",
    "\n",
    "k = key(x) # (B x T x head_size)\n",
    "q = query(x) # (B x T x head_size)\n",
    "wei = q @ k.transpose(-2, -1) * (head_size ** -0.5) #  (B x T x 16) x (B x 16 x T) = (B x T x T)\n",
    "\n",
    "tril = torch.tril(torch.ones(T,T)) # lower trianglular matrix of ones -- masking for masked attention\n",
    "# wei = torch.zeros((T,T)) -- no longer need this because we are calculating wei from the data above\n",
    "wei = wei.masked_fill(tril == 0, float('-inf'))\n",
    "wei = F.softmax(wei, dim=-1)\n",
    "\n",
    "v = value(x)\n",
    "out = wei @ v\n",
    "\n",
    "out = wei @ x\n",
    "wei"
   ]
  },
  {
   "cell_type": "markdown",
   "id": "1a2bbec4-5de4-4b54-b133-54deebf8eb8b",
   "metadata": {},
   "source": [
    "## Implementing a Self-Attention Head"
   ]
  },
  {
   "cell_type": "code",
   "execution_count": 37,
   "id": "cb341da9-bf03-4fde-b164-b6ac095e754d",
   "metadata": {},
   "outputs": [],
   "source": [
    "# defining n_embed as a constant for now\n",
    "n_embed = 32"
   ]
  },
  {
   "cell_type": "code",
   "execution_count": 38,
   "id": "4a1b7311-92eb-4c97-bd99-79d2da56952c",
   "metadata": {},
   "outputs": [],
   "source": [
    "class Head(nn.Module):\n",
    "\n",
    "    def __init__(self, head_size):\n",
    "        super().__init__()\n",
    "        self.key = nn.Linear(n_embed, head_size, bias=False)\n",
    "        self.query = nn.Linear(n_embed, head_size, bias=False)\n",
    "        self.value = nn.Linear(n_embed, head_size, bias=False)\n",
    "        self.register_buffer('tril', torch.tril(torch.ones(block_size, block_size)))\n",
    "        \n",
    "    def forward(self, x):\n",
    "        B, T, C = x.shape\n",
    "        k = self.key(x) # (B, T, head_size)\n",
    "        q = self.query(x) # (B, T, head_size)\n",
    "        v = self.value(x) # (B, T, head_size)\n",
    "        # computing self-attention scores\n",
    "        wei = q @ k.transpose(-2, 1) * (C ** -0.5) # initialization scaling to even-out softmax activations\n",
    "        wei = wei.masked_fill(self.tril[:T, :T] == 0, float('-inf')) # (B, T, T)\n",
    "        wei = F.softmax(wei, dim=-1) # (B, T, T)\n",
    "        # weighted aggregation based on attention scores\n",
    "        out = wei @ v # (B, T, T) @ (B, T, head_size) -> (B, T, head_size)\n",
    "\n",
    "        return out"
   ]
  },
  {
   "cell_type": "markdown",
   "id": "eb2c6f75-37b7-4354-ab71-17f5ca6f3f8d",
   "metadata": {},
   "source": [
    "## Implementing Multiheaded Self-Attention"
   ]
  },
  {
   "cell_type": "code",
   "execution_count": 34,
   "id": "f86bb71d-c9e3-4b85-a36f-6346c2d79b72",
   "metadata": {},
   "outputs": [],
   "source": [
    "class MultiHeadAttention(nn.Module):\n",
    "\n",
    "    def __init__(self, num_heads, head_size):\n",
    "        super().__init__()\n",
    "        self.heads = nn.ModuleList([Head(head_size) for _ in range(num_heads)])\n",
    "    \n",
    "    def forward(self, x):\n",
    "        return torch.cat([h(x) for h in self.heads], dim=-1)"
   ]
  }
 ],
 "metadata": {
  "kernelspec": {
   "display_name": "Python 3 (ipykernel)",
   "language": "python",
   "name": "python3"
  },
  "language_info": {
   "codemirror_mode": {
    "name": "ipython",
    "version": 3
   },
   "file_extension": ".py",
   "mimetype": "text/x-python",
   "name": "python",
   "nbconvert_exporter": "python",
   "pygments_lexer": "ipython3",
   "version": "3.9.6"
  }
 },
 "nbformat": 4,
 "nbformat_minor": 5
}
