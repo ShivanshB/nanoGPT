{
 "cells": [
  {
   "cell_type": "code",
   "execution_count": 91,
   "id": "07a01552",
   "metadata": {},
   "outputs": [],
   "source": [
    "import torch\n",
    "import numpy as np\n",
    "import torch.nn.functional as F\n",
    "import matplotlib.pyplot as plt\n",
    "%matplotlib inline"
   ]
  },
  {
   "cell_type": "code",
   "execution_count": 92,
   "id": "f4537c0f",
   "metadata": {},
   "outputs": [
    {
     "data": {
      "text/plain": [
       "['emma',\n",
       " 'olivia',\n",
       " 'ava',\n",
       " 'isabella',\n",
       " 'sophia',\n",
       " 'charlotte',\n",
       " 'mia',\n",
       " 'amelia',\n",
       " 'harper',\n",
       " 'evelyn']"
      ]
     },
     "execution_count": 92,
     "metadata": {},
     "output_type": "execute_result"
    }
   ],
   "source": [
    "words = open(\"names.txt\", 'r').read().splitlines()\n",
    "words[:10]"
   ]
  },
  {
   "cell_type": "code",
   "execution_count": 93,
   "id": "540d2453",
   "metadata": {},
   "outputs": [],
   "source": [
    "chars = sorted(set(''.join(words)))\n",
    "stoi = {s:i+1 for i,s in enumerate(chars)}\n",
    "stoi['.'] = 0\n",
    "\n",
    "itos = {i:s for s,i in stoi.items()}"
   ]
  },
  {
   "cell_type": "code",
   "execution_count": 94,
   "id": "ad4979e7",
   "metadata": {},
   "outputs": [],
   "source": [
    "xs = []\n",
    "ys = []\n",
    "\n",
    "# creating trigram dataset\n",
    "for w in words:\n",
    "    letters = ['.'] + list(w) + ['.']\n",
    "    for char1, char2, char3 in zip(letters, letters[1:], letters[2:]):      \n",
    "        xs.append([stoi[char1], stoi[char2]])\n",
    "        ys.append(stoi[char3])\n",
    "        \n",
    "xs = torch.tensor(xs)\n",
    "ys = torch.tensor(ys)"
   ]
  },
  {
   "cell_type": "code",
   "execution_count": 95,
   "id": "c40b99ea",
   "metadata": {},
   "outputs": [
    {
     "name": "stdout",
     "output_type": "stream",
     "text": [
      "tensor([[ 0,  5],\n",
      "        [ 5, 13],\n",
      "        [13, 13],\n",
      "        [13,  1],\n",
      "        [ 0, 15],\n",
      "        [15, 12],\n",
      "        [12,  9],\n",
      "        [ 9, 22],\n",
      "        [22,  9],\n",
      "        [ 9,  1]]) tensor([13, 13,  1,  0, 12,  9, 22,  9,  1,  0])\n"
     ]
    }
   ],
   "source": [
    "print(xs[:10], ys[:10])"
   ]
  },
  {
   "cell_type": "code",
   "execution_count": 96,
   "id": "a0a72669",
   "metadata": {},
   "outputs": [
    {
     "data": {
      "text/plain": [
       "torch.Size([196113, 2])"
      ]
     },
     "execution_count": 96,
     "metadata": {},
     "output_type": "execute_result"
    }
   ],
   "source": [
    "xs.shape"
   ]
  },
  {
   "cell_type": "code",
   "execution_count": 97,
   "id": "0b5b7d7d",
   "metadata": {},
   "outputs": [
    {
     "data": {
      "text/plain": [
       "torch.Size([196113, 54])"
      ]
     },
     "execution_count": 97,
     "metadata": {},
     "output_type": "execute_result"
    }
   ],
   "source": [
    "# stack vectors to get one starting layer of 54 nodes\n",
    "x_enc = F.one_hot(xs, num_classes=27).reshape(-1, 54).float()\n",
    "x_enc.shape"
   ]
  },
  {
   "cell_type": "code",
   "execution_count": 98,
   "id": "c29fd8a8",
   "metadata": {},
   "outputs": [
    {
     "data": {
      "text/plain": [
       "tensor([1., 0., 0., 0., 0., 0., 0., 0., 0., 0., 0., 0., 0., 0., 0., 0., 0., 0.,\n",
       "        0., 0., 0., 0., 0., 0., 0., 0., 0., 0., 0., 0., 0., 0., 1., 0., 0., 0.,\n",
       "        0., 0., 0., 0., 0., 0., 0., 0., 0., 0., 0., 0., 0., 0., 0., 0., 0., 0.])"
      ]
     },
     "execution_count": 98,
     "metadata": {},
     "output_type": "execute_result"
    }
   ],
   "source": [
    "x_enc[0]"
   ]
  },
  {
   "cell_type": "code",
   "execution_count": 99,
   "id": "70247216",
   "metadata": {},
   "outputs": [
    {
     "data": {
      "text/plain": [
       "torch.Size([196113])"
      ]
     },
     "execution_count": 99,
     "metadata": {},
     "output_type": "execute_result"
    }
   ],
   "source": [
    "ys.shape"
   ]
  },
  {
   "cell_type": "code",
   "execution_count": 100,
   "id": "e9bd2e3d",
   "metadata": {},
   "outputs": [],
   "source": [
    "W = torch.randn((54, 27), requires_grad=True)"
   ]
  },
  {
   "cell_type": "code",
   "execution_count": 101,
   "id": "d8e7e52d",
   "metadata": {},
   "outputs": [
    {
     "name": "stdout",
     "output_type": "stream",
     "text": [
      "4.130555152893066\n",
      "3.033756732940674\n",
      "2.743847370147705\n",
      "2.6067185401916504\n",
      "2.5272040367126465\n",
      "2.475642442703247\n",
      "2.4396748542785645\n",
      "2.4131760597229004\n",
      "2.392824649810791\n",
      "2.376692295074463\n",
      "2.3635809421539307\n",
      "2.3527047634124756\n",
      "2.3435280323028564\n",
      "2.3356738090515137\n",
      "2.3288698196411133\n",
      "2.32291579246521\n",
      "2.3176605701446533\n",
      "2.3129873275756836\n",
      "2.308805465698242\n",
      "2.305042266845703\n"
     ]
    }
   ],
   "source": [
    "# training loop\n",
    "NUM_ITERS = 200\n",
    "\n",
    "n = ys.numel()\n",
    "lr = 10\n",
    "losses = []\n",
    "\n",
    "for i in range(NUM_ITERS):\n",
    "    # forward pass\n",
    "    logits = x_enc @ W\n",
    "    counts = torch.exp(logits)\n",
    "    probs = counts / counts.sum(1, keepdim=True)\n",
    "    \n",
    "    # calculate loss\n",
    "    loss = -probs[torch.arange(ys.numel()), ys].log().mean()\n",
    "    losses.append(loss.item())\n",
    "    \n",
    "    if i % 10 == 0:\n",
    "        print(loss.item())\n",
    "    \n",
    "    # clear gradients\n",
    "    W.grad = None\n",
    "    \n",
    "    # backward pass\n",
    "    loss.backward()\n",
    "    \n",
    "    # gradient update\n",
    "    W.data -= lr * W.grad"
   ]
  },
  {
   "cell_type": "code",
   "execution_count": 102,
   "id": "326f9e38",
   "metadata": {},
   "outputs": [
    {
     "data": {
      "text/plain": [
       "[<matplotlib.lines.Line2D at 0x7fd463fead60>]"
      ]
     },
     "execution_count": 102,
     "metadata": {},
     "output_type": "execute_result"
    },
    {
     "data": {
      "image/png": "[encoded data removed]",
      "text/plain": [
       "<Figure size 432x288 with 1 Axes>"
      ]
     },
     "metadata": {
      "needs_background": "light"
     },
     "output_type": "display_data"
    }
   ],
   "source": [
    "# plotting the losses\n",
    "plt.plot(np.arange(NUM_ITERS), losses)"
   ]
  },
  {
   "cell_type": "markdown",
   "id": "86f0c83e",
   "metadata": {},
   "source": [
    "#### Notice that the losses converge to a value lower than the bigram model"
   ]
  },
  {
   "cell_type": "markdown",
   "id": "ac104bd3",
   "metadata": {},
   "source": [
    "### Sampling from the Model"
   ]
  },
  {
   "cell_type": "code",
   "execution_count": 103,
   "id": "7aa25653",
   "metadata": {},
   "outputs": [
    {
     "name": "stdout",
     "output_type": "stream",
     "text": [
      "prey\n",
      "qatya\n",
      "een\n",
      "ayle\n",
      "oujto\n",
      "xengeomyo\n",
      "wbe\n",
      "vmaynna\n",
      "er\n",
      "fbe\n",
      "rion\n",
      "maynn\n",
      "paligelina\n",
      "rasstanne\n",
      "zahwa\n",
      "srhia\n",
      "areschilemarialins\n",
      "kah\n",
      "lonimarein\n",
      "gdulen\n",
      "vadariabrkzellonderayka\n",
      "tynn\n",
      "phev\n",
      "ghanac\n",
      "el\n",
      "nrelaelai\n",
      "ok\n",
      "faizarcetona\n",
      "had\n",
      "von\n",
      "tynnyegrantado\n",
      "cahlley\n",
      "narelleamela\n",
      "eiya\n",
      "nexarismidam\n",
      "wakeh\n",
      "zud\n",
      "qullen\n",
      "haulony\n",
      "kamol\n",
      "typanahamikos\n",
      "vorastmay\n",
      "cey\n",
      "bmyana\n",
      "kemgrtkaydh\n",
      "mid\n",
      "via\n",
      "kiyusta\n",
      "phaulyan\n",
      "zbef\n",
      "saudienn\n",
      "gottra\n",
      "qade\n",
      "wucuz\n",
      "wmleyss\n",
      "gayrharlee\n",
      "uilyna\n",
      "reahat\n",
      "jeliahric\n",
      "zaylealyqnayanilae\n",
      "seh\n",
      "isalavdrma\n",
      "mydis\n",
      "loa\n",
      "orivan\n",
      "bevrisamirayn\n",
      "ehyarireyann\n",
      "jayma\n",
      "viroymi\n",
      "qra\n",
      "wlenthie\n",
      "yuh\n",
      "sh\n",
      "zainee\n",
      "keyah\n",
      "gan\n",
      "erich\n",
      "wande\n",
      "qomnee\n",
      "lamkicylo\n",
      "jani\n",
      "elgnftoo\n",
      "ghoudano\n",
      "gani\n",
      "kat\n",
      "elyqbzilylariangcoriy\n",
      "kyonah\n",
      "rana\n",
      "xdusv\n",
      "fikemtenileshashartynisa\n",
      "ma\n",
      "cadenep\n",
      "syna\n",
      "ebenmathir\n",
      "danzan\n",
      "jaminorissina\n",
      "eltzusqf\n",
      "rettion\n",
      "uenn\n",
      "raya\n"
     ]
    }
   ],
   "source": [
    "NUM_SAMPLES = 100\n",
    "idx = 0\n",
    "\n",
    "p_second_letter = torch.tensor(([0] + [1] * 26))/26\n",
    "\n",
    "for i in range(NUM_SAMPLES):\n",
    "    out = ''\n",
    "    \n",
    "    state = [0, None]\n",
    "    # uniform sampling of first letter in name\n",
    "    state[1] = torch.multinomial(p_second_letter, num_samples=1, replacement=True).item()\n",
    "    state = torch.tensor(state)\n",
    "    \n",
    "    out = itos[state[0].item()] + itos[state[1].item()]\n",
    "        \n",
    "    while True:\n",
    "        x_enc_state = F.one_hot(state, num_classes=27).reshape(-1, 54).float()\n",
    "        logits = x_enc_state @ W\n",
    "        counts = logits.exp()\n",
    "        probs = counts / counts.sum(1, keepdim=True)\n",
    "            \n",
    "        next_char = torch.multinomial(probs, num_samples=1, replacement=True).item()\n",
    "        \n",
    "        if next_char == 0:\n",
    "            print(out[1:])\n",
    "            break\n",
    "        \n",
    "        # updating state\n",
    "        state[0] = state[1]\n",
    "        state[1] = next_char\n",
    "        \n",
    "        out += itos[next_char]"
   ]
  },
  {
   "cell_type": "code",
   "execution_count": 126,
   "id": "e31f39f6",
   "metadata": {
    "scrolled": false
   },
   "outputs": [
    {
     "name": "stdout",
     "output_type": "stream",
     "text": [
      "6.815441131591797\n",
      "2.6890361309051514\n",
      "2.615915298461914\n",
      "2.5670840740203857\n",
      "2.5278801918029785\n",
      "2.4942429065704346\n",
      "2.4652650356292725\n",
      "2.440870523452759\n",
      "2.4205098152160645\n",
      "2.403381586074829\n",
      "2.388702869415283\n",
      "2.375864028930664\n",
      "2.4050278663635254\n",
      "2.429809093475342\n",
      "2.4082629680633545\n",
      "2.3963258266448975\n",
      "2.3873565196990967\n",
      "2.379894733428955\n",
      "2.373426914215088\n",
      "2.3676888942718506\n",
      "2.362514019012451\n",
      "2.3577895164489746\n",
      "2.353433609008789\n",
      "2.349386692047119\n",
      "2.34560227394104\n",
      "2.342043876647949\n",
      "2.3386831283569336\n",
      "2.335496425628662\n",
      "2.3324646949768066\n",
      "2.3295726776123047\n",
      "2.3268072605133057\n",
      "2.324157953262329\n",
      "2.321615695953369\n",
      "2.3191728591918945\n",
      "2.3168230056762695\n"
     ]
    }
   ],
   "source": [
    "# try adding another hidden layer + biases\n",
    "\n",
    "W1 = torch.randn((54, 27), requires_grad=True)\n",
    "W2 = torch.randn((27, 27), requires_grad=True)\n",
    "\n",
    "b1 = torch.randn(27, requires_grad=True)\n",
    "b2 = torch.randn(27, requires_grad=True)\n",
    "\n",
    "\n",
    "# training loop\n",
    "NUM_ITERS = 350\n",
    "\n",
    "n = ys.numel()\n",
    "lr = 10\n",
    "losses = []\n",
    "\n",
    "for i in range(NUM_ITERS):\n",
    "    # forward pass\n",
    "    logits = (((x_enc @ W1) + b1).sigmoid() @ W2) + b2\n",
    "    \n",
    "    counts = torch.exp(logits)\n",
    "    probs = counts / counts.sum(1, keepdim=True)\n",
    "    \n",
    "    # calculate loss\n",
    "    loss = -probs[torch.arange(ys.numel()), ys].log().mean()\n",
    "    losses.append(loss.item())\n",
    "    \n",
    "    if i % 10 == 0:\n",
    "        print(loss.item())\n",
    "    \n",
    "    # clear gradients\n",
    "    W1.grad = None\n",
    "    W2.grad = None\n",
    "    b1.grad = None\n",
    "    b2.grad = None\n",
    "    \n",
    "    # backward pass\n",
    "    loss.backward()\n",
    "    \n",
    "    # gradient update\n",
    "    W1.data -= lr * W1.grad\n",
    "    W2.data -= lr * W2.grad\n",
    "    b1.data -= lr * b1.grad\n",
    "    b2.data -= lr * b2.grad"
   ]
  },
  {
   "cell_type": "code",
   "execution_count": 125,
   "id": "3c7538ea",
   "metadata": {},
   "outputs": [
    {
     "name": "stdout",
     "output_type": "stream",
     "text": [
      "hark\n",
      "o\n",
      "na\n",
      "ut\n",
      "xa\n",
      "ma\n",
      "ghuy\n",
      "sun\n",
      "ach\n",
      "pe\n",
      "ra\n",
      "bahs\n",
      "ca\n",
      "vyy\n",
      "pu\n",
      "wa\n",
      "wa\n",
      "thex\n",
      "ja\n",
      "gikotyn\n",
      "brlay\n",
      "peau\n",
      "nva\n",
      "zen\n",
      "pho\n",
      "careyns\n",
      "mami\n",
      "na\n",
      "ra\n",
      "n\n",
      "ka\n",
      "o\n",
      "ora\n",
      "jy\n",
      "nl\n",
      "za\n",
      "via\n",
      "tasya\n",
      "a\n",
      "mavcllonan\n",
      "il\n",
      "fy\n",
      "ja\n",
      "qrcera\n",
      "zyly\n",
      "krnbel\n",
      "sa\n",
      "curt\n",
      "da\n",
      "pa\n",
      "en\n",
      "uomigllaks\n",
      "pra\n",
      "ir\n",
      "qdx\n",
      "som\n",
      "sa\n",
      "wo\n",
      "sorlsis\n",
      "mhrr\n",
      "ykiyahia\n",
      "jatym\n",
      "n\n",
      "zozabs\n",
      "ul\n",
      "ven\n",
      "lun\n",
      "fero\n",
      "falon\n",
      "zo\n",
      "tone\n",
      "dan\n",
      "ria\n",
      "ers\n",
      "anva\n",
      "uu\n",
      "yea\n",
      "shn\n",
      "caki\n",
      "ncil\n",
      "en\n",
      "uafkan\n",
      "emmona\n",
      "zca\n",
      "jan\n",
      "vr\n",
      "qa\n",
      "qemdon\n",
      "qahamrbtry\n",
      "den\n",
      "ly\n",
      "briy\n",
      "qhal\n",
      "gra\n",
      "ra\n",
      "di\n",
      "ki\n",
      "juc\n",
      "janlla\n",
      "njlel\n"
     ]
    }
   ],
   "source": [
    "NUM_SAMPLES = 100\n",
    "idx = 0\n",
    "\n",
    "p_second_letter = torch.tensor(([0] + [1] * 26))/26\n",
    "\n",
    "for i in range(NUM_SAMPLES):\n",
    "    out = ''\n",
    "    \n",
    "    state = [0, None]\n",
    "    # uniform sampling of first letter in name\n",
    "    state[1] = torch.multinomial(p_second_letter, num_samples=1, replacement=True).item()\n",
    "    state = torch.tensor(state)\n",
    "    \n",
    "    out = itos[state[0].item()] + itos[state[1].item()]\n",
    "        \n",
    "    while True:\n",
    "        x_enc_state = F.one_hot(state, num_classes=27).reshape(-1, 54).float()\n",
    "        logits = (((x_enc_state @ W1) + b1).sigmoid() @ W2) + b2\n",
    "        counts = logits.exp()\n",
    "        probs = counts / counts.sum(1, keepdim=True)\n",
    "            \n",
    "        next_char = torch.multinomial(probs, num_samples=1, replacement=True).item()\n",
    "        \n",
    "        if next_char == 0:\n",
    "            print(out[1:])\n",
    "            break\n",
    "        \n",
    "        # updating state\n",
    "        state[0] = state[1]\n",
    "        state[1] = next_char\n",
    "        \n",
    "        out += itos[next_char]"
   ]
  },
  {
   "cell_type": "code",
   "execution_count": null,
   "id": "da55ea10",
   "metadata": {},
   "outputs": [],
   "source": []
  }
 ],
 "metadata": {
  "kernelspec": {
   "display_name": "Python 3",
   "language": "python",
   "name": "python3"
  },
  "language_info": {
   "codemirror_mode": {
    "name": "ipython",
    "version": 3
   },
   "file_extension": ".py",
   "mimetype": "text/x-python",
   "name": "python",
   "nbconvert_exporter": "python",
   "pygments_lexer": "ipython3",
   "version": "3.8.8"
  }
 },
 "nbformat": 4,
 "nbformat_minor": 5
}
