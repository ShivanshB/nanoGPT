{
 "cells": [
  {
   "cell_type": "code",
   "execution_count": 1,
   "id": "73f3d2b1",
   "metadata": {},
   "outputs": [
    {
     "name": "stderr",
     "output_type": "stream",
     "text": [
      "Duplicate key in file '/Users/shivanshbaveja/.matplotlib/matplotlibrc', line 2 ('backend : TkAgg')\n"
     ]
    }
   ],
   "source": [
    "import torch\n",
    "import numpy as np\n",
    "import torch.nn.functional as F\n",
    "import matplotlib.pyplot as plt\n",
    "%matplotlib inline"
   ]
  },
  {
   "cell_type": "code",
   "execution_count": 2,
   "id": "6de46350",
   "metadata": {},
   "outputs": [
    {
     "data": {
      "text/plain": [
       "['emma',\n",
       " 'olivia',\n",
       " 'ava',\n",
       " 'isabella',\n",
       " 'sophia',\n",
       " 'charlotte',\n",
       " 'mia',\n",
       " 'amelia',\n",
       " 'harper',\n",
       " 'evelyn']"
      ]
     },
     "execution_count": 2,
     "metadata": {},
     "output_type": "execute_result"
    }
   ],
   "source": [
    "words = open(\"names.txt\", 'r').read().splitlines()\n",
    "words[:10]"
   ]
  },
  {
   "cell_type": "code",
   "execution_count": 3,
   "id": "755734bf",
   "metadata": {},
   "outputs": [],
   "source": [
    "chars = sorted(set(''.join(words)))\n",
    "stoi = {s:i+1 for i,s in enumerate(chars)}\n",
    "stoi['.'] = 0\n",
    "\n",
    "itos = {i:s for s,i in stoi.items()}"
   ]
  },
  {
   "cell_type": "code",
   "execution_count": 4,
   "id": "f6b5bff6",
   "metadata": {},
   "outputs": [],
   "source": [
    "xs = []\n",
    "ys = []\n",
    "\n",
    "# creating trigram dataset\n",
    "for w in words:\n",
    "    letters = ['.'] + list(w) + ['.']\n",
    "    for char1, char2, char3 in zip(letters, letters[1:], letters[2:]):      \n",
    "        xs.append([stoi[char1], stoi[char2]])\n",
    "        ys.append(stoi[char3])\n",
    "        \n",
    "xs = torch.tensor(xs)\n",
    "ys = torch.tensor(ys)"
   ]
  },
  {
   "cell_type": "code",
   "execution_count": 5,
   "id": "aed86161",
   "metadata": {},
   "outputs": [
    {
     "name": "stdout",
     "output_type": "stream",
     "text": [
      "tensor([[ 0,  5],\n",
      "        [ 5, 13],\n",
      "        [13, 13],\n",
      "        [13,  1],\n",
      "        [ 0, 15],\n",
      "        [15, 12],\n",
      "        [12,  9],\n",
      "        [ 9, 22],\n",
      "        [22,  9],\n",
      "        [ 9,  1]]) tensor([13, 13,  1,  0, 12,  9, 22,  9,  1,  0])\n"
     ]
    }
   ],
   "source": [
    "print(xs[:10], ys[:10])"
   ]
  },
  {
   "cell_type": "code",
   "execution_count": 6,
   "id": "9238f0d4",
   "metadata": {},
   "outputs": [
    {
     "data": {
      "text/plain": [
       "torch.Size([196113, 2])"
      ]
     },
     "execution_count": 6,
     "metadata": {},
     "output_type": "execute_result"
    }
   ],
   "source": [
    "xs.shape"
   ]
  },
  {
   "cell_type": "code",
   "execution_count": 7,
   "id": "0a58612e",
   "metadata": {},
   "outputs": [
    {
     "data": {
      "text/plain": [
       "torch.Size([196113, 54])"
      ]
     },
     "execution_count": 7,
     "metadata": {},
     "output_type": "execute_result"
    }
   ],
   "source": [
    "# stack vectors to get one starting layer of 54 nodes\n",
    "x_enc = F.one_hot(xs, num_classes=27).reshape(-1, 54).float()\n",
    "x_enc.shape"
   ]
  },
  {
   "cell_type": "code",
   "execution_count": 8,
   "id": "318e30b0",
   "metadata": {},
   "outputs": [
    {
     "data": {
      "text/plain": [
       "tensor([1., 0., 0., 0., 0., 0., 0., 0., 0., 0., 0., 0., 0., 0., 0., 0., 0., 0.,\n",
       "        0., 0., 0., 0., 0., 0., 0., 0., 0., 0., 0., 0., 0., 0., 1., 0., 0., 0.,\n",
       "        0., 0., 0., 0., 0., 0., 0., 0., 0., 0., 0., 0., 0., 0., 0., 0., 0., 0.])"
      ]
     },
     "execution_count": 8,
     "metadata": {},
     "output_type": "execute_result"
    }
   ],
   "source": [
    "x_enc[0]"
   ]
  },
  {
   "cell_type": "code",
   "execution_count": 9,
   "id": "28353121",
   "metadata": {},
   "outputs": [
    {
     "data": {
      "text/plain": [
       "torch.Size([196113])"
      ]
     },
     "execution_count": 9,
     "metadata": {},
     "output_type": "execute_result"
    }
   ],
   "source": [
    "ys.shape"
   ]
  },
  {
   "cell_type": "code",
   "execution_count": 10,
   "id": "c371c14c",
   "metadata": {},
   "outputs": [],
   "source": [
    "W = torch.randn((54, 27), requires_grad=True)"
   ]
  },
  {
   "cell_type": "code",
   "execution_count": 11,
   "id": "7e9d37b1",
   "metadata": {},
   "outputs": [
    {
     "name": "stdout",
     "output_type": "stream",
     "text": [
      "4.265424728393555\n",
      "3.1095354557037354\n",
      "2.784071445465088\n",
      "2.6319899559020996\n",
      "2.5451912879943848\n",
      "2.489541530609131\n",
      "2.4511194229125977\n",
      "2.4229629039764404\n",
      "2.401376962661743\n",
      "2.3842766284942627\n",
      "2.3703815937042236\n",
      "2.358853816986084\n",
      "2.349120855331421\n",
      "2.3407819271087646\n",
      "2.333548069000244\n",
      "2.3272080421447754\n",
      "2.3216030597686768\n",
      "2.316610813140869\n",
      "2.3121368885040283\n",
      "2.3081047534942627\n"
     ]
    }
   ],
   "source": [
    "# training loop\n",
    "NUM_ITERS = 200\n",
    "\n",
    "n = ys.numel()\n",
    "lr = 10\n",
    "losses = []\n",
    "\n",
    "for i in range(NUM_ITERS):\n",
    "    # forward pass\n",
    "    logits = x_enc @ W\n",
    "    counts = torch.exp(logits)\n",
    "    probs = counts / counts.sum(1, keepdim=True)\n",
    "    \n",
    "    # calculate loss\n",
    "    loss = -probs[torch.arange(ys.numel()), ys].log().mean()\n",
    "    losses.append(loss.item())\n",
    "    \n",
    "    if i % 10 == 0:\n",
    "        print(loss.item())\n",
    "    \n",
    "    # clear gradients\n",
    "    W.grad = None\n",
    "    \n",
    "    # backward pass\n",
    "    loss.backward()\n",
    "    \n",
    "    # gradient update\n",
    "    W.data -= lr * W.grad"
   ]
  },
  {
   "cell_type": "code",
   "execution_count": 12,
   "id": "a7b81d91",
   "metadata": {},
   "outputs": [
    {
     "data": {
      "text/plain": [
       "[<matplotlib.lines.Line2D at 0x7f8709f28a00>]"
      ]
     },
     "execution_count": 12,
     "metadata": {},
     "output_type": "execute_result"
    },
    {
     "data": {
      "image/png": "[encoded data removed]",
      "text/plain": [
       "<Figure size 432x288 with 1 Axes>"
      ]
     },
     "metadata": {
      "needs_background": "light"
     },
     "output_type": "display_data"
    }
   ],
   "source": [
    "# plotting the losses\n",
    "plt.plot(np.arange(NUM_ITERS), losses)"
   ]
  },
  {
   "cell_type": "markdown",
   "id": "de8763cd",
   "metadata": {},
   "source": [
    "#### Notice that the losses converge to a value lower than the bigram model"
   ]
  },
  {
   "cell_type": "markdown",
   "id": "610980d6",
   "metadata": {},
   "source": [
    "### Sampling from the Model"
   ]
  },
  {
   "cell_type": "code",
   "execution_count": 103,
   "id": "9e0b1571",
   "metadata": {},
   "outputs": [
    {
     "name": "stdout",
     "output_type": "stream",
     "text": [
      "prey\n",
      "qatya\n",
      "een\n",
      "ayle\n",
      "oujto\n",
      "xengeomyo\n",
      "wbe\n",
      "vmaynna\n",
      "er\n",
      "fbe\n",
      "rion\n",
      "maynn\n",
      "paligelina\n",
      "rasstanne\n",
      "zahwa\n",
      "srhia\n",
      "areschilemarialins\n",
      "kah\n",
      "lonimarein\n",
      "gdulen\n",
      "vadariabrkzellonderayka\n",
      "tynn\n",
      "phev\n",
      "ghanac\n",
      "el\n",
      "nrelaelai\n",
      "ok\n",
      "faizarcetona\n",
      "had\n",
      "von\n",
      "tynnyegrantado\n",
      "cahlley\n",
      "narelleamela\n",
      "eiya\n",
      "nexarismidam\n",
      "wakeh\n",
      "zud\n",
      "qullen\n",
      "haulony\n",
      "kamol\n",
      "typanahamikos\n",
      "vorastmay\n",
      "cey\n",
      "bmyana\n",
      "kemgrtkaydh\n",
      "mid\n",
      "via\n",
      "kiyusta\n",
      "phaulyan\n",
      "zbef\n",
      "saudienn\n",
      "gottra\n",
      "qade\n",
      "wucuz\n",
      "wmleyss\n",
      "gayrharlee\n",
      "uilyna\n",
      "reahat\n",
      "jeliahric\n",
      "zaylealyqnayanilae\n",
      "seh\n",
      "isalavdrma\n",
      "mydis\n",
      "loa\n",
      "orivan\n",
      "bevrisamirayn\n",
      "ehyarireyann\n",
      "jayma\n",
      "viroymi\n",
      "qra\n",
      "wlenthie\n",
      "yuh\n",
      "sh\n",
      "zainee\n",
      "keyah\n",
      "gan\n",
      "erich\n",
      "wande\n",
      "qomnee\n",
      "lamkicylo\n",
      "jani\n",
      "elgnftoo\n",
      "ghoudano\n",
      "gani\n",
      "kat\n",
      "elyqbzilylariangcoriy\n",
      "kyonah\n",
      "rana\n",
      "xdusv\n",
      "fikemtenileshashartynisa\n",
      "ma\n",
      "cadenep\n",
      "syna\n",
      "ebenmathir\n",
      "danzan\n",
      "jaminorissina\n",
      "eltzusqf\n",
      "rettion\n",
      "uenn\n",
      "raya\n"
     ]
    }
   ],
   "source": [
    "NUM_SAMPLES = 100\n",
    "idx = 0\n",
    "\n",
    "p_second_letter = torch.tensor(([0] + [1] * 26))/26\n",
    "\n",
    "for i in range(NUM_SAMPLES):\n",
    "    out = ''\n",
    "    \n",
    "    state = [0, None]\n",
    "    # uniform sampling of first letter in name\n",
    "    state[1] = torch.multinomial(p_second_letter, num_samples=1, replacement=True).item()\n",
    "    state = torch.tensor(state)\n",
    "    \n",
    "    out = itos[state[0].item()] + itos[state[1].item()]\n",
    "        \n",
    "    while True:\n",
    "        x_enc_state = F.one_hot(state, num_classes=27).reshape(-1, 54).float()\n",
    "        logits = x_enc_state @ W\n",
    "        counts = logits.exp()\n",
    "        probs = counts / counts.sum(1, keepdim=True)\n",
    "            \n",
    "        next_char = torch.multinomial(probs, num_samples=1, replacement=True).item()\n",
    "        \n",
    "        if next_char == 0:\n",
    "            print(out[1:])\n",
    "            break\n",
    "        \n",
    "        # updating state\n",
    "        state[0] = state[1]\n",
    "        state[1] = next_char\n",
    "        \n",
    "        out += itos[next_char]"
   ]
  },
  {
   "cell_type": "code",
   "execution_count": 175,
   "id": "7dac9d01",
   "metadata": {
    "scrolled": false
   },
   "outputs": [
    {
     "name": "stdout",
     "output_type": "stream",
     "text": [
      "7.072982311248779\n",
      "2.7362725734710693\n",
      "2.671983003616333\n",
      "2.6193149089813232\n",
      "2.5641281604766846\n",
      "2.513979911804199\n",
      "2.474027633666992\n",
      "2.444471836090088\n",
      "2.421705961227417\n",
      "2.4032833576202393\n",
      "2.3879482746124268\n",
      "2.3749868869781494\n",
      "2.3638739585876465\n",
      "2.3544750213623047\n",
      "2.4214365482330322\n",
      "2.4022560119628906\n",
      "2.3845343589782715\n",
      "2.3750834465026855\n",
      "2.3678133487701416\n",
      "2.3616416454315186\n",
      "2.35617733001709\n",
      "2.3511922359466553\n",
      "2.346546173095703\n",
      "2.342151641845703\n",
      "2.337960720062256\n",
      "2.33394718170166\n",
      "2.3300976753234863\n",
      "2.326404333114624\n",
      "2.322862386703491\n",
      "2.319467782974243\n",
      "2.316215991973877\n",
      "2.3131041526794434\n",
      "2.3101272583007812\n",
      "2.307281732559204\n",
      "2.3045620918273926\n"
     ]
    }
   ],
   "source": [
    "# try adding another hidden layer + biases\n",
    "\n",
    "W1 = torch.randn((54, 27), requires_grad=True)\n",
    "W2 = torch.randn((27, 27), requires_grad=True)\n",
    "\n",
    "b1 = torch.randn(27, requires_grad=True)\n",
    "b2 = torch.randn(27, requires_grad=True)\n",
    "\n",
    "\n",
    "# training loop\n",
    "NUM_ITERS = 350\n",
    "\n",
    "n = ys.numel()\n",
    "lr = 10\n",
    "losses = []\n",
    "\n",
    "for i in range(NUM_ITERS):\n",
    "    # forward pass\n",
    "    logits = (((x_enc @ W1) + b1).sigmoid() @ W2) + b2\n",
    "    \n",
    "    counts = torch.exp(logits)\n",
    "    probs = counts / counts.sum(1, keepdim=True)\n",
    "    \n",
    "    # calculate loss\n",
    "    loss = -probs[torch.arange(ys.numel()), ys].log().mean()\n",
    "    losses.append(loss.item())\n",
    "    \n",
    "    if i % 10 == 0:\n",
    "        print(loss.item())\n",
    "    \n",
    "    # clear gradients\n",
    "    W1.grad = None\n",
    "    W2.grad = None\n",
    "    b1.grad = None\n",
    "    b2.grad = None\n",
    "    \n",
    "    # backward pass\n",
    "    loss.backward()\n",
    "    \n",
    "    # gradient update\n",
    "    W1.data -= lr * W1.grad\n",
    "    W2.data -= lr * W2.grad\n",
    "    b1.data -= lr * b1.grad\n",
    "    b2.data -= lr * b2.grad"
   ]
  },
  {
   "cell_type": "code",
   "execution_count": 176,
   "id": "29401b15",
   "metadata": {},
   "outputs": [
    {
     "name": "stdout",
     "output_type": "stream",
     "text": [
      "coamhii\n",
      "keronfolaylaulyne\n",
      "wan\n",
      "resarlayvans\n",
      "paylien\n",
      "laubarelianfiol\n",
      "qialanni\n",
      "cariya\n",
      "von\n",
      "belsobavla\n",
      "szurjaylhay\n",
      "os\n",
      "voson\n",
      "alen\n",
      "taniulana\n",
      "darrihara\n",
      "bron\n",
      "wuriniyan\n",
      "hauchyns\n",
      "zik\n",
      "len\n",
      "lie\n",
      "boniahalnavri\n",
      "marlilynattanayia\n",
      "wabadyyaloynoroledallean\n",
      "feloanoladendayn\n",
      "autsayinom\n",
      "onna\n",
      "nulinian\n",
      "udannariosqiasarennshaneyacabylon\n",
      "vauraplen\n",
      "ecziomitina\n",
      "ros\n",
      "fadenna\n",
      "tan\n",
      "iluiepatan\n",
      "kulieraklina\n",
      "evmaiphairlasdaliaharas\n",
      "illynahdialarsam\n",
      "na\n",
      "quhgio\n",
      "zorbeannshellionah\n",
      "bran\n",
      "akazyanna\n",
      "zaiaks\n",
      "xrena\n",
      "xi\n",
      "yaliah\n",
      "durerya\n",
      "ken\n",
      "uradilleyasellyn\n",
      "olearilynn\n",
      "wan\n",
      "belliahbishes\n",
      "xaamatah\n",
      "dann\n",
      "saic\n",
      "ferreannoenaller\n",
      "facenystemalyniaidarh\n",
      "ginalidavie\n",
      "iztie\n",
      "wrronn\n",
      "dieny\n",
      "haisannerialtkarden\n",
      "nemiraj\n",
      "calywel\n",
      "uryaysiya\n",
      "grissidlidaloniithixtazhasen\n",
      "sleyyn\n",
      "th\n",
      "qadyaadon\n",
      "er\n",
      "emandon\n",
      "amighi\n",
      "raivaniinnana\n",
      "cadacin\n",
      "colytalaylyna\n",
      "jasrilaillilindavanfinalariethinheci\n",
      "weniel\n",
      "er\n",
      "kolelickulonaiphainonkiat\n",
      "nakyael\n",
      "braagadestynn\n",
      "hamithianah\n",
      "xlerelyana\n",
      "qain\n",
      "nosaiialeonamia\n",
      "uigan\n",
      "oemariunan\n",
      "ovaglarie\n",
      "baenalena\n",
      "jeria\n",
      "chbak\n",
      "evrememena\n",
      "xaritoniabrenlon\n",
      "quaah\n",
      "qa\n",
      "amthanezie\n",
      "vigasleartemaria\n",
      "lie\n"
     ]
    }
   ],
   "source": [
    "NUM_SAMPLES = 100\n",
    "idx = 0\n",
    "\n",
    "p_second_letter = torch.tensor(([0] + [1] * 26))/26\n",
    "\n",
    "for i in range(NUM_SAMPLES):\n",
    "    out = ''\n",
    "    \n",
    "    state = [0, None]\n",
    "    # uniform sampling of first letter in name\n",
    "    state[1] = torch.multinomial(p_second_letter, num_samples=1, replacement=True).item()\n",
    "    state = torch.tensor(state)\n",
    "    \n",
    "    out = itos[state[0].item()] + itos[state[1].item()]\n",
    "        \n",
    "    while True:\n",
    "        x_enc_state = F.one_hot(state, num_classes=27).reshape(-1, 54).float()\n",
    "        logits = (((x_enc_state @ W1) + b1).sigmoid() @ W2) + b2\n",
    "        counts = logits.exp()\n",
    "        probs = counts / counts.sum(1, keepdim=True)\n",
    "            \n",
    "        next_char = torch.multinomial(probs, num_samples=1, replacement=True).item()\n",
    "        \n",
    "        if next_char == 0:\n",
    "            print(out[1:])\n",
    "            break\n",
    "        \n",
    "        # updating state\n",
    "        state[0] = state[1]\n",
    "        state[1] = next_char\n",
    "        \n",
    "        out += itos[next_char]"
   ]
  },
  {
   "cell_type": "markdown",
   "id": "b564cdfa",
   "metadata": {},
   "source": [
    "### Train Test Val Split"
   ]
  },
  {
   "cell_type": "code",
   "execution_count": 15,
   "id": "dced16a8",
   "metadata": {},
   "outputs": [],
   "source": [
    "n_train = np.ceil(n * 0.8).astype(int)\n",
    "n_test = np.floor(n * 0.1).astype(int)\n",
    "n_val = np.floor(n * 0.1).astype(int)\n",
    "\n",
    "sampling = torch.randperm(n)\n",
    "\n",
    "x_train = x_enc[sampling[:n_train]]\n",
    "y_train = ys[sampling[:n_train]]\n",
    "\n",
    "x_test = x_enc[sampling[:n_test]]\n",
    "y_test = ys[sampling[:n_test]]\n",
    "\n",
    "x_val = x_enc[sampling[:n_val]]\n",
    "y_val = ys[sampling[:n_val]]"
   ]
  },
  {
   "cell_type": "markdown",
   "id": "e0b99ffa",
   "metadata": {},
   "source": [
    "## Training and Evaluating Trigram and Bigram Models on Train and Test Sets"
   ]
  },
  {
   "cell_type": "markdown",
   "id": "08d00cc0",
   "metadata": {},
   "source": [
    "### Trigram Training"
   ]
  },
  {
   "cell_type": "code",
   "execution_count": 178,
   "id": "a85348d6",
   "metadata": {
    "scrolled": true
   },
   "outputs": [
    {
     "name": "stdout",
     "output_type": "stream",
     "text": [
      "4.055587291717529\n",
      "3.0661001205444336\n",
      "2.786468505859375\n",
      "2.64180850982666\n",
      "2.555030107498169\n",
      "2.4989984035491943\n",
      "2.460557460784912\n",
      "2.4326226711273193\n",
      "2.411245584487915\n",
      "2.3941941261291504\n",
      "2.3801677227020264\n",
      "2.3683652877807617\n",
      "2.3582639694213867\n",
      "2.34950590133667\n",
      "2.34183406829834\n",
      "2.3350589275360107\n",
      "2.3290340900421143\n",
      "2.323646068572998\n",
      "2.318802833557129\n",
      "2.314429998397827\n"
     ]
    }
   ],
   "source": [
    "W = torch.randn((54,27), requires_grad=True)\n",
    "\n",
    "# training loop\n",
    "NUM_ITERS = 200\n",
    "\n",
    "n = ys.numel()\n",
    "lr = 10\n",
    "losses = []\n",
    "\n",
    "for i in range(NUM_ITERS):\n",
    "    # forward pass\n",
    "    logits = x_train @ W\n",
    "    counts = torch.exp(logits)\n",
    "    probs = counts / counts.sum(1, keepdim=True)\n",
    "    \n",
    "    # calculate loss\n",
    "    loss = -probs[torch.arange(x_train.shape[0]), y_train].log().mean()\n",
    "    losses.append(loss.item())\n",
    "    \n",
    "    if i % 10 == 0:\n",
    "        print(loss.item())\n",
    "    \n",
    "    # clear gradients\n",
    "    W.grad = None\n",
    "    \n",
    "    # backward pass\n",
    "    loss.backward()\n",
    "    \n",
    "    # gradient update\n",
    "    W.data -= lr * W.grad"
   ]
  },
  {
   "cell_type": "markdown",
   "id": "60ac49ba",
   "metadata": {},
   "source": [
    "### Evaluate on Test Set"
   ]
  },
  {
   "cell_type": "code",
   "execution_count": 174,
   "id": "633b23cb",
   "metadata": {},
   "outputs": [
    {
     "data": {
      "text/plain": [
       "tensor(0.2872)"
      ]
     },
     "execution_count": 174,
     "metadata": {},
     "output_type": "execute_result"
    }
   ],
   "source": [
    "y_pred = torch.argmax(x_test @ W, dim=1)\n",
    "acc = sum(y_pred == y_test)/len(y_pred)\n",
    "acc"
   ]
  },
  {
   "cell_type": "markdown",
   "id": "84f44d5a",
   "metadata": {},
   "source": [
    "### Regularization Tuning"
   ]
  },
  {
   "cell_type": "code",
   "execution_count": 29,
   "id": "d8e3a0e2",
   "metadata": {},
   "outputs": [],
   "source": [
    "def reg_tune_training(reg):\n",
    "    W = torch.randn((54,27), requires_grad=True)\n",
    "\n",
    "    # training loop\n",
    "    NUM_ITERS = 200\n",
    "\n",
    "    n = ys.numel()\n",
    "    lr = 10\n",
    "    losses = []\n",
    "\n",
    "    for i in range(NUM_ITERS):\n",
    "        # forward pass\n",
    "        logits = x_train @ W\n",
    "        counts = torch.exp(logits)\n",
    "        probs = counts / counts.sum(1, keepdim=True)\n",
    "\n",
    "        # calculate loss\n",
    "        loss = -probs[torch.arange(x_train.shape[0]), y_train].log().mean() + reg * (W **2).mean()\n",
    "        losses.append(loss.item())\n",
    "\n",
    "        # clear gradients\n",
    "        W.grad = None\n",
    "\n",
    "        # backward pass\n",
    "        loss.backward()\n",
    "\n",
    "        # gradient update\n",
    "        W.data -= lr * W.grad\n",
    "        \n",
    "    # calculate predictions\n",
    "    y_pred = torch.argmax(x_test @ W, dim=1)\n",
    "    acc = sum(y_pred == y_test)/len(y_pred)\n",
    "    \n",
    "    return acc, losses"
   ]
  },
  {
   "cell_type": "code",
   "execution_count": 57,
   "id": "05f74b70",
   "metadata": {
    "scrolled": true
   },
   "outputs": [],
   "source": [
    "regs = [0.01, 0.1, 1, 10, 100]\n",
    "accuracies, losses = [], []\n",
    "\n",
    "for reg in regs:\n",
    "    acc, loss = reg_tune_training(reg)\n",
    "    accuracies.append(acc)\n",
    "    losses.append(loss)"
   ]
  },
  {
   "cell_type": "code",
   "execution_count": 61,
   "id": "c57201c3",
   "metadata": {},
   "outputs": [
    {
     "data": {
      "image/png": "[encoded data removed]",
      "text/plain": [
       "<Figure size 432x288 with 1 Axes>"
      ]
     },
     "metadata": {
      "needs_background": "light"
     },
     "output_type": "display_data"
    }
   ],
   "source": [
    "for i in range(len(regs)):\n",
    "    plt.plot(np.arange(len(losses[i])), losses[i], label=f\"reg={regs[i]}\")\n",
    "plt.legend()\n",
    "plt.show()"
   ]
  },
  {
   "cell_type": "code",
   "execution_count": 62,
   "id": "8fb88528",
   "metadata": {},
   "outputs": [
    {
     "data": {
      "image/png": "[encoded data removed]",
      "text/plain": [
       "<Figure size 432x288 with 1 Axes>"
      ]
     },
     "metadata": {
      "needs_background": "light"
     },
     "output_type": "display_data"
    }
   ],
   "source": [
    "for i in range(len(regs) - 1):\n",
    "    plt.plot(np.arange(len(losses[i])), losses[i], label=f\"reg={regs[i]}\")\n",
    "plt.legend()\n",
    "plt.show()"
   ]
  },
  {
   "cell_type": "code",
   "execution_count": 63,
   "id": "cf7ce102",
   "metadata": {},
   "outputs": [
    {
     "data": {
      "text/plain": [
       "[<matplotlib.lines.Line2D at 0x7f86982bb7f0>]"
      ]
     },
     "execution_count": 63,
     "metadata": {},
     "output_type": "execute_result"
    },
    {
     "data": {
      "image/png": "[encoded data removed]",
      "text/plain": [
       "<Figure size 432x288 with 1 Axes>"
      ]
     },
     "metadata": {
      "needs_background": "light"
     },
     "output_type": "display_data"
    }
   ],
   "source": [
    "plt.plot(regs, accuracies)"
   ]
  },
  {
   "cell_type": "markdown",
   "id": "9695192c",
   "metadata": {},
   "source": [
    "Notice that the losses converge to a higher value the higher the regularization is. This makes sense since we're adding a larger positive value to the loss. Further, notice that we also obtain the best accuracy with the smallest regularization."
   ]
  },
  {
   "cell_type": "markdown",
   "id": "1da6c236",
   "metadata": {},
   "source": [
    "### Training Without One-Hot Encoding (Using Indexing)"
   ]
  },
  {
   "cell_type": "code",
   "execution_count": 64,
   "id": "b5c6aa69",
   "metadata": {},
   "outputs": [
    {
     "data": {
      "text/plain": [
       "torch.Size([196113, 2])"
      ]
     },
     "execution_count": 64,
     "metadata": {},
     "output_type": "execute_result"
    }
   ],
   "source": [
    "xs.shape"
   ]
  },
  {
   "cell_type": "code",
   "execution_count": 65,
   "id": "a55396a1",
   "metadata": {},
   "outputs": [
    {
     "data": {
      "text/plain": [
       "torch.Size([196113, 54])"
      ]
     },
     "execution_count": 65,
     "metadata": {},
     "output_type": "execute_result"
    }
   ],
   "source": [
    "x_enc.shape"
   ]
  },
  {
   "cell_type": "code",
   "execution_count": 74,
   "id": "b8ec8634",
   "metadata": {},
   "outputs": [
    {
     "data": {
      "text/plain": [
       "torch.Size([196113, 54])"
      ]
     },
     "execution_count": 74,
     "metadata": {},
     "output_type": "execute_result"
    }
   ],
   "source": [
    "W[xs].reshape(-1, 54).shape"
   ]
  },
  {
   "cell_type": "code",
   "execution_count": 85,
   "id": "5d37b54f",
   "metadata": {},
   "outputs": [
    {
     "data": {
      "text/plain": [
       "torch.Size([196113])"
      ]
     },
     "execution_count": 85,
     "metadata": {},
     "output_type": "execute_result"
    }
   ],
   "source": [
    "ys.shape"
   ]
  },
  {
   "cell_type": "code",
   "execution_count": 100,
   "id": "e53fc54e",
   "metadata": {},
   "outputs": [
    {
     "data": {
      "text/plain": [
       "tensor(728)"
      ]
     },
     "execution_count": 100,
     "metadata": {},
     "output_type": "execute_result"
    }
   ],
   "source": [
    "(27 * xs[:, 0] + xs[:, 1]).max()"
   ]
  },
  {
   "cell_type": "markdown",
   "id": "bf526a61",
   "metadata": {},
   "source": [
    "### Also changing to CrossEntropyLoss"
   ]
  },
  {
   "cell_type": "code",
   "execution_count": 103,
   "id": "a015c483",
   "metadata": {},
   "outputs": [
    {
     "name": "stdout",
     "output_type": "stream",
     "text": [
      "3.698413610458374\n",
      "2.905913829803467\n",
      "2.6622345447540283\n",
      "2.537160873413086\n",
      "2.457545757293701\n",
      "2.4022397994995117\n",
      "2.3613643646240234\n",
      "2.329698324203491\n",
      "2.304333448410034\n",
      "2.2835099697113037\n",
      "2.2660818099975586\n",
      "2.251264810562134\n",
      "2.2385029792785645\n",
      "2.2273900508880615\n",
      "2.2176241874694824\n",
      "2.2089738845825195\n",
      "2.201260566711426\n",
      "2.1943416595458984\n",
      "2.1881017684936523\n",
      "2.1824474334716797\n"
     ]
    }
   ],
   "source": [
    "# training loop\n",
    "NUM_ITERS = 200\n",
    "\n",
    "W = torch.randn((729, 27), requires_grad=True)\n",
    "cel = torch.nn.CrossEntropyLoss()\n",
    "\n",
    "n = ys.numel()\n",
    "lr = 100\n",
    "losses = []\n",
    "\n",
    "for i in range(NUM_ITERS):\n",
    "    # forward pass\n",
    "    indices = 27 * xs[:, 0] + xs[:, 1]\n",
    "    logits = W[indices]\n",
    "    loss = cel(logits, ys)\n",
    "    losses.append(loss.item())\n",
    "    \n",
    "    if i % 10 == 0:\n",
    "        print(loss.item())\n",
    "    \n",
    "    # clear gradients\n",
    "    W.grad = None\n",
    "    \n",
    "    # backward pass\n",
    "    loss.backward()\n",
    "    \n",
    "    # gradient update\n",
    "    W.data -= lr * W.grad"
   ]
  },
  {
   "cell_type": "markdown",
   "id": "62f5ba76",
   "metadata": {},
   "source": [
    "Notice here that we converge to a much lower loss, likely because we have more parameters in our model. Notice that structuring our inputs this way also makes it easier for the model to learn the correct dependencies. When we have a 54 node input layer, with consecutive blocks of 27 representing the initial two states, it relates the states \"ab\" and the states \"ac\" since they share a node. For this application, it is both intuitively and empirically better to treat these states independently, which the extra nodes in our 729 input node model allow us to express. This allows to not learn faulty interdependencies which add noise to our model."
   ]
  },
  {
   "cell_type": "code",
   "execution_count": 106,
   "id": "88caa91e",
   "metadata": {},
   "outputs": [
    {
     "name": "stdout",
     "output_type": "stream",
     "text": [
      "te\n",
      "palowpttentellzpp\n",
      "quel\n",
      "ja\n",
      "gaquimesia\n",
      "pozsofnyah\n",
      "haiduann\n",
      "gl\n",
      "pawa\n",
      "xashi\n",
      "ga\n",
      "cana\n",
      "yuix\n",
      "elievereyson\n",
      "kel\n",
      "p\n",
      "breighnitblah\n",
      "dayah\n",
      "lciyanalydilo\n",
      "faqmggjkyri\n",
      "izoj\n",
      "baurwwcwwmberah\n",
      "maklynnvwjwssamzwljh\n",
      "dabelrne\n",
      "jera\n",
      "bria\n",
      "visona\n",
      "imirenn\n",
      "dwaizlisav\n",
      "dus\n",
      "lya\n",
      "ustef\n",
      "jonala\n",
      "qujcarea\n",
      "ubqzvzdmaydesana\n",
      "carenn\n",
      "omiewdmjwtuzclaymacelangen\n",
      "jacxylah\n",
      "tvubwdresnziren\n",
      "vasntevaqbwhkdxsimiktan\n",
      "da\n",
      "mari\n",
      "ommyvon\n",
      "qokqod\n",
      "wookhauruccxaadeseana\n",
      "valoazelariel\n",
      "tqo\n",
      "taniyah\n",
      "trilacali\n",
      "phhlan\n",
      "ge\n",
      "casne\n",
      "ha\n",
      "edmon\n",
      "kaaley\n",
      "slanie\n",
      "ethdvwbbbsiel\n",
      "irctlmkshala\n",
      "ojia\n",
      "isennaidexnwbppkvboethir\n",
      "gawxymxzulp\n",
      "brethoekocobiton\n",
      "tummifemimtmly\n",
      "ya\n",
      "dle\n",
      "kaistirabdgpgraele\n",
      "royonsgel\n",
      "im\n",
      "rotjymq\n",
      "jjhon\n",
      "maeljittxrz\n",
      "vyim\n",
      "mah\n",
      "denelez\n",
      "ma\n",
      "bry\n",
      "wacpby\n",
      "gqyptbsdjbqgdywncy\n",
      "ishtaus\n",
      "lie\n",
      "larum\n",
      "osemor\n",
      "elynnis\n",
      "rudqfre\n",
      "zah\n",
      "chalance\n",
      "finnika\n",
      "zallezhwana\n",
      "rand\n",
      "mavetteut\n",
      "ux\n",
      "yuwa\n",
      "nalaguwajer\n",
      "pas\n",
      "quli\n",
      "cef\n",
      "yahadem\n",
      "qfa\n",
      "hadevmgh\n",
      "predah\n"
     ]
    }
   ],
   "source": [
    "NUM_SAMPLES = 100\n",
    "idx = 0\n",
    "\n",
    "p_second_letter = torch.tensor(([0] + [1] * 26))/26\n",
    "\n",
    "for i in range(NUM_SAMPLES):\n",
    "    out = ''\n",
    "    \n",
    "    state = [0, None]\n",
    "    # uniform sampling of first letter in name\n",
    "    state[1] = torch.multinomial(p_second_letter, num_samples=1, replacement=True).item()\n",
    "    state = torch.tensor(state)\n",
    "    \n",
    "    out = itos[state[0].item()] + itos[state[1].item()]\n",
    "        \n",
    "    while True:\n",
    "        index = 27 * state[0] + state[1]\n",
    "        logits = W[index]\n",
    "        counts = logits.exp()\n",
    "        probs = counts / counts.sum()\n",
    "        \n",
    "        next_char = torch.multinomial(probs, num_samples=1, replacement=True).item()\n",
    "        \n",
    "        if next_char == 0:\n",
    "            print(out[1:])\n",
    "            break\n",
    "        \n",
    "        # updating state\n",
    "        state[0] = state[1]\n",
    "        state[1] = next_char\n",
    "        \n",
    "        out += itos[next_char]"
   ]
  }
 ],
 "metadata": {
  "kernelspec": {
   "display_name": "Python 3",
   "language": "python",
   "name": "python3"
  },
  "language_info": {
   "codemirror_mode": {
    "name": "ipython",
    "version": 3
   },
   "file_extension": ".py",
   "mimetype": "text/x-python",
   "name": "python",
   "nbconvert_exporter": "python",
   "pygments_lexer": "ipython3",
   "version": "3.8.8"
  }
 },
 "nbformat": 4,
 "nbformat_minor": 5
}
