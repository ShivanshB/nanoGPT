{
 "cells": [
  {
   "cell_type": "markdown",
   "id": "6729ab5f",
   "metadata": {},
   "source": [
    "# Makemore Parameterized\n",
    "\n",
    "### A parameterized implementation of makemore to allow for exploration of gradients and batching."
   ]
  },
  {
   "cell_type": "code",
   "execution_count": 73,
   "id": "544ce257",
   "metadata": {},
   "outputs": [],
   "source": [
    "import torch\n",
    "import math\n",
    "import random\n",
    "import numpy as np\n",
    "import torch.nn.functional as F\n",
    "import matplotlib.pyplot as plt\n",
    "\n",
    "%matplotlib inline"
   ]
  },
  {
   "cell_type": "code",
   "execution_count": 2,
   "id": "1a701a4f",
   "metadata": {},
   "outputs": [
    {
     "data": {
      "text/plain": [
       "['emma', 'olivia', 'ava', 'isabella', 'sophia']"
      ]
     },
     "execution_count": 2,
     "metadata": {},
     "output_type": "execute_result"
    }
   ],
   "source": [
    "words = open('names.txt', 'r').read().splitlines()\n",
    "words[:5]"
   ]
  },
  {
   "cell_type": "code",
   "execution_count": 3,
   "id": "45307bfd",
   "metadata": {},
   "outputs": [],
   "source": [
    "chars = sorted(set(''.join(words)))\n",
    "\n",
    "stoi = {s:i+1 for i,s in enumerate(chars)}\n",
    "stoi['.'] = 0\n",
    "\n",
    "itos = {i:s for s,i in stoi.items()}"
   ]
  },
  {
   "cell_type": "code",
   "execution_count": 9,
   "id": "96c0d6a6",
   "metadata": {},
   "outputs": [],
   "source": [
    "context_len = 3\n",
    "context = [0] * context_len\n",
    "\n",
    "X, Y = [], []\n",
    "random.shuffle(words)\n",
    "\n",
    "for w in words:    \n",
    "    for char in w + '.':\n",
    "        X.append(context)\n",
    "        Y.append(stoi[char])  \n",
    "        context = context[1:] + [stoi[char]]\n",
    "        \n",
    "X, Y = torch.tensor(X), torch.tensor(Y)\n",
    "\n",
    "n1, n2 = int(len(X)*0.8), int(len(X)*0.9)\n",
    "Xtr, Ytr = X[:n1], Y[:n1]\n",
    "Xval, Yval = X[n1:n2], Y[n1:n2]\n",
    "Xtest, Ytest = X[n2:], Y[n2:]"
   ]
  },
  {
   "cell_type": "code",
   "execution_count": 111,
   "id": "2d5ccf4e",
   "metadata": {},
   "outputs": [
    {
     "name": "stdout",
     "output_type": "stream",
     "text": [
      "12297 parameters\n"
     ]
    }
   ],
   "source": [
    "# reset params to retrain\n",
    "vocab_size = len(itos)\n",
    "n_embed = 10\n",
    "n_hidden = 200\n",
    "\n",
    "C = torch.randn((vocab_size, n_embed))\n",
    "W1 = torch.randn((n_embed * context_len, n_hidden)) * (5/3)/((n_embed * context_len)**0.5)\n",
    "b1 = torch.randn(n_hidden)                          * 0.01\n",
    "W2 = torch.randn((n_hidden, vocab_size))            * 0.01\n",
    "b2 = torch.randn(vocab_size)                        * 0.00\n",
    "\n",
    "bngain = torch.ones((1, n_hidden))\n",
    "bnbias = torch.ones((1, n_hidden))\n",
    "\n",
    "parameters = [C, W1, b1, W2, b2, bngain, bnbias]\n",
    "\n",
    "n_params = sum(p.numel() for p in parameters)\n",
    "print(f\"{n_params} parameters\")\n",
    "\n",
    "for p in parameters:\n",
    "    p.requires_grad = True"
   ]
  },
  {
   "cell_type": "code",
   "execution_count": 112,
   "id": "4f636f93",
   "metadata": {},
   "outputs": [
    {
     "name": "stdout",
     "output_type": "stream",
     "text": [
      "3.285402297973633\n",
      "1.9426687955856323\n",
      "2.051218032836914\n",
      "2.604135036468506\n",
      "2.2297627925872803\n",
      "2.564361095428467\n",
      "2.475263833999634\n",
      "2.0717952251434326\n",
      "2.338078498840332\n",
      "2.0585057735443115\n",
      "2.1711878776550293\n",
      "1.9841845035552979\n",
      "2.3995378017425537\n",
      "2.3470044136047363\n",
      "2.0103321075439453\n",
      "1.697267770767212\n",
      "2.127588987350464\n",
      "1.6412038803100586\n",
      "2.084475517272949\n",
      "1.98374342918396\n"
     ]
    }
   ],
   "source": [
    "# minibatch training loop\n",
    "NUM_ITERS = 200000\n",
    "batch_size = 32\n",
    "\n",
    "for i in range(NUM_ITERS):\n",
    "    \n",
    "    # minibatch indices\n",
    "    idxs = torch.randint(0, Xtr.shape[0], (batch_size,))\n",
    "    Xb, Yb = Xtr[idxs], Ytr[idxs]\n",
    "    \n",
    "    # forward pass\n",
    "    emb = C[Xb].view(-1, n_embed * context_len)\n",
    "    hpreact = emb @ W1 + b1 # hidden layer preactivation\n",
    "    test = torch.ones((1, n_hidden))\n",
    "    hpreact = bngain * ((hpreact - hpreact.mean(0, keepdim=True)))/(hpreact.std(0, keepdim=True)) + bnbias\n",
    "    h = hpreact.tanh()\n",
    "    logits = h @ W2 + b2\n",
    "\n",
    "    # calculating loss\n",
    "    loss = F.cross_entropy(logits, Yb)\n",
    "    \n",
    "    # clearing old gradients\n",
    "    for p in parameters:\n",
    "        p.grad = None\n",
    "    \n",
    "    # backprop & update\n",
    "    loss.backward()\n",
    "    \n",
    "    lr = 0.1 if i < 100000 else 0.01\n",
    "    for p in parameters:\n",
    "        p.data -= lr * p.grad\n",
    "        \n",
    "    if i % 10000 == 0:\n",
    "        print(loss.item())"
   ]
  },
  {
   "cell_type": "markdown",
   "id": "217bc364",
   "metadata": {},
   "source": [
    "Here, we've added batch normalization to the forward and backward passes. Note that earlier (chronologically earlier, but below in the notebook), we were finding ways to make sure we don't oversaturate the activation functions and get vanishing gradients. Here, notice that we can manually normalize our outputs of each layer, so we don't need to worry about this anymore (at least mostly). Further notice that we initialize bngain and bnbias to all ones to start with a N(1,1) distribution. \\\n",
    "\n",
    "Further notice that we obtained a val loss of 2.12 using batch norm, my best yet."
   ]
  },
  {
   "cell_type": "code",
   "execution_count": 113,
   "id": "433967c0",
   "metadata": {},
   "outputs": [],
   "source": [
    "# evaluate train and val loss\n",
    "\n",
    "# @torch.no_grad() # this decorator disables gradient tracking\n",
    "def split_loss(split):\n",
    "    x,y = {'train': (Xtr, Ytr), 'val': (Xval, Yval), 'test': (Xtest, Ytest)}[split]\n",
    "    emb = C[x] # (N, block_size, n_embd)\n",
    "    embcat = emb.view(-1, n_embed * context_len) # concat into (N, block_size * n_embd)\n",
    "    hpreact = embcat @ W1 + b1\n",
    "    hpreact = bngain * ((hpreact - hpreact.mean(0, keepdim=True)))/(hpreact.std(0, keepdim=True)) + bnbias\n",
    "    h = hpreact.tanh() # (N, n_hidden)\n",
    "    logits = h @ W2 + b2 # (N, vocab_size)\n",
    "    loss = F.cross_entropy(logits, y)\n",
    "    print(split, loss.item())"
   ]
  },
  {
   "cell_type": "code",
   "execution_count": 114,
   "id": "62c6f098",
   "metadata": {},
   "outputs": [
    {
     "name": "stdout",
     "output_type": "stream",
     "text": [
      "val 2.124453067779541\n"
     ]
    }
   ],
   "source": [
    "split_loss('val')"
   ]
  },
  {
   "cell_type": "code",
   "execution_count": 44,
   "id": "29844895",
   "metadata": {},
   "outputs": [
    {
     "data": {
      "image/png": "[encoded data removed]",
      "text/plain": [
       "<Figure size 432x288 with 1 Axes>"
      ]
     },
     "metadata": {
      "needs_background": "light"
     },
     "output_type": "display_data"
    }
   ],
   "source": [
    "plt.hist(hpreact.view(-1).tolist(), 50);"
   ]
  },
  {
   "cell_type": "code",
   "execution_count": 45,
   "id": "002c39f7",
   "metadata": {},
   "outputs": [
    {
     "data": {
      "image/png": "[encoded data removed]",
      "text/plain": [
       "<Figure size 432x288 with 1 Axes>"
      ]
     },
     "metadata": {
      "needs_background": "light"
     },
     "output_type": "display_data"
    }
   ],
   "source": [
    "plt.hist(h.view(-1).tolist(), 50);"
   ]
  },
  {
   "cell_type": "markdown",
   "id": "12b8b7fd",
   "metadata": {},
   "source": [
    "Notice here that we have what is called a \"saturated\" tanh (or any other activation function). Notice that most of the values of h are clustered around or exactly at -1 or +1. Recall that the gradient of tanh(x) = 1 - x^2, and thus for x = -1 or +1, this gradient --> 0 and the gradient we want to backpropogate vanishes. We will now try to fix this by making our h values closer to zero."
   ]
  },
  {
   "cell_type": "code",
   "execution_count": 51,
   "id": "135ced6c",
   "metadata": {},
   "outputs": [
    {
     "data": {
      "image/png": "[encoded data removed]",
      "text/plain": [
       "<Figure size 432x288 with 1 Axes>"
      ]
     },
     "metadata": {
      "needs_background": "light"
     },
     "output_type": "display_data"
    }
   ],
   "source": [
    "plt.hist(hpreact.view(-1).tolist(), 50);"
   ]
  },
  {
   "cell_type": "code",
   "execution_count": 52,
   "id": "df3b0b16",
   "metadata": {},
   "outputs": [
    {
     "data": {
      "image/png": "[encoded data removed]",
      "text/plain": [
       "<Figure size 432x288 with 1 Axes>"
      ]
     },
     "metadata": {
      "needs_background": "light"
     },
     "output_type": "display_data"
    }
   ],
   "source": [
    "plt.hist(h.view(-1).tolist(), 50);"
   ]
  },
  {
   "cell_type": "markdown",
   "id": "eedb00c3",
   "metadata": {},
   "source": [
    "Now, notice that we don't have extreme clusters around -1 and +1 and so we should be utilizing more of our neurons. We will not try to retrain our model and see what loss we can achieve. Notice that it is not clear how to choose these scaling constants on our weight matrices. There is a generally a standard way of choosing them to avoid saturating our activation functions, which is to scale by $\\alpha = \\frac{1}{\\sqrt{n}}$. Notice that if we want $var(z) = 1$ to avoid oversaturaton, and we assume that our node z takes in n inputs $x_i$ with $var(x_i) = 1$, then if we scale z by $\\frac{1}{\\sqrt{n}}$, we get $var(z \\cdot \\frac{1}{\\sqrt{n}}) = \\frac{1}{n} \\cdot var(z) = \\frac{1}{n} \\cdot n \\cdot var(x_i) = var(x_i) = 1$. Notice that here we used that $var(a \\cdot x) = a^{2} \\cdot var(x)$. I will demonstrate an example below."
   ]
  },
  {
   "cell_type": "code",
   "execution_count": 87,
   "id": "222ff2a3",
   "metadata": {},
   "outputs": [
    {
     "name": "stdout",
     "output_type": "stream",
     "text": [
      "tensor(5.0861) 4.47213595499958\n"
     ]
    }
   ],
   "source": [
    "X = torch.randn((100, 20))\n",
    "W = torch.randn((20, 20))\n",
    "print((X@W).std(), math.sqrt(20))"
   ]
  },
  {
   "cell_type": "markdown",
   "id": "3537b168",
   "metadata": {},
   "source": [
    "Nowadays, many people will initialize their nn's with torch.nn.init.kaiming_normal."
   ]
  }
 ],
 "metadata": {
  "kernelspec": {
   "display_name": "Python 3",
   "language": "python",
   "name": "python3"
  },
  "language_info": {
   "codemirror_mode": {
    "name": "ipython",
    "version": 3
   },
   "file_extension": ".py",
   "mimetype": "text/x-python",
   "name": "python",
   "nbconvert_exporter": "python",
   "pygments_lexer": "ipython3",
   "version": "3.8.8"
  }
 },
 "nbformat": 4,
 "nbformat_minor": 5
}
