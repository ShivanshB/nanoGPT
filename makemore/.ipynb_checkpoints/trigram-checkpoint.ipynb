{
 "cells": [
  {
   "cell_type": "code",
   "execution_count": 52,
   "id": "e4ce6840",
   "metadata": {},
   "outputs": [],
   "source": [
    "import torch\n",
    "import numpy as np\n",
    "import torch.nn.functional as F\n",
    "import matplotlib.pyplot as plt\n",
    "%matplotlib inline"
   ]
  },
  {
   "cell_type": "code",
   "execution_count": 3,
   "id": "6405e59f",
   "metadata": {},
   "outputs": [
    {
     "data": {
      "text/plain": [
       "['emma',\n",
       " 'olivia',\n",
       " 'ava',\n",
       " 'isabella',\n",
       " 'sophia',\n",
       " 'charlotte',\n",
       " 'mia',\n",
       " 'amelia',\n",
       " 'harper',\n",
       " 'evelyn']"
      ]
     },
     "execution_count": 3,
     "metadata": {},
     "output_type": "execute_result"
    }
   ],
   "source": [
    "words = open(\"names.txt\", 'r').read().splitlines()\n",
    "words[:10]"
   ]
  },
  {
   "cell_type": "code",
   "execution_count": 23,
   "id": "8e773cef",
   "metadata": {},
   "outputs": [],
   "source": [
    "chars = sorted(set(''.join(words)))\n",
    "stoi = {s:i+1 for i,s in enumerate(chars)}\n",
    "stoi['.'] = 0\n",
    "\n",
    "itos = {i:s for s,i in stoi.items()}"
   ]
  },
  {
   "cell_type": "code",
   "execution_count": 26,
   "id": "c4e33834",
   "metadata": {},
   "outputs": [],
   "source": [
    "xs = []\n",
    "ys = []\n",
    "\n",
    "# creating trigram dataset\n",
    "for w in words:\n",
    "    letters = ['.'] + list(w) + ['.']\n",
    "    for char1, char2, char3 in zip(letters, letters[1:], letters[2:]):      \n",
    "        xs.append([stoi[char1], stoi[char2]])\n",
    "        ys.append(stoi[char3])\n",
    "        \n",
    "xs = torch.tensor(xs)\n",
    "ys = torch.tensor(ys)"
   ]
  },
  {
   "cell_type": "code",
   "execution_count": 27,
   "id": "c3ebc6fc",
   "metadata": {},
   "outputs": [
    {
     "name": "stdout",
     "output_type": "stream",
     "text": [
      "tensor([[ 0,  5],\n",
      "        [ 5, 13],\n",
      "        [13, 13],\n",
      "        [13,  1],\n",
      "        [ 0, 15],\n",
      "        [15, 12],\n",
      "        [12,  9],\n",
      "        [ 9, 22],\n",
      "        [22,  9],\n",
      "        [ 9,  1]]) tensor([13, 13,  1,  0, 12,  9, 22,  9,  1,  0])\n"
     ]
    }
   ],
   "source": [
    "print(xs[:10], ys[:10])"
   ]
  },
  {
   "cell_type": "code",
   "execution_count": 28,
   "id": "69e12592",
   "metadata": {},
   "outputs": [
    {
     "data": {
      "text/plain": [
       "torch.Size([196113, 2])"
      ]
     },
     "execution_count": 28,
     "metadata": {},
     "output_type": "execute_result"
    }
   ],
   "source": [
    "xs.shape"
   ]
  },
  {
   "cell_type": "code",
   "execution_count": 39,
   "id": "c9815a3c",
   "metadata": {},
   "outputs": [
    {
     "data": {
      "text/plain": [
       "torch.Size([196113, 54])"
      ]
     },
     "execution_count": 39,
     "metadata": {},
     "output_type": "execute_result"
    }
   ],
   "source": [
    "# stack vectors to get one starting layer of 54 nodes\n",
    "x_enc = F.one_hot(xs, num_classes=27).reshape(-1, 54).float()\n",
    "x_enc.shape"
   ]
  },
  {
   "cell_type": "code",
   "execution_count": 37,
   "id": "e20c0b42",
   "metadata": {},
   "outputs": [
    {
     "data": {
      "text/plain": [
       "tensor([1., 0., 0., 0., 0., 0., 0., 0., 0., 0., 0., 0., 0., 0., 0., 0., 0., 0.,\n",
       "        0., 0., 0., 0., 0., 0., 0., 0., 0., 0., 0., 0., 0., 0., 1., 0., 0., 0.,\n",
       "        0., 0., 0., 0., 0., 0., 0., 0., 0., 0., 0., 0., 0., 0., 0., 0., 0., 0.])"
      ]
     },
     "execution_count": 37,
     "metadata": {},
     "output_type": "execute_result"
    }
   ],
   "source": [
    "x_enc[0]"
   ]
  },
  {
   "cell_type": "code",
   "execution_count": 38,
   "id": "a6958d86",
   "metadata": {},
   "outputs": [
    {
     "data": {
      "text/plain": [
       "torch.Size([196113])"
      ]
     },
     "execution_count": 38,
     "metadata": {},
     "output_type": "execute_result"
    }
   ],
   "source": [
    "ys.shape"
   ]
  },
  {
   "cell_type": "code",
   "execution_count": 48,
   "id": "2973db88",
   "metadata": {},
   "outputs": [],
   "source": [
    "W = torch.randn((54, 27), requires_grad=True)"
   ]
  },
  {
   "cell_type": "code",
   "execution_count": 54,
   "id": "d66a4d45",
   "metadata": {},
   "outputs": [
    {
     "name": "stdout",
     "output_type": "stream",
     "text": [
      "2.2707395553588867\n",
      "2.2698583602905273\n",
      "2.2690165042877197\n",
      "2.2682113647460938\n",
      "2.267441511154175\n",
      "2.2667033672332764\n",
      "2.265995740890503\n",
      "2.2653164863586426\n",
      "2.2646636962890625\n",
      "2.2640366554260254\n",
      "2.2634329795837402\n",
      "2.2628519535064697\n",
      "2.26229190826416\n",
      "2.2617523670196533\n",
      "2.2612321376800537\n",
      "2.2607295513153076\n",
      "2.260244369506836\n",
      "2.2597756385803223\n",
      "2.25932240486145\n",
      "2.2588841915130615\n"
     ]
    }
   ],
   "source": [
    "# training loop\n",
    "NUM_ITERS = 200\n",
    "\n",
    "n = ys.numel()\n",
    "lr = 10\n",
    "losses = []\n",
    "\n",
    "for i in range(NUM_ITERS):\n",
    "    # forward pass\n",
    "    logits = x_enc @ W\n",
    "    counts = torch.exp(logits)\n",
    "    probs = counts / counts.sum(1, keepdim=True)\n",
    "    \n",
    "    # calculate loss\n",
    "    loss = -probs[torch.arange(ys.numel()), ys].log().mean()\n",
    "    losses.append(loss.item())\n",
    "    \n",
    "    if i % 10 == 0:\n",
    "        print(loss.item())\n",
    "    \n",
    "    # clear gradients\n",
    "    W.grad = None\n",
    "    \n",
    "    # backward pass\n",
    "    loss.backward()\n",
    "    \n",
    "    # gradient update\n",
    "    W.data -= lr * W.grad"
   ]
  },
  {
   "cell_type": "code",
   "execution_count": 55,
   "id": "839a63a2",
   "metadata": {},
   "outputs": [
    {
     "data": {
      "text/plain": [
       "[<matplotlib.lines.Line2D at 0x7fd4712a5550>]"
      ]
     },
     "execution_count": 55,
     "metadata": {},
     "output_type": "execute_result"
    },
    {
     "data": {
      "image/png": "[encoded data removed]",
      "text/plain": [
       "<Figure size 432x288 with 1 Axes>"
      ]
     },
     "metadata": {
      "needs_background": "light"
     },
     "output_type": "display_data"
    }
   ],
   "source": [
    "# plotting the losses\n",
    "plt.plot(np.arange(NUM_ITERS), losses)"
   ]
  },
  {
   "cell_type": "markdown",
   "id": "450cf716",
   "metadata": {},
   "source": [
    "#### Notice that the losses converge to a value lower than the bigram model"
   ]
  },
  {
   "cell_type": "markdown",
   "id": "18c2bb3e",
   "metadata": {},
   "source": [
    "### Sampling from the Model"
   ]
  },
  {
   "cell_type": "code",
   "execution_count": 72,
   "id": "8e8d64ef",
   "metadata": {},
   "outputs": [
    {
     "name": "stdout",
     "output_type": "stream",
     "text": [
      "qlerlah\n",
      "km\n",
      "rienysasta\n",
      "yan\n",
      "lai\n",
      "aoh\n",
      "onyl\n",
      "hela\n",
      "ra\n",
      "mersumerlanzeymexreledcenletllen\n",
      "riskyeagen\n",
      "gra\n",
      "wd\n",
      "shio\n",
      "pdania\n",
      "ie\n",
      "orya\n",
      "hmdinilat\n",
      "rana\n",
      "evmari\n",
      "veddymaadhialya\n",
      "zameyde\n",
      "ya\n",
      "jollin\n",
      "loni\n",
      "tinen\n",
      "sork\n",
      "pa\n",
      "korchanr\n",
      "wajilya\n",
      "dfoon\n",
      "za\n",
      "mazaqnn\n",
      "hra\n",
      "zymik\n",
      "bettki\n",
      "zyquk\n",
      "del\n",
      "nisala\n",
      "xin\n",
      "kann\n",
      "or\n",
      "jamne\n",
      "qleraul\n",
      "uxidah\n",
      "halyiels\n",
      "hamyshoviapireyd\n",
      "nnie\n",
      "quand\n",
      "xitantynatarlano\n",
      "idajodamaro\n",
      "iyllena\n",
      "us\n",
      "poli\n",
      "myna\n",
      "do\n",
      "lon\n",
      "oh\n",
      "cem\n",
      "paveen\n",
      "qah\n",
      "jah\n",
      "zahayllengunn\n",
      "lun\n",
      "lia\n",
      "pha\n",
      "gin\n",
      "fanvemel\n",
      "iarishynie\n",
      "ny\n",
      "isvijahia\n",
      "soeleelton\n",
      "ve\n",
      "blinnie\n",
      "sriyvoshandareleste\n",
      "ulya\n",
      "ona\n",
      "risarkyaneelengagha\n",
      "iry\n",
      "ca\n",
      "buttereericaraceguone\n",
      "uraine\n",
      "ca\n",
      "dorben\n",
      "xla\n",
      "wona\n",
      "kazly\n",
      "nyittanardynelna\n",
      "le\n",
      "xin\n",
      "hqyn\n",
      "hiland\n",
      "qqulin\n",
      "san\n",
      "krifaulanane\n",
      "taado\n",
      "colqya\n",
      "patrayssen\n",
      "ahamrtyire\n",
      "wavin\n"
     ]
    }
   ],
   "source": [
    "NUM_SAMPLES = 100\n",
    "idx = 0\n",
    "\n",
    "p_second_letter = torch.tensor(([0] + [1] * 26))/26\n",
    "\n",
    "for i in range(NUM_SAMPLES):\n",
    "    out = ''\n",
    "    \n",
    "    state = [0, None]\n",
    "    # uniform sampling of first letter in name\n",
    "    state[1] = torch.multinomial(p_second_letter, num_samples=1, replacement=True).item()\n",
    "    state = torch.tensor(state)\n",
    "    \n",
    "    out = itos[state[0].item()] + itos[state[1].item()]\n",
    "        \n",
    "    while True:\n",
    "        x_enc = F.one_hot(state, num_classes=27).reshape(-1, 54).float()\n",
    "        logits = x_enc @ W\n",
    "        counts = logits.exp()\n",
    "        probs = counts / counts.sum(1, keepdim=True)\n",
    "            \n",
    "        next_char = torch.multinomial(probs, num_samples=1, replacement=True).item()\n",
    "        \n",
    "        if next_char == 0:\n",
    "            print(out[1:])\n",
    "            break\n",
    "        \n",
    "        # updating state\n",
    "        state[0] = state[1]\n",
    "        state[1] = next_char\n",
    "        \n",
    "        out += itos[next_char]\n",
    "        \n",
    "        \n",
    "        "
   ]
  }
 ],
 "metadata": {
  "kernelspec": {
   "display_name": "Python 3",
   "language": "python",
   "name": "python3"
  },
  "language_info": {
   "codemirror_mode": {
    "name": "ipython",
    "version": 3
   },
   "file_extension": ".py",
   "mimetype": "text/x-python",
   "name": "python",
   "nbconvert_exporter": "python",
   "pygments_lexer": "ipython3",
   "version": "3.8.8"
  }
 },
 "nbformat": 4,
 "nbformat_minor": 5
}
