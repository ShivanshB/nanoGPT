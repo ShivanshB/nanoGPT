{
 "cells": [
  {
   "cell_type": "markdown",
   "id": "4fc5cb8a",
   "metadata": {},
   "source": [
    "# Makemore Manual Backprop"
   ]
  },
  {
   "cell_type": "code",
   "execution_count": 20,
   "id": "cf4e8742",
   "metadata": {},
   "outputs": [],
   "source": [
    "import torch\n",
    "import copy\n",
    "import math\n",
    "import random\n",
    "import numpy as np\n",
    "import torch.nn.functional as F\n",
    "import matplotlib.pyplot as plt\n",
    "\n",
    "%matplotlib inline"
   ]
  },
  {
   "cell_type": "code",
   "execution_count": 21,
   "id": "89d132f1",
   "metadata": {},
   "outputs": [
    {
     "data": {
      "text/plain": [
       "['emma', 'olivia', 'ava', 'isabella', 'sophia']"
      ]
     },
     "execution_count": 21,
     "metadata": {},
     "output_type": "execute_result"
    }
   ],
   "source": [
    "words = open('names.txt', 'r').read().splitlines()\n",
    "words[:5]"
   ]
  },
  {
   "cell_type": "code",
   "execution_count": 22,
   "id": "f0b74e97",
   "metadata": {},
   "outputs": [],
   "source": [
    "chars = sorted(set(''.join(words)))\n",
    "\n",
    "stoi = {s:i+1 for i,s in enumerate(chars)}\n",
    "stoi['.'] = 0\n",
    "\n",
    "itos = {i:s for s,i in stoi.items()}"
   ]
  },
  {
   "cell_type": "code",
   "execution_count": 23,
   "id": "dc95df0f",
   "metadata": {},
   "outputs": [],
   "source": [
    "context_len = 3\n",
    "context = [0] * context_len\n",
    "\n",
    "X, Y = [], []\n",
    "random.shuffle(words)\n",
    "\n",
    "for w in words:    \n",
    "    for char in w + '.':\n",
    "        X.append(context)\n",
    "        Y.append(stoi[char])  \n",
    "        context = context[1:] + [stoi[char]]\n",
    "        \n",
    "X, Y = torch.tensor(X), torch.tensor(Y)\n",
    "\n",
    "n1, n2 = int(len(X)*0.8), int(len(X)*0.9)\n",
    "Xtr, Ytr = X[:n1], Y[:n1]\n",
    "Xval, Yval = X[n1:n2], Y[n1:n2]\n",
    "Xtest, Ytest = X[n2:], Y[n2:]"
   ]
  },
  {
   "cell_type": "code",
   "execution_count": 24,
   "id": "ab397171",
   "metadata": {},
   "outputs": [],
   "source": [
    "def cmp(s, dt, t):\n",
    "    ex = torch.all(dt == t.grad).item()\n",
    "    app = torch.allclose(dt, t.grad)\n",
    "    maxdiff = (dt - t.grad).abs().max().item()\n",
    "    print(f'{s:15s} | exact: {str(ex):5s} | approximate: {str(app):5s} | maxdiff: {maxdiff}')"
   ]
  },
  {
   "cell_type": "code",
   "execution_count": 25,
   "id": "e1008099",
   "metadata": {},
   "outputs": [
    {
     "name": "stdout",
     "output_type": "stream",
     "text": [
      "4137 parameters\n"
     ]
    }
   ],
   "source": [
    "# reset params to retrain\n",
    "vocab_size = len(itos)\n",
    "n_embed = 10\n",
    "n_hidden = 64\n",
    "\n",
    "C = torch.randn((vocab_size, n_embed))\n",
    "W1 = torch.randn((n_embed * context_len, n_hidden)) * (5/3)/((n_embed * context_len)**0.5)\n",
    "b1 = torch.randn(n_hidden)                          * 0.1 # useless bc of batchnorm\n",
    "\n",
    "W2 = torch.randn((n_hidden, vocab_size))            * 0.1\n",
    "b2 = torch.randn(vocab_size)                        * 0.1\n",
    "\n",
    "bngain = torch.ones((1, n_hidden)) * 0.1 + 1.0\n",
    "bnbias = torch.ones((1, n_hidden)) * 0.1\n",
    "\n",
    "bnmean_running = torch.zeros((1, n_hidden))\n",
    "bnstd_running = torch.ones((1, n_hidden))\n",
    "\n",
    "parameters = [C, W1, b1, W2, b2, bngain, bnbias]\n",
    "\n",
    "n_params = sum(p.numel() for p in parameters)\n",
    "print(f\"{n_params} parameters\")\n",
    "\n",
    "for p in parameters:\n",
    "    p.requires_grad = True"
   ]
  },
  {
   "cell_type": "code",
   "execution_count": 29,
   "id": "60890e93",
   "metadata": {},
   "outputs": [
    {
     "name": "stdout",
     "output_type": "stream",
     "text": [
      "2.7692854404449463\n"
     ]
    }
   ],
   "source": [
    "# minibatch training loop\n",
    "NUM_ITERS = 1000 # 200000\n",
    "batch_size = 32\n",
    "\n",
    "for i in range(NUM_ITERS):\n",
    "    \n",
    "    # minibatch indices\n",
    "    idxs = torch.randint(0, Xtr.shape[0], (batch_size,))\n",
    "    Xb, Yb = Xtr[idxs], Ytr[idxs]\n",
    "    \n",
    "    # forward pass\n",
    "    emb = C[Xb].view(-1, n_embed * context_len)\n",
    "    hpreact = emb @ W1 + b1\n",
    "    \n",
    "    # running calc of stdev and mean for batchnorm\n",
    "    bnmeani = hpreact.mean(0, keepdim=True)\n",
    "    bnstdi = hpreact.std(0, keepdim=True)\n",
    "    \n",
    "    hpreact = bngain * (hpreact - bnmeani)/(bnstdi) + bnbias\n",
    "    h = hpreact.tanh()\n",
    "    logits = h @ W2 + b2\n",
    "    \n",
    "    # updating running batchnorm statistics\n",
    "    with torch.no_grad():\n",
    "        bnmean_running = 0.999 * bnmean_running + 0.001 * bnmeani\n",
    "        bnstd_running = 0.999 * bnstd_running + 0.001 * bnstdi\n",
    "\n",
    "    # calculating loss\n",
    "    loss = F.cross_entropy(logits, Yb)\n",
    "    \n",
    "    # clearing old gradients\n",
    "    for p in parameters:\n",
    "        p.grad = None\n",
    "    \n",
    "    # backprop & update\n",
    "    loss.backward()\n",
    "    \n",
    "    lr = 0.1 if i < 100000 else 0.01\n",
    "    for p in parameters:\n",
    "        p.data -= lr * p.grad\n",
    "        \n",
    "    if i % 10000 == 0:\n",
    "        print(loss.item())"
   ]
  },
  {
   "cell_type": "markdown",
   "id": "fbed9cdb",
   "metadata": {},
   "source": [
    "## Chunkated Forward Pass"
   ]
  },
  {
   "cell_type": "code",
   "execution_count": 32,
   "id": "e078345f",
   "metadata": {},
   "outputs": [],
   "source": [
    "batch_size = 32\n",
    "\n",
    "# minibatch indices\n",
    "idxs = torch.randint(0, Xtr.shape[0], (batch_size,))\n",
    "Xb, Yb = Xtr[idxs], Ytr[idxs]"
   ]
  },
  {
   "cell_type": "code",
   "execution_count": null,
   "id": "1c9ad66a",
   "metadata": {},
   "outputs": [],
   "source": [
    "# forward pass, \"chunkated\" into smaller steps that are possible to backward one at a time\n",
    "emb = C[Xb] # embed the characters into vectors\n",
    "embcat = emb.view(emb.shape[0], -1) # concatenate the vectors\n",
    "# Linear layer 1\n",
    "hprebn = embcat @ W1 + b1 # hidden layer pre-activation\n",
    "# BatchNorm layer\n",
    "bnmeani = 1/n*hprebn.sum(0, keepdim=True)\n",
    "bndiff = hprebn - bnmeani\n",
    "bndiff2 = bndiff**2\n",
    "bnvar = 1/(n-1)*(bndiff2).sum(0, keepdim=True) # note: Bessel's correction (dividing by n-1, not n)\n",
    "bnvar_inv = (bnvar + 1e-5)**-0.5\n",
    "bnraw = bndiff * bnvar_inv\n",
    "hpreact = bngain * bnraw + bnbias\n",
    "# Non-linearity\n",
    "h = torch.tanh(hpreact) # hidden layer\n",
    "# Linear layer 2\n",
    "logits = h @ W2 + b2 # output layer\n",
    "# cross entropy loss (same as F.cross_entropy(logits, Yb))\n",
    "logit_maxes = logits.max(1, keepdim=True).values\n",
    "norm_logits = logits - logit_maxes # subtract max for numerical stability\n",
    "counts = norm_logits.exp()\n",
    "counts_sum = counts.sum(1, keepdims=True)\n",
    "counts_sum_inv = counts_sum**-1 # if I use (1.0 / counts_sum) instead then I can't get backprop to be bit exact...\n",
    "probs = counts * counts_sum_inv\n",
    "logprobs = probs.log()\n",
    "loss = -logprobs[range(n), Yb].mean()\n",
    "\n",
    "# PyTorch backward pass\n",
    "for p in parameters:\n",
    "    p.grad = None\n",
    "for t in [logprobs, probs, counts, counts_sum, counts_sum_inv, # afaik there is no cleaner way\n",
    "          norm_logits, logit_maxes, logits, h, hpreact, bnraw,\n",
    "         bnvar_inv, bnvar, bndiff2, bndiff, hprebn, bnmeani,\n",
    "         embcat, emb]:\n",
    "    t.retain_grad()\n",
    "loss.backward()\n",
    "loss"
   ]
  }
 ],
 "metadata": {
  "kernelspec": {
   "display_name": "Python 3",
   "language": "python",
   "name": "python3"
  },
  "language_info": {
   "codemirror_mode": {
    "name": "ipython",
    "version": 3
   },
   "file_extension": ".py",
   "mimetype": "text/x-python",
   "name": "python",
   "nbconvert_exporter": "python",
   "pygments_lexer": "ipython3",
   "version": "3.8.8"
  }
 },
 "nbformat": 4,
 "nbformat_minor": 5
}
