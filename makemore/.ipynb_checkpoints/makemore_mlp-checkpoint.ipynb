{
 "cells": [
  {
   "cell_type": "markdown",
   "id": "a1902e8c",
   "metadata": {},
   "source": [
    "# Makemore MLP\n",
    "\n",
    "### Using an MLP framework with an embedding space lookup table and variable-length letter context."
   ]
  },
  {
   "cell_type": "code",
   "execution_count": 364,
   "id": "b85da641",
   "metadata": {},
   "outputs": [],
   "source": [
    "import torch\n",
    "import random\n",
    "import numpy as np\n",
    "import torch.nn.functional as F\n",
    "import matplotlib.pyplot as plt\n",
    "\n",
    "%matplotlib inline"
   ]
  },
  {
   "cell_type": "code",
   "execution_count": 365,
   "id": "c68b9bd3",
   "metadata": {},
   "outputs": [
    {
     "data": {
      "text/plain": [
       "['emma', 'olivia', 'ava', 'isabella', 'sophia']"
      ]
     },
     "execution_count": 365,
     "metadata": {},
     "output_type": "execute_result"
    }
   ],
   "source": [
    "words = open('names.txt', 'r').read().splitlines()\n",
    "words[:5]"
   ]
  },
  {
   "cell_type": "code",
   "execution_count": 366,
   "id": "db3cc5f7",
   "metadata": {},
   "outputs": [],
   "source": [
    "chars = sorted(set(''.join(words)))\n",
    "\n",
    "stoi = {s:i+1 for i,s in enumerate(chars)}\n",
    "stoi['.'] = 0\n",
    "\n",
    "itos = {i:s for s,i in stoi.items()}"
   ]
  },
  {
   "cell_type": "code",
   "execution_count": 367,
   "id": "675cc280",
   "metadata": {},
   "outputs": [],
   "source": [
    "context_length = 3\n",
    "context = [0] * context_length\n",
    "\n",
    "X, Y = [], []\n",
    "random.shuffle(words)\n",
    "\n",
    "for w in words:    \n",
    "    for char in w + '.':\n",
    "        X.append(context)\n",
    "        Y.append(stoi[char])  \n",
    "        context = context[1:] + [stoi[char]]\n",
    "        \n",
    "X, Y = torch.tensor(X), torch.tensor(Y)\n",
    "\n",
    "n1, n2 = int(len(X)*0.8), int(len(X)*0.9)\n",
    "Xtr, Ytr = X[:n1], Y[:n1]\n",
    "Xval, Yval = X[n1:n2], Y[n1:n2]\n",
    "Xtest, Ytest = X[n2:], Y[n2:]"
   ]
  },
  {
   "cell_type": "code",
   "execution_count": 368,
   "id": "6b5ce98f",
   "metadata": {},
   "outputs": [
    {
     "data": {
      "text/plain": [
       "(torch.Size([228146, 3]), torch.Size([228146]))"
      ]
     },
     "execution_count": 368,
     "metadata": {},
     "output_type": "execute_result"
    }
   ],
   "source": [
    "X.shape, Y.shape"
   ]
  },
  {
   "cell_type": "markdown",
   "id": "0778706c",
   "metadata": {},
   "source": [
    "### Embedding Space\n",
    "We will start by using an embedding space of length two vectors for each letter."
   ]
  },
  {
   "cell_type": "code",
   "execution_count": 369,
   "id": "0285fa4d",
   "metadata": {},
   "outputs": [],
   "source": [
    "# params\n",
    "C = torch.randn((27, 2), requires_grad=True)\n",
    "W1 = torch.randn((6, 100), requires_grad=True)\n",
    "b1 = torch.randn(100, requires_grad=True)\n",
    "W2 = torch.randn((100, 27), requires_grad=True)\n",
    "b2 = torch.randn(27, requires_grad=True)\n",
    "\n",
    "parameters = [C, W1, b1, W2, b2]\n",
    "\n",
    "n = len(X)"
   ]
  },
  {
   "cell_type": "code",
   "execution_count": 370,
   "id": "1ccadfca",
   "metadata": {},
   "outputs": [
    {
     "data": {
      "text/plain": [
       "tensor(15.9365, grad_fn=<NllLossBackward0>)"
      ]
     },
     "execution_count": 370,
     "metadata": {},
     "output_type": "execute_result"
    }
   ],
   "source": [
    "# forward pass\n",
    "emb = C[X].view(-1, 6)\n",
    "h = (emb @ W1 + b1).tanh()\n",
    "logits = h @ W2 + b2\n",
    "\n",
    "# calculating loss\n",
    "loss = F.cross_entropy(logits, Y)\n",
    "loss"
   ]
  },
  {
   "cell_type": "code",
   "execution_count": 64,
   "id": "7d11a408",
   "metadata": {},
   "outputs": [
    {
     "data": {
      "text/plain": [
       "torch.Size([228146, 6])"
      ]
     },
     "execution_count": 64,
     "metadata": {},
     "output_type": "execute_result"
    }
   ],
   "source": [
    "emb.shape"
   ]
  },
  {
   "cell_type": "code",
   "execution_count": 68,
   "id": "8c532b85",
   "metadata": {},
   "outputs": [
    {
     "name": "stdout",
     "output_type": "stream",
     "text": [
      "3.448817014694214\n"
     ]
    }
   ],
   "source": [
    "# training loop\n",
    "NUM_ITERS = 100\n",
    "lr = 1\n",
    "\n",
    "for i in range(NUM_ITERS):\n",
    "    \n",
    "    # forward pass\n",
    "    emb = C[X].view(-1, 6)\n",
    "    h = (emb @ W1 + b1).tanh()\n",
    "    logits = h @ W2 + b2\n",
    "\n",
    "    # calculating loss\n",
    "    loss = F.cross_entropy(logits, Y)\n",
    "    \n",
    "    # clearing old gradients\n",
    "    for p in parameters:\n",
    "        p.grad = None\n",
    "    \n",
    "    # backprop & update\n",
    "    loss.backward()\n",
    "    \n",
    "    for p in parameters:\n",
    "        p.data -= lr * p.grad\n",
    "    \n",
    "print(loss.item())"
   ]
  },
  {
   "cell_type": "markdown",
   "id": "a616f782",
   "metadata": {},
   "source": [
    "Notice that this is relatively slow, since we are doing a forward pass with all 200k+ data points and only then backpropagating with their gradients. In theory, we should be able to use exactly one data point, then calculate the loss and backpropagate with that one point to adjust our params. This would allow us to obtain a lower loss (and possibly a less noisy gradient step) when we use our next data point. However, notice this trade off. Using the gradient from one data point is too noisy and while using all of the data points is too slow/compute intensive. We would like an accurate (not-noisy) gradient, while also being able to take our gradient steps. We can compromise by using SGD on a minibatch of data, using (usually some multiple of 2) data points and using this (now significantly less noisy signal) to take our gradient step while also being multiple orders of magnitude faster. Turns out that in this way, taking more (slightly less accurate steps) gets us further than taking fewer/slower, precisely calculated steps. (SGD as a metaphor for life and perfectionism?)"
   ]
  },
  {
   "cell_type": "markdown",
   "id": "af1eb8fd",
   "metadata": {},
   "source": [
    "### Minibatch Implementation"
   ]
  },
  {
   "cell_type": "code",
   "execution_count": 218,
   "id": "079bf290",
   "metadata": {},
   "outputs": [],
   "source": [
    "# reset params to retrain\n",
    "C = torch.randn((27, 2), requires_grad=True)\n",
    "W1 = torch.randn((6, 100), requires_grad=True)\n",
    "b1 = torch.randn(100, requires_grad=True)\n",
    "W2 = torch.randn((100, 27), requires_grad=True)\n",
    "b2 = torch.randn(27, requires_grad=True)\n",
    "\n",
    "parameters = [C, W1, b1, W2, b2]\n",
    "\n",
    "n = len(X)"
   ]
  },
  {
   "cell_type": "code",
   "execution_count": 230,
   "id": "8d2f1ab9",
   "metadata": {},
   "outputs": [
    {
     "name": "stdout",
     "output_type": "stream",
     "text": [
      "2.230121612548828\n"
     ]
    }
   ],
   "source": [
    "# minibatch training loop\n",
    "NUM_ITERS = 10000\n",
    "lr = .01\n",
    "\n",
    "for i in range(NUM_ITERS):\n",
    "    \n",
    "    # minibatch indices\n",
    "    idxs = torch.randint(0, n, (32,))\n",
    "    \n",
    "    # forward pass\n",
    "    emb = C[X[idxs]].view(-1, 6)\n",
    "    h = (emb @ W1 + b1).tanh()\n",
    "    logits = h @ W2 + b2\n",
    "\n",
    "    # calculating loss\n",
    "    loss = F.cross_entropy(logits, Y[idxs])\n",
    "    \n",
    "    # clearing old gradients\n",
    "    for p in parameters:\n",
    "        p.grad = None\n",
    "    \n",
    "    # backprop & update\n",
    "    loss.backward()\n",
    "    \n",
    "    for p in parameters:\n",
    "        p.data -= lr * p.grad\n",
    "    \n",
    "print(loss.item())"
   ]
  },
  {
   "cell_type": "code",
   "execution_count": 231,
   "id": "625a7032",
   "metadata": {},
   "outputs": [
    {
     "data": {
      "text/plain": [
       "tensor(2.3361, grad_fn=<NllLossBackward0>)"
      ]
     },
     "execution_count": 231,
     "metadata": {},
     "output_type": "execute_result"
    }
   ],
   "source": [
    "# loss on entire dataset\n",
    "emb = C[X].view(-1, 6)\n",
    "h = (emb @ W1 + b1).tanh()\n",
    "logits = h @ W2 + b2\n",
    "\n",
    "# calculating loss\n",
    "loss = F.cross_entropy(logits, Y)\n",
    "loss"
   ]
  },
  {
   "cell_type": "markdown",
   "id": "57594ca6",
   "metadata": {},
   "source": [
    "We're going to do a learning-rate search. First we will do some initial loss convergence testing to determine a reasonable range. We're assuming the distribtion for a good lr is unimodal (relatively speaking, at least)."
   ]
  },
  {
   "cell_type": "code",
   "execution_count": 204,
   "id": "975ddc63",
   "metadata": {},
   "outputs": [
    {
     "data": {
      "text/plain": [
       "tensor([1.0000e-05, 1.0000e-04, 1.0000e-03, 1.0000e-02, 1.0000e-01, 1.0000e+00,\n",
       "        1.0000e+01, 1.0000e+02, 1.0000e+03, 1.0000e+04])"
      ]
     },
     "execution_count": 204,
     "metadata": {},
     "output_type": "execute_result"
    }
   ],
   "source": [
    "lr_initial_test = torch.pow(10, torch.arange(-5, 5, 1).float())\n",
    "lr_initial_test"
   ]
  },
  {
   "cell_type": "code",
   "execution_count": 205,
   "id": "ad120fb5",
   "metadata": {},
   "outputs": [],
   "source": [
    "def lr_test(lr):\n",
    "    # minibatch training loop\n",
    "    NUM_ITERS = 1000\n",
    "    losses = []\n",
    "    \n",
    "    # reset params to retrain\n",
    "    C = torch.randn((27, 2), requires_grad=True)\n",
    "    W1 = torch.randn((6, 100), requires_grad=True)\n",
    "    b1 = torch.randn(100, requires_grad=True)\n",
    "    W2 = torch.randn((100, 27), requires_grad=True)\n",
    "    b2 = torch.randn(27, requires_grad=True)\n",
    "    parameters = [C, W1, b1, W2, b2]\n",
    "\n",
    "    n = len(X)\n",
    "\n",
    "    for i in range(NUM_ITERS):\n",
    "\n",
    "        # minibatch indices\n",
    "        idxs = torch.randint(0, n, (32,))\n",
    "\n",
    "        # forward pass\n",
    "        emb = C[X[idxs]].view(-1, 6)\n",
    "        h = (emb @ W1 + b1).tanh()\n",
    "        logits = h @ W2 + b2\n",
    "\n",
    "        # calculating loss\n",
    "        loss = F.cross_entropy(logits, Y[idxs])\n",
    "        losses.append(loss)\n",
    "\n",
    "        # clearing old gradients\n",
    "        for p in parameters:\n",
    "            p.grad = None\n",
    "\n",
    "        # backprop & update\n",
    "        loss.backward()\n",
    "\n",
    "        for p in parameters:\n",
    "            p.data -= lr * p.grad\n",
    "\n",
    "    return losses"
   ]
  },
  {
   "cell_type": "code",
   "execution_count": 206,
   "id": "862ff8d9",
   "metadata": {},
   "outputs": [],
   "source": [
    "losses = []\n",
    "for lr in lr_initial_test:\n",
    "    losses.append(lr_test(lr))"
   ]
  },
  {
   "cell_type": "code",
   "execution_count": 207,
   "id": "8af3c926",
   "metadata": {},
   "outputs": [
    {
     "data": {
      "image/png": "[encoded data removed]",
      "text/plain": [
       "<Figure size 432x288 with 1 Axes>"
      ]
     },
     "metadata": {
      "needs_background": "light"
     },
     "output_type": "display_data"
    }
   ],
   "source": [
    "with torch.no_grad():\n",
    "    for i in range():\n",
    "        plt.plot(np.arange(1000), losses[i], label=f\"lr={lr_initial_test[i]}\")\n",
    "    plt.legend()\n",
    "    plt.show()"
   ]
  },
  {
   "cell_type": "markdown",
   "id": "c94439e6",
   "metadata": {},
   "source": [
    "Since the highest and lowest learning rates don't converge, we remove them from the plot so that we can scale down and see what is happening with the relevant values."
   ]
  },
  {
   "cell_type": "code",
   "execution_count": 213,
   "id": "506b3f1c",
   "metadata": {},
   "outputs": [
    {
     "data": {
      "image/png": "[encoded data removed]",
      "text/plain": [
       "<Figure size 432x288 with 1 Axes>"
      ]
     },
     "metadata": {
      "needs_background": "light"
     },
     "output_type": "display_data"
    }
   ],
   "source": [
    "with torch.no_grad():\n",
    "    for i in range(1, 7):\n",
    "        plt.plot(np.arange(1000), losses[i], label=f\"lr={lr_initial_test[i]}\")\n",
    "    plt.legend()\n",
    "    plt.show()"
   ]
  },
  {
   "cell_type": "markdown",
   "id": "fe3e3bba",
   "metadata": {},
   "source": [
    "Here, we see that only really the $\\text{learning rates} \\in [0.001, 1]$ converge and that the learning rate of 0.2 seems to do so in the most stable fashion to the lowest value. We could further refine our search and see how the lossses converge on a more dense region of our new interval."
   ]
  },
  {
   "cell_type": "markdown",
   "id": "7e9def38",
   "metadata": {},
   "source": [
    "#### Note on the train, val, test split: \n",
    "training data --> train model parameters \\\n",
    "val/dev data  --> train hyperparameters \\\n",
    "test data     --> test model (very infrequently)"
   ]
  },
  {
   "cell_type": "markdown",
   "id": "2b37f576",
   "metadata": {},
   "source": [
    "#### On Model Size and Under/Overfitting\n",
    "\n",
    "Often, if the loss on the training set and val set is the same or if the loss on the val set is slightly lower than the training let, we have underfit and we can expect to see an improvement in performance (decrease in loss), if we increase the size of the model (more hidden layers, larger hidden layers, etc). If we do this and we don't see any improvement in performance then we could either (1) not be optimizing our larger network correctly, or (2) there may be a bottleneck in another part of our model."
   ]
  },
  {
   "cell_type": "code",
   "execution_count": 384,
   "id": "82be97af",
   "metadata": {},
   "outputs": [
    {
     "data": {
      "image/png": "[encoded data removed]",
      "text/plain": [
       "<Figure size 576x576 with 1 Axes>"
      ]
     },
     "metadata": {
      "needs_background": "light"
     },
     "output_type": "display_data"
    }
   ],
   "source": [
    "# visualize dimensions 0 and 1 of the embedding matrix C for all characters\n",
    "plt.figure(figsize=(8,8))\n",
    "plt.scatter(C[:,0].data, C[:,1].data, s=200)\n",
    "for i in range(C.shape[0]):\n",
    "    plt.text(C[i,0].item(), C[i,1].item(), itos[i], ha=\"center\", va=\"center\", color='white')\n",
    "plt.grid('minor')"
   ]
  },
  {
   "cell_type": "markdown",
   "id": "e48827db",
   "metadata": {},
   "source": [
    "Notice that these embeddings display some notable structure. All of the vowels are grouped on the middle left hand side. Further, the '.' and 'q' have been embedded as unique, which is qualitatively true in my understanding of English."
   ]
  },
  {
   "cell_type": "code",
   "execution_count": 373,
   "id": "79994f98",
   "metadata": {},
   "outputs": [],
   "source": [
    "# reset params to retrain\n",
    "C = torch.randn((27, 15), requires_grad=True)\n",
    "W1 = torch.randn((45, 250), requires_grad=True)\n",
    "b1 = torch.randn(250, requires_grad=True)\n",
    "W2 = torch.randn((250, 250), requires_grad=True)\n",
    "b2 = torch.randn(250 , requires_grad=True)\n",
    "W3 = torch.randn((250, 27), requires_grad=True)\n",
    "b3 = torch.randn(27, requires_grad=True)\n",
    "\n",
    "parameters = [C, W1, b1, W2, b2, W3, b3]\n",
    "\n",
    "n = len(Xtr)"
   ]
  },
  {
   "cell_type": "code",
   "execution_count": 374,
   "id": "b7b1ffaf",
   "metadata": {},
   "outputs": [
    {
     "name": "stdout",
     "output_type": "stream",
     "text": [
      "1.8803789615631104\n"
     ]
    }
   ],
   "source": [
    "# minibatch training loop\n",
    "NUM_ITERS = 300000\n",
    "\n",
    "for i in range(NUM_ITERS):\n",
    "    \n",
    "    # minibatch indices\n",
    "    idxs = torch.randint(0, n, (32,))\n",
    "    \n",
    "    # forward pass\n",
    "    emb = C[Xtr[idxs]].view(-1, 45)\n",
    "    h = (emb @ W1 + b1).tanh()\n",
    "    logits = ((h @ W2 + b2).tanh()) @ W3 + b3\n",
    "\n",
    "    # calculating loss\n",
    "    loss = F.cross_entropy(logits, Ytr[idxs])\n",
    "    \n",
    "    # clearing old gradients\n",
    "    for p in parameters:\n",
    "        p.grad = None\n",
    "    \n",
    "    # backprop & update\n",
    "    loss.backward()\n",
    "    \n",
    "    lr = 0.1 if i < 150000 else 0.01\n",
    "    for p in parameters:\n",
    "        p.data -= lr * p.grad\n",
    "    \n",
    "print(loss.item())"
   ]
  },
  {
   "cell_type": "code",
   "execution_count": 376,
   "id": "71bb71eb",
   "metadata": {},
   "outputs": [
    {
     "data": {
      "text/plain": [
       "2.187154531478882"
      ]
     },
     "execution_count": 376,
     "metadata": {},
     "output_type": "execute_result"
    }
   ],
   "source": [
    "# loss on val set\n",
    "emb = C[Xval].view(-1, 45)\n",
    "h = (emb @ W1 + b1).tanh()\n",
    "logits = ((h @ W2 + b2).tanh()) @ W3 + b3\n",
    "\n",
    "# calculating loss\n",
    "loss = F.cross_entropy(logits, Yval)\n",
    "loss.item()"
   ]
  },
  {
   "cell_type": "code",
   "execution_count": 389,
   "id": "564e99dc",
   "metadata": {},
   "outputs": [
    {
     "name": "stdout",
     "output_type": "stream",
     "text": [
      "sadianni.\n",
      "jah.\n",
      "sulani.\n",
      "bravu.\n",
      "decoltin.\n",
      "karvik.\n",
      "kolabrytun.\n",
      "shaysiah.\n",
      "ala.\n",
      "eila.\n"
     ]
    }
   ],
   "source": [
    "NUM_SAMPLES = 10\n",
    "context = [0] * context_length\n",
    "\n",
    "for _ in range(NUM_SAMPLES):\n",
    "    sample = []\n",
    "    \n",
    "    while True:\n",
    "        emb = C[context].view(1, 45)\n",
    "        h = (emb @ W1 + b1).tanh()\n",
    "        logits = (((h @ W2) + b2).tanh() @ W3) + b3\n",
    "        probs = F.softmax(logits, dim = 1)\n",
    "        \n",
    "        idx = torch.multinomial(probs, num_samples=1).item()\n",
    "        sample.append(idx)\n",
    "        context = context[1:] + [idx]\n",
    "        \n",
    "        if idx == 0:\n",
    "            break\n",
    "        \n",
    "    print(''.join(itos[idx] for idx in sample))\n",
    "    "
   ]
  },
  {
   "cell_type": "markdown",
   "id": "5f355ee9",
   "metadata": {},
   "source": [
    "### Exercises"
   ]
  },
  {
   "cell_type": "code",
   "execution_count": 409,
   "id": "6766f72b",
   "metadata": {},
   "outputs": [
    {
     "data": {
      "image/png": "[encoded data removed]",
      "text/plain": [
       "<Figure size 432x288 with 1 Axes>"
      ]
     },
     "metadata": {
      "needs_background": "light"
     },
     "output_type": "display_data"
    }
   ],
   "source": [
    "with torch.no_grad():\n",
    "    plt.plot(np.arange(len(losses[5])), losses[5])"
   ]
  },
  {
   "cell_type": "code",
   "execution_count": 410,
   "id": "c6df0e9e",
   "metadata": {},
   "outputs": [
    {
     "data": {
      "text/plain": [
       "-3.295836866004329"
      ]
     },
     "execution_count": 410,
     "metadata": {},
     "output_type": "execute_result"
    }
   ],
   "source": [
    "import math\n",
    "math.log(1/27.0)"
   ]
  },
  {
   "cell_type": "markdown",
   "id": "7fb3ddc0",
   "metadata": {},
   "source": [
    "Note on Initialization and Loss Graphs: \\\n",
    "\n",
    "Notice the hockey stick appearance of the loss curve above. This tells us that the initialization of our parameters in our network is not very good (since it gives such a high loss). Lets think about what it means to have a good loss in this problem and what we should expect from our model before training. Before training, our model should have no information about which characters are more likely than others, and should thus output a roughly uniform distribution over our alphabet. Doing some quick math, this tells us that we should expect a loss of around $-log(\\frac{1}{27}) \\approx 3.2958 $. Notice in the graph above though, that we have a loss of more than 17.5. This means that our model is initially outputting probabilities with a high variance (very bold/confident in its predictions), while being wrong most of the time. Notice that we obtain our probabilites from a softmax, so in order to get a nearly uniform distribution, we would need nearly uniform logit values. This can be done by multiplying our bias and weight matrices (all or just the last couple) by some small constants to squish their values to around zero. In theory, we could also just set one pair of weight and bias vectors to exactly all zeros and this should give us a perfectly uniform distribution. However, we must be careful when doing this, since it can cause unwanted symmetry in the network, as the gradients will propogate backwards exactly the same way throughout the entire network. In this way, we say that some variance in the weights is necessary to \"break the symmetry of the network\". \\\n",
    "\n",
    "I will now demonstrate some of the above ideas."
   ]
  },
  {
   "cell_type": "code",
   "execution_count": 418,
   "id": "d3b13e5e",
   "metadata": {},
   "outputs": [],
   "source": [
    "# reset params to retrain\n",
    "C = torch.randn((27, 2), requires_grad=True)\n",
    "W1 = torch.randn((6, 100), requires_grad=True)\n",
    "b1 = torch.randn(100, requires_grad=True)\n",
    "W2 = torch.randn((100, 27), requires_grad=True)\n",
    "b2 = torch.randn(27, requires_grad=True)\n",
    "\n",
    "parameters = [C, W1, b1, W2, b2]\n",
    "\n",
    "n = len(X)"
   ]
  },
  {
   "cell_type": "code",
   "execution_count": 419,
   "id": "7d3ffc62",
   "metadata": {},
   "outputs": [
    {
     "name": "stdout",
     "output_type": "stream",
     "text": [
      "17.055200576782227\n"
     ]
    }
   ],
   "source": [
    "# minibatch training loop\n",
    "NUM_ITERS = 1000\n",
    "lr = .01\n",
    "\n",
    "for i in range(NUM_ITERS):\n",
    "    \n",
    "    # minibatch indices\n",
    "    idxs = torch.randint(0, n, (32,))\n",
    "    \n",
    "    # forward pass\n",
    "    emb = C[X[idxs]].view(-1, 6)\n",
    "    h = (emb @ W1 + b1).tanh()\n",
    "    logits = h @ W2 + b2\n",
    "\n",
    "    # calculating loss\n",
    "    loss = F.cross_entropy(logits, Y[idxs])\n",
    "    \n",
    "    # clearing old gradients\n",
    "    for p in parameters:\n",
    "        p.grad = None\n",
    "    \n",
    "    # backprop & update\n",
    "    loss.backward()\n",
    "    \n",
    "    for p in parameters:\n",
    "        p.data -= lr * p.grad\n",
    "    \n",
    "    print(loss.item())\n",
    "    \n",
    "    break"
   ]
  },
  {
   "cell_type": "markdown",
   "id": "26e16a6c",
   "metadata": {},
   "source": [
    "Here, notice that the initial loss is much higher than the expected 3.29... \\\n",
    "Now, if we set W2, b2 to all zeros, notice what happens."
   ]
  },
  {
   "cell_type": "code",
   "execution_count": 420,
   "id": "fce9e898",
   "metadata": {},
   "outputs": [],
   "source": [
    "# reset params to retrain\n",
    "C = torch.randn((27, 2), requires_grad=True)\n",
    "W1 = torch.randn((6, 100), requires_grad=True)\n",
    "b1 = torch.randn(100, requires_grad=True)\n",
    "W2 = torch.zeros((100, 27), requires_grad=True)\n",
    "b2 = torch.zeros(27, requires_grad=True)\n",
    "\n",
    "parameters = [C, W1, b1, W2, b2]\n",
    "\n",
    "n = len(X)"
   ]
  },
  {
   "cell_type": "code",
   "execution_count": 421,
   "id": "fd8c09b3",
   "metadata": {},
   "outputs": [
    {
     "name": "stdout",
     "output_type": "stream",
     "text": [
      "3.295837163925171\n"
     ]
    }
   ],
   "source": [
    "# minibatch training loop\n",
    "NUM_ITERS = 1000\n",
    "lr = .01\n",
    "\n",
    "for i in range(NUM_ITERS):\n",
    "    \n",
    "    # minibatch indices\n",
    "    idxs = torch.randint(0, n, (32,))\n",
    "    \n",
    "    # forward pass\n",
    "    emb = C[X[idxs]].view(-1, 6)\n",
    "    h = (emb @ W1 + b1).tanh()\n",
    "    logits = h @ W2 + b2\n",
    "\n",
    "    # calculating loss\n",
    "    loss = F.cross_entropy(logits, Y[idxs])\n",
    "    \n",
    "    # clearing old gradients\n",
    "    for p in parameters:\n",
    "        p.grad = None\n",
    "    \n",
    "    # backprop & update\n",
    "    loss.backward()\n",
    "    \n",
    "    for p in parameters:\n",
    "        p.data -= lr * p.grad\n",
    "    \n",
    "    print(loss.item())\n",
    "    \n",
    "    break"
   ]
  },
  {
   "cell_type": "markdown",
   "id": "e9120bee",
   "metadata": {},
   "source": [
    "Now, we get a loss of exactly 3.29, as expected from a uniform distribution.\n",
    "Now, let's see what happens if we set all of our weights and biases to all zeros and try to train."
   ]
  },
  {
   "cell_type": "code",
   "execution_count": 432,
   "id": "e1eb1028",
   "metadata": {},
   "outputs": [],
   "source": [
    "# reset params to retrain\n",
    "C = torch.zeros((27, 2), requires_grad=True)\n",
    "W1 = torch.zeros((6, 100), requires_grad=True)\n",
    "b1 = torch.zeros(100, requires_grad=True)\n",
    "W2 = torch.zeros((100, 27), requires_grad=True)\n",
    "b2 = torch.zeros(27, requires_grad=True)\n",
    "\n",
    "parameters = [C, W1, b1, W2, b2]\n",
    "\n",
    "n = len(X)"
   ]
  },
  {
   "cell_type": "code",
   "execution_count": 433,
   "id": "19aeb3c6",
   "metadata": {},
   "outputs": [
    {
     "name": "stdout",
     "output_type": "stream",
     "text": [
      "3.295837163925171\n",
      "2.9847047328948975\n",
      "3.017155170440674\n",
      "2.6724843978881836\n",
      "2.835339307785034\n",
      "2.678118944168091\n",
      "2.960329532623291\n",
      "2.6650705337524414\n",
      "2.503972291946411\n",
      "2.767963171005249\n"
     ]
    }
   ],
   "source": [
    "# minibatch training loop\n",
    "NUM_ITERS = 10000\n",
    "lr = .01\n",
    "\n",
    "for i in range(NUM_ITERS):\n",
    "    \n",
    "    # minibatch indices\n",
    "    idxs = torch.randint(0, n, (32,))\n",
    "    \n",
    "    # forward pass\n",
    "    emb = C[X[idxs]].view(-1, 6)\n",
    "    h = (emb @ W1 + b1).tanh()\n",
    "    logits = h @ W2 + b2\n",
    "\n",
    "    # calculating loss\n",
    "    loss = F.cross_entropy(logits, Y[idxs])\n",
    "    \n",
    "    # clearing old gradients\n",
    "    for p in parameters:\n",
    "        p.grad = None\n",
    "    \n",
    "    # backprop & update\n",
    "    loss.backward()\n",
    "    \n",
    "    for p in parameters:\n",
    "        p.data -= lr * p.grad\n",
    "    \n",
    "    if i % 1000 == 0:\n",
    "        print(loss.item())\n"
   ]
  },
  {
   "cell_type": "markdown",
   "id": "b8c3df86",
   "metadata": {},
   "source": [
    "Though this initialization does converge (because of the presence of the tanh which allows the gradient to be nonzero), it may not in other cases and so all zero initialization is not recommended. We will now use a more stable initializatio of small values that are not actually zero and see how this affects our achieved loss."
   ]
  },
  {
   "cell_type": "code",
   "execution_count": 442,
   "id": "f802d0a7",
   "metadata": {},
   "outputs": [],
   "source": [
    "# reset params to retrain\n",
    "C = torch.randn((27, 15), requires_grad=True)\n",
    "W1 = torch.randn((45, 250), requires_grad=True)\n",
    "b1 = torch.randn(250, requires_grad=True)\n",
    "\n",
    "W2 = torch.randn((250, 250)) * 0.01\n",
    "W2.requires_grad = True\n",
    "\n",
    "b2 = torch.randn(250 , requires_grad=True)\n",
    "W3 = torch.randn((250, 27), requires_grad=True)\n",
    "b3 = torch.randn(27, requires_grad=True)\n",
    "\n",
    "parameters = [C, W1, b1, W2, b2, W3, b3]\n",
    "\n",
    "n = len(Xtr)"
   ]
  },
  {
   "cell_type": "code",
   "execution_count": 443,
   "id": "b51c253b",
   "metadata": {},
   "outputs": [
    {
     "name": "stdout",
     "output_type": "stream",
     "text": [
      "2.0388288497924805\n"
     ]
    }
   ],
   "source": [
    "# minibatch training loop\n",
    "NUM_ITERS = 300000\n",
    "\n",
    "for i in range(NUM_ITERS):\n",
    "    \n",
    "    # minibatch indices\n",
    "    idxs = torch.randint(0, n, (32,))\n",
    "    \n",
    "    # forward pass\n",
    "    emb = C[Xtr[idxs]].view(-1, 45)\n",
    "    h = (emb @ W1 + b1).tanh()\n",
    "    logits = ((h @ W2 + b2).tanh()) @ W3 + b3\n",
    "\n",
    "    # calculating loss\n",
    "    loss = F.cross_entropy(logits, Ytr[idxs])\n",
    "    \n",
    "    # clearing old gradients\n",
    "    for p in parameters:\n",
    "        p.grad = None\n",
    "    \n",
    "    # backprop & update\n",
    "    loss.backward()\n",
    "    \n",
    "    lr = 0.1 if i < 150000 else 0.01\n",
    "    for p in parameters:\n",
    "        p.data -= lr * p.grad\n",
    "    \n",
    "print(loss.item())"
   ]
  },
  {
   "cell_type": "code",
   "execution_count": 444,
   "id": "d79bb1d1",
   "metadata": {},
   "outputs": [
    {
     "data": {
      "text/plain": [
       "2.178805351257324"
      ]
     },
     "execution_count": 444,
     "metadata": {},
     "output_type": "execute_result"
    }
   ],
   "source": [
    "# loss on val set\n",
    "emb = C[Xval].view(-1, 45)\n",
    "h = (emb @ W1 + b1).tanh()\n",
    "logits = ((h @ W2 + b2).tanh()) @ W3 + b3\n",
    "\n",
    "# calculating loss\n",
    "loss = F.cross_entropy(logits, Yval)\n",
    "loss.item()"
   ]
  },
  {
   "cell_type": "markdown",
   "id": "f3839a30",
   "metadata": {},
   "source": [
    "Notice that we achieve a slightly lower validation loss here since we get to spend more time training the actual difficult part of the model, instead of just spending the first couple iterations squishing the weights."
   ]
  },
  {
   "cell_type": "code",
   "execution_count": 455,
   "id": "f8008e21",
   "metadata": {},
   "outputs": [],
   "source": [
    "# reset params to retrain\n",
    "C = torch.randn((27, 15), requires_grad=True)\n",
    "W1 = torch.randn((45, 250), requires_grad=True)\n",
    "b1 = torch.randn(250, requires_grad=True)\n",
    "\n",
    "W2 = torch.randn((250, 27)) * 0.01\n",
    "W2.requires_grad = True\n",
    "b2 = torch.randn(27 , requires_grad=True)\n",
    "\n",
    "W3 = torch.randn((45, 27), requires_grad=True)\n",
    "\n",
    "parameters = [C, W1, b1, W2, b2, W3]\n",
    "\n",
    "n = len(Xtr)"
   ]
  },
  {
   "cell_type": "code",
   "execution_count": 456,
   "id": "66ec48b8",
   "metadata": {},
   "outputs": [
    {
     "name": "stdout",
     "output_type": "stream",
     "text": [
      "2.0473878383636475\n"
     ]
    }
   ],
   "source": [
    "# minibatch training loop\n",
    "NUM_ITERS = 300000\n",
    "\n",
    "for i in range(NUM_ITERS):\n",
    "    \n",
    "    # minibatch indices\n",
    "    idxs = torch.randint(0, n, (32,))\n",
    "    \n",
    "    # forward pass\n",
    "    emb = C[Xtr[idxs]].view(-1, 45)\n",
    "    h = (emb @ W1 + b1).tanh()\n",
    "    logits = ((h @ W2 + b2).tanh()) + emb @ W3\n",
    "\n",
    "\n",
    "    # calculating loss\n",
    "    loss = F.cross_entropy(logits, Ytr[idxs])\n",
    "    \n",
    "    # clearing old gradients\n",
    "    for p in parameters:\n",
    "        p.grad = None\n",
    "    \n",
    "    # backprop & update\n",
    "    loss.backward()\n",
    "    \n",
    "    lr = 0.1 if i < 150000 else 0.01\n",
    "    for p in parameters:\n",
    "        p.data -= lr * p.grad\n",
    "    \n",
    "print(loss.item())"
   ]
  },
  {
   "cell_type": "code",
   "execution_count": 458,
   "id": "38c2b895",
   "metadata": {},
   "outputs": [
    {
     "data": {
      "text/plain": [
       "2.1723034381866455"
      ]
     },
     "execution_count": 458,
     "metadata": {},
     "output_type": "execute_result"
    }
   ],
   "source": [
    "# loss on val set\n",
    "emb = C[Xval].view(-1, 45)\n",
    "h = (emb @ W1 + b1).tanh()\n",
    "logits = ((h @ W2 + b2).tanh()) + emb @ W3\n",
    "\n",
    "# calculating loss\n",
    "loss = F.cross_entropy(logits, Yval)\n",
    "loss.item()"
   ]
  },
  {
   "cell_type": "markdown",
   "id": "8e02e0cf",
   "metadata": {},
   "source": [
    "Though this did not decrease the loss in any significant way, it we have addded a skip connection. It likely didn't help much since this model is not very deep to begin with."
   ]
  },
  {
   "cell_type": "code",
   "execution_count": null,
   "id": "656eb614",
   "metadata": {},
   "outputs": [],
   "source": []
  }
 ],
 "metadata": {
  "kernelspec": {
   "display_name": "Python 3",
   "language": "python",
   "name": "python3"
  },
  "language_info": {
   "codemirror_mode": {
    "name": "ipython",
    "version": 3
   },
   "file_extension": ".py",
   "mimetype": "text/x-python",
   "name": "python",
   "nbconvert_exporter": "python",
   "pygments_lexer": "ipython3",
   "version": "3.8.8"
  }
 },
 "nbformat": 4,
 "nbformat_minor": 5
}
