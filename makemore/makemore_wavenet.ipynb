{
 "cells": [
  {
   "cell_type": "code",
   "execution_count": 1,
   "id": "5eb2ae17-c7cf-403f-a77a-87add298ead5",
   "metadata": {},
   "outputs": [],
   "source": [
    "import torch\n",
    "import copy\n",
    "import math\n",
    "import random\n",
    "import numpy as np\n",
    "import torch.nn.functional as F\n",
    "import matplotlib.pyplot as plt\n",
    "\n",
    "%matplotlib inline"
   ]
  },
  {
   "cell_type": "code",
   "execution_count": 2,
   "id": "f59e4d52-d653-4c89-bfd9-5e5d46d075cb",
   "metadata": {},
   "outputs": [
    {
     "data": {
      "text/plain": [
       "['emma', 'olivia', 'ava', 'isabella', 'sophia']"
      ]
     },
     "execution_count": 2,
     "metadata": {},
     "output_type": "execute_result"
    }
   ],
   "source": [
    "words = open('names.txt', 'r').read().splitlines()\n",
    "words[:5]"
   ]
  },
  {
   "cell_type": "code",
   "execution_count": 3,
   "id": "0b2bf558-269a-422f-98c2-c5ec49266584",
   "metadata": {},
   "outputs": [],
   "source": [
    "chars = sorted(set(''.join(words)))\n",
    "\n",
    "stoi = {s:i+1 for i,s in enumerate(chars)}\n",
    "stoi['.'] = 0\n",
    "\n",
    "itos = {i:s for s,i in stoi.items()}"
   ]
  },
  {
   "cell_type": "code",
   "execution_count": 24,
   "id": "fcda2c66-5fd1-4758-84c0-d0a7c34aac4f",
   "metadata": {},
   "outputs": [],
   "source": [
    "context_len = 8\n",
    "\n",
    "X, Y = [], []\n",
    "random.shuffle(words)\n",
    "\n",
    "for w in words:  \n",
    "    context = [0] * context_len\n",
    "    for char in w + '.':\n",
    "        X.append(context)\n",
    "        Y.append(stoi[char])  \n",
    "        context = context[1:] + [stoi[char]]\n",
    "        \n",
    "X, Y = torch.tensor(X), torch.tensor(Y)\n",
    "\n",
    "n1, n2 = int(len(X)*0.8), int(len(X)*0.9)\n",
    "Xtr, Ytr = X[:n1], Y[:n1]\n",
    "Xval, Yval = X[n1:n2], Y[n1:n2]\n",
    "Xtest, Ytest = X[n2:], Y[n2:]"
   ]
  },
  {
   "cell_type": "code",
   "execution_count": 26,
   "id": "120d69f6-3d3b-486a-a83b-8aada3e9a443",
   "metadata": {},
   "outputs": [
    {
     "name": "stdout",
     "output_type": "stream",
     "text": [
      "........ --> d\n",
      ".......d --> a\n",
      "......da --> l\n",
      ".....dal --> a\n",
      "....dala --> l\n",
      "...dalal --> .\n",
      "........ --> j\n",
      ".......j --> a\n",
      "......ja --> s\n",
      ".....jas --> p\n",
      "....jasp --> e\n",
      "...jaspe --> n\n",
      "..jaspen --> .\n",
      "........ --> e\n",
      ".......e --> l\n",
      "......el --> a\n",
      ".....ela --> y\n",
      "....elay --> a\n",
      "...elaya --> h\n",
      "..elayah --> .\n"
     ]
    }
   ],
   "source": [
    "for x,y in zip(Xtr[:20], Ytr[:20]):\n",
    "  print(''.join(itos[ix.item()] for ix in x), '-->', itos[y.item()])"
   ]
  },
  {
   "cell_type": "code",
   "execution_count": 40,
   "id": "d33d593f-7cad-4931-aa2f-636ffa40a4ac",
   "metadata": {},
   "outputs": [],
   "source": [
    "class Linear:\n",
    "    \n",
    "    def __init__(self, fan_in, fan_out, bias=True):\n",
    "        self.weight = torch.randn((fan_in, fan_out)) / (fan_in ** 0.5)\n",
    "        self.bias = torch.zeros(fan_out) if bias else None\n",
    "        \n",
    "    def __call__(self, x):\n",
    "        self.out = x @ self.weight\n",
    "        if self.bias is not None:\n",
    "            self.out += self.bias\n",
    "        return self.out\n",
    "    \n",
    "    def parameters(self):\n",
    "        return [self.weight] + ([self.bias] if self.bias is not None else [])\n",
    "    \n",
    "class BatchNorm1d:\n",
    "    \n",
    "    def __init__(self, dim, eps=1e-5, momentum=0.1):\n",
    "        self.eps = eps\n",
    "        self.momentum = momentum\n",
    "        self.training = True\n",
    "        \n",
    "        # params\n",
    "        self.gamma = torch.ones(dim)\n",
    "        self.beta = torch.zeros(dim)\n",
    "        \n",
    "        # buffers maintained with momentum update\n",
    "        self.running_mean = torch.zeros(dim)\n",
    "        self.running_var = torch.ones(dim)\n",
    "        \n",
    "    def __call__(self, x):\n",
    "        if self.training:\n",
    "\n",
    "            if x.ndim == 2:\n",
    "                dim = 0\n",
    "            else:\n",
    "                dim = (0, 1)\n",
    "            \n",
    "            xmean = x.mean(dim, keepdim=True)\n",
    "            xvar = x.var(dim, keepdim=True)\n",
    "        else:\n",
    "            xmean = self.running_mean\n",
    "            xvar = self.running_var\n",
    "        xhat = (x - xmean) / (torch.sqrt(xvar + self.eps))\n",
    "        self.out = self.gamma * xhat + self.beta\n",
    "        \n",
    "        if self.training:\n",
    "            with torch.no_grad():\n",
    "                self.running_mean = (1 - self.momentum) * self.running_mean + self.momentum * xmean\n",
    "                self.running_var = (1 - self.momentum) * self.running_var + self.momentum * xvar\n",
    "        return self.out\n",
    "    \n",
    "    def parameters(self):\n",
    "        return [self.gamma, self.beta]\n",
    "    \n",
    "class Tanh:\n",
    "    \n",
    "    def __call__(self, x):\n",
    "        self.out = x.tanh()\n",
    "        return self.out\n",
    "    \n",
    "    def parameters(self):\n",
    "        return []\n",
    "\n",
    "class Embedding:\n",
    "    def __init__(self, num_embeddings, embedding_dim):\n",
    "        self.weight = torch.randn((num_embeddings, embedding_dim))\n",
    "\n",
    "    def __call__(self, ix):\n",
    "        self.out = self.weight[ix]\n",
    "        return self.out\n",
    "\n",
    "    def parameters(self):\n",
    "        return [self.weight]\n",
    "\n",
    "class Flatten:\n",
    "\n",
    "    def __init__(self, sub_batch):\n",
    "        self.sub_batch = sub_batch\n",
    "\n",
    "    def __call__(self, x):\n",
    "        if self.sub_batch > 1:\n",
    "            self.out = x.view(x.shape[0], self.sub_batch, -1)\n",
    "        else:\n",
    "            self.out = x.view(x.shape[0], -1)\n",
    "        return self.out\n",
    "\n",
    "    def parameters(self):\n",
    "        return []\n",
    "\n",
    "class Sequential:\n",
    "\n",
    "    def __init__(self, layers):\n",
    "        self.layers = layers\n",
    "\n",
    "    def __call__(self, x):\n",
    "        for layer in self.layers:\n",
    "            x = layer(x)\n",
    "        self.out = x\n",
    "        return self.out\n",
    "\n",
    "    def parameters(self):\n",
    "        return [p for layer in self.layers for p in layer.parameters()]"
   ]
  },
  {
   "cell_type": "code",
   "execution_count": 43,
   "id": "22237521-9a4e-468e-9f65-691c4c53d6db",
   "metadata": {},
   "outputs": [
    {
     "name": "stdout",
     "output_type": "stream",
     "text": [
      "188697 parameters\n"
     ]
    }
   ],
   "source": [
    "# defining network\n",
    "vocab_size = len(itos)\n",
    "n_embed = 10\n",
    "n_hidden = 200\n",
    "\n",
    "# output dim listed after each layer\n",
    "model = Sequential([Embedding(vocab_size, n_embed),  # batch_size * context_len * n_emb (e.g. 32 x 8 x 10)\n",
    "                    Flatten(4), # 32 x 4 x 20\n",
    "                    Linear(20, n_hidden, bias=False), # 32 x 4 x 200\n",
    "                    BatchNorm1d(n_hidden), # 32 x 4 x 200\n",
    "                    Flatten(2), # 32 x 2 x 400\n",
    "                    Linear(400, 400, bias=False), # 32 x 2 x 400\n",
    "                    BatchNorm1d(400), # 32 x 2 x 400\n",
    "                    Flatten(1), # 32 x 800\n",
    "                    BatchNorm1d(800), # 32 x 800\n",
    "                    Tanh(), # 32 x 200\n",
    "                    Linear(800, 27)]) # 32 x 27\n",
    "\n",
    "with torch.no_grad():\n",
    "    # reduce confidence of last layer (get closer to uniform)\n",
    "    model.layers[-1].weight *= 0.1\n",
    "    \n",
    "    # apply gain to the rest of the layers (keep activations from fully saturating)\n",
    "    for layer in model.layers[:-1]:\n",
    "        if isinstance(layer, Linear):\n",
    "            layer.weight *= 5/3\n",
    "    \n",
    "# gather all parameters and calculate total number\n",
    "parameters = model.parameters()\n",
    "print(f\"{sum(p.nelement() for p in parameters)} parameters\")\n",
    "\n",
    "for p in parameters:\n",
    "    p.requires_grad = True"
   ]
  },
  {
   "cell_type": "code",
   "execution_count": 44,
   "id": "0f8bbea8-7d03-47f9-a9de-a6b6c52f9fc7",
   "metadata": {},
   "outputs": [
    {
     "name": "stdout",
     "output_type": "stream",
     "text": [
      "      0/ 200000: 3.2914\n",
      "  10000/ 200000: 2.0938\n",
      "  20000/ 200000: 2.8621\n",
      "  30000/ 200000: 2.0614\n",
      "  40000/ 200000: 2.0625\n",
      "  50000/ 200000: 2.4560\n",
      "  60000/ 200000: 2.1709\n",
      "  70000/ 200000: 1.6042\n",
      "  80000/ 200000: 2.1364\n",
      "  90000/ 200000: 2.3785\n",
      " 100000/ 200000: 1.7285\n",
      " 110000/ 200000: 2.4203\n",
      " 120000/ 200000: 1.9201\n",
      " 130000/ 200000: 2.2636\n",
      " 140000/ 200000: 1.8818\n",
      " 150000/ 200000: 2.2313\n",
      " 160000/ 200000: 2.4399\n",
      " 170000/ 200000: 2.1227\n",
      " 180000/ 200000: 1.5423\n",
      " 190000/ 200000: 2.0525\n"
     ]
    }
   ],
   "source": [
    "# same optimization as last time\n",
    "max_steps = 200000\n",
    "batch_size = 32\n",
    "lossi = []\n",
    "\n",
    "for i in range(max_steps):\n",
    "  \n",
    "  # minibatch construct\n",
    "  ix = torch.randint(0, Xtr.shape[0], (batch_size,))\n",
    "  Xb, Yb = Xtr[ix], Ytr[ix] # batch X,Y\n",
    "  \n",
    "  # forward pass\n",
    "  logits = model(Xb)\n",
    "  loss = F.cross_entropy(logits, Yb) # loss function\n",
    "  \n",
    "  # backward pass\n",
    "  for p in parameters:\n",
    "    p.grad = None\n",
    "  loss.backward()\n",
    "  \n",
    "  # update: simple SGD\n",
    "  lr = 0.1 if i < 150000 else 0.01 # step learning rate decay\n",
    "  for p in parameters:\n",
    "    p.data += -lr * p.grad\n",
    "\n",
    "  # track stats\n",
    "  if i % 10000 == 0: # print every once in a while\n",
    "    print(f'{i:7d}/{max_steps:7d}: {loss.item():.4f}')\n",
    "  lossi.append(loss.log10().item())"
   ]
  },
  {
   "cell_type": "code",
   "execution_count": 45,
   "id": "9cbd9653-38a0-43ba-9230-31d62a978924",
   "metadata": {},
   "outputs": [
    {
     "data": {
      "text/plain": [
       "[<matplotlib.lines.Line2D at 0x119823760>]"
      ]
     },
     "execution_count": 45,
     "metadata": {},
     "output_type": "execute_result"
    },
    {
     "data": {
      "image/png": "[encoded data removed]",
      "text/plain": [
       "<Figure size 640x480 with 1 Axes>"
      ]
     },
     "metadata": {},
     "output_type": "display_data"
    }
   ],
   "source": [
    "smooth_loss = torch.tensor(lossi).view(-1, 1000).mean(dim=1)\n",
    "plt.plot(smooth_loss)"
   ]
  },
  {
   "cell_type": "code",
   "execution_count": 46,
   "id": "879aad97-61ca-4327-a1f2-8fcf8f055b2f",
   "metadata": {},
   "outputs": [],
   "source": [
    "for layer in model.layers:\n",
    "    layer.training = False"
   ]
  },
  {
   "cell_type": "code",
   "execution_count": 47,
   "id": "283f7839-db45-435c-932e-8db084b754c3",
   "metadata": {},
   "outputs": [
    {
     "name": "stdout",
     "output_type": "stream",
     "text": [
      "train 1.8934680223464966\n",
      "val 1.980743408203125\n"
     ]
    }
   ],
   "source": [
    "# evaluate the loss\n",
    "@torch.no_grad() # this decorator disables gradient tracking inside pytorch\n",
    "def split_loss(split):\n",
    "  x,y = {\n",
    "    'train': (Xtr, Ytr),\n",
    "    'val': (Xval, Yval),\n",
    "    'test': (Xtest, Ytest),\n",
    "  }[split]\n",
    "  logits = model(x)\n",
    "  loss = F.cross_entropy(logits, y)\n",
    "  print(split, loss.item())\n",
    "\n",
    "split_loss('train')\n",
    "split_loss('val')"
   ]
  },
  {
   "cell_type": "code",
   "execution_count": 48,
   "id": "50f067b4-e994-4f35-981f-9087b766490b",
   "metadata": {},
   "outputs": [
    {
     "name": "stdout",
     "output_type": "stream",
     "text": [
      "verto.\n",
      "gunt.\n",
      "ajya.\n",
      "jailene.\n",
      "annaphraiah.\n",
      "cadflen.\n",
      "areda.\n",
      "izania.\n",
      "holey.\n",
      "getze.\n",
      "aubryah.\n",
      "teliana.\n",
      "brentlen.\n",
      "olata.\n",
      "dezus.\n",
      "trigan.\n",
      "prieanna.\n",
      "adisjah.\n",
      "treidoren.\n",
      "nicola.\n"
     ]
    }
   ],
   "source": [
    "# sample from the model\n",
    "for _ in range(20):\n",
    "    \n",
    "    out = []\n",
    "    context = [0] * context_len # initialize with all ...\n",
    "    while True:\n",
    "      # forward pass the neural net\n",
    "      logits = model(torch.tensor([context]))\n",
    "      probs = F.softmax(logits, dim=1)\n",
    "      # sample from the distribution\n",
    "      ix = torch.multinomial(probs, num_samples=1).item()\n",
    "      # shift the context window and track the samples\n",
    "      context = context[1:] + [ix]\n",
    "      out.append(ix)\n",
    "      # if we sample the special '.' token, break\n",
    "      if ix == 0:\n",
    "        break\n",
    "    \n",
    "    print(''.join(itos[i] for i in out)) # decode and print the generated word"
   ]
  },
  {
   "cell_type": "code",
   "execution_count": null,
   "id": "956905ce-5af5-4d57-9b07-bd40a772cfd0",
   "metadata": {},
   "outputs": [],
   "source": []
  }
 ],
 "metadata": {
  "kernelspec": {
   "display_name": "Python 3 (ipykernel)",
   "language": "python",
   "name": "python3"
  },
  "language_info": {
   "codemirror_mode": {
    "name": "ipython",
    "version": 3
   },
   "file_extension": ".py",
   "mimetype": "text/x-python",
   "name": "python",
   "nbconvert_exporter": "python",
   "pygments_lexer": "ipython3",
   "version": "3.9.6"
  }
 },
 "nbformat": 4,
 "nbformat_minor": 5
}
